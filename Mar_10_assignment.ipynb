{
 "cells": [
  {
   "cell_type": "markdown",
   "metadata": {},
   "source": [
    "# Answer 1\n",
    "\n",
    "Estimation statistics is a branch of statistics that deals with estimating population parameters from sample data. The goal of estimation is to make inferences about an unknown parameter of a population based on information from a sample.\n",
    "\n",
    "Point estimate refers to a single value that is used to estimate a population parameter. For example, the sample mean is a point estimate of the population mean.\n",
    "\n",
    "Interval estimate refers to a range of values that is used to estimate a population parameter. An example of an interval estimate is a confidence interval, which is a range of values that is likely to contain the true population parameter with a certain degree of confidence."
   ]
  },
  {
   "cell_type": "markdown",
   "metadata": {},
   "source": [
    "# Answer 2\n",
    "\n",
    "Here is an example Python function that estimates the population mean using a sample mean and standard deviation:"
   ]
  },
  {
   "cell_type": "code",
   "execution_count": 1,
   "metadata": {},
   "outputs": [],
   "source": [
    "import math\n",
    "\n",
    "def estimate_population_mean(sample_mean, sample_std, sample_size):\n",
    "    # Calculate the standard error of the mean\n",
    "    standard_error = sample_std / math.sqrt(sample_size)\n",
    "    \n",
    "    # Calculate the margin of error (using a 95% confidence level)\n",
    "    margin_of_error = 1.96 * standard_error\n",
    "    \n",
    "    # Calculate the lower and upper bounds of the confidence interval\n",
    "    lower_bound = sample_mean - margin_of_error\n",
    "    upper_bound = sample_mean + margin_of_error\n",
    "    \n",
    "    # Return the interval estimate\n",
    "    return (lower_bound, upper_bound)"
   ]
  },
  {
   "cell_type": "markdown",
   "metadata": {},
   "source": [
    "This function takes in the sample mean, sample standard deviation, and sample size as inputs. It first calculates the standard error of the mean, which is the standard deviation of the sampling distribution of the mean. It then calculates the margin of error using a 95% confidence level (which corresponds to a z-score of 1.96). Finally, it calculates the lower and upper bounds of the confidence interval by subtracting and adding the margin of error to the sample mean, respectively."
   ]
  },
  {
   "cell_type": "markdown",
   "metadata": {},
   "source": [
    "# Answer 3\n",
    "\n",
    "Hypothesis testing is a statistical method used to determine whether a hypothesis about a population parameter is supported by the data. It involves formulating a null hypothesis, which represents the status quo or the default assumption, and an alternative hypothesis, which represents the hypothesis of interest. The null hypothesis is then tested using a significance level, which is the probability of rejecting the null hypothesis when it is actually true. If the p-value (the probability of obtaining a result as extreme or more extreme than the observed result under the null hypothesis) is less than the significance level, the null hypothesis is rejected in favor of the alternative hypothesis.\n",
    "\n",
    "Hypothesis testing is used to make decisions based on data and to test theories and hypotheses about a population. It is an important tool in scientific research, business, medicine, and other fields where decisions are based on data. The results of hypothesis testing can be used to make informed decisions and to draw conclusions about the population of interest."
   ]
  },
  {
   "cell_type": "markdown",
   "metadata": {},
   "source": [
    "# Answer 4\n",
    "\n",
    "The hypothesis is:\n",
    "Null hypothesis (H0): The average weight of male college students is equal to or less than the average weight of female college students.\n",
    "Alternative hypothesis (Ha): The average weight of male college students is greater than the average weight of female college students."
   ]
  },
  {
   "cell_type": "markdown",
   "metadata": {},
   "source": [
    "# Answer 5\n",
    "\n",
    "Here is an example Python script that conducts a two-sample t-test to test the hypothesis that the average weight of male college students is greater than the average weight of female college students:"
   ]
  },
  {
   "cell_type": "code",
   "execution_count": 2,
   "metadata": {},
   "outputs": [
    {
     "name": "stdout",
     "output_type": "stream",
     "text": [
      "t-statistic:  28.0357466856021\n",
      "p-value:  7.323018527927042e-71\n",
      "Reject the null hypothesis\n"
     ]
    }
   ],
   "source": [
    "import numpy as np\n",
    "from scipy.stats import ttest_ind\n",
    "\n",
    "# Generate sample data for male and female college students\n",
    "male_weights = np.random.normal(180, 10, 100)\n",
    "female_weights = np.random.normal(150, 8, 100)\n",
    "\n",
    "# Conduct a two-sample t-test with unequal variances\n",
    "t_stat, p_value = ttest_ind(male_weights, female_weights, equal_var=False)\n",
    "\n",
    "# Print the results\n",
    "print(\"t-statistic: \", t_stat)\n",
    "print(\"p-value: \", p_value)\n",
    "if p_value < 0.05:\n",
    "    print(\"Reject the null hypothesis\")\n",
    "else:\n",
    "    print(\"Fail to reject the null hypothesis\")\n"
   ]
  },
  {
   "cell_type": "markdown",
   "metadata": {},
   "source": [
    "# Answer 6\n",
    "\n",
    "The null hypothesis (H0) is a statement that represents the status quo or the default assumption. It is typically a statement of no difference, no effect, or no relationship between variables. The alternative hypothesis (Ha) is a statement that represents the hypothesis of interest. It is typically a statement of a difference, an effect, or a relationship between variables.\n",
    "\n",
    "Examples of null and alternative hypotheses include:\n",
    "\n",
    "Null hypothesis: The mean score of group A is equal to the mean score of group B.\n",
    "Alternative hypothesis: The mean score of group A is different from the mean score of group B.\n",
    "\n",
    "Null hypothesis: The treatment has no effect on the outcome.\n",
    "Alternative hypothesis: The treatment has a significant effect on the outcome.\n",
    "\n",
    "Null hypothesis: There is no correlation between age and income.\n",
    "Alternative hypothesis: There is a significant correlation between age and income.\n",
    "\n",
    "Null hypothesis: The proportion of defective items is less than or equal to 5%.\n",
    "Alternative hypothesis: The proportion of defective items is greater than 5%."
   ]
  },
  {
   "cell_type": "markdown",
   "metadata": {},
   "source": [
    "# Answer 7\n",
    "\n",
    "The steps involved in hypothesis testing are as follows:\n",
    "\n",
    "1) State the null and alternative hypotheses.\n",
    "\n",
    "2) Choose a significance level (alpha).\n",
    "\n",
    "3) Determine the appropriate statistical test to use based on the type of data and the hypothesis being tested.\n",
    "\n",
    "4) Collect sample data and calculate the test statistic.\n",
    "\n",
    "5) Calculate the p-value of the test statistic.\n",
    "\n",
    "6) Compare the p-value to the significance level.\n",
    "\n",
    "7) Make a decision based on the p-value and the significance level. If the p-value is less than the significance level, reject the null hypothesis. Otherwise, fail to reject the null hypothesis."
   ]
  },
  {
   "cell_type": "markdown",
   "metadata": {},
   "source": [
    "# Answer 8\n",
    "\n",
    "The p-value is the probability of obtaining a test statistic as extreme or more extreme than the observed value, assuming the null hypothesis is true. In hypothesis testing, the p-value is compared to the significance level to determine whether to reject or fail to reject the null hypothesis. If the p-value is less than the significance level, there is evidence to reject the null hypothesis in favor of the alternative hypothesis. If the p-value is greater than the significance level, there is not enough evidence to reject the null hypothesis."
   ]
  },
  {
   "cell_type": "markdown",
   "metadata": {},
   "source": [
    "# Answer 9\n",
    "\n",
    "Here is an example Python script that generates a Student's t-distribution plot with 10 degrees of freedom using the matplotlib.pyplot library:"
   ]
  },
  {
   "cell_type": "code",
   "execution_count": 3,
   "metadata": {},
   "outputs": [
    {
     "data": {
      "image/png": "[encoded data removed]",
      "text/plain": [
       "<Figure size 432x288 with 1 Axes>"
      ]
     },
     "metadata": {
      "needs_background": "light"
     },
     "output_type": "display_data"
    }
   ],
   "source": [
    "import numpy as np\n",
    "import matplotlib.pyplot as plt\n",
    "from scipy.stats import t\n",
    "\n",
    "# Define the degrees of freedom\n",
    "df = 10\n",
    "\n",
    "# Generate a range of x-values\n",
    "x = np.linspace(t.ppf(0.001, df), t.ppf(0.999, df), 1000)\n",
    "\n",
    "# Calculate the probability density function for each x-value\n",
    "pdf = t.pdf(x, df)\n",
    "\n",
    "# Create the plot\n",
    "plt.plot(x, pdf)\n",
    "plt.title(\"Student's t-Distribution with df=10\")\n",
    "plt.xlabel(\"x\")\n",
    "plt.ylabel(\"Probability density\")\n",
    "plt.show()\n"
   ]
  },
  {
   "cell_type": "markdown",
   "metadata": {},
   "source": [
    "# Answer 10\n"
   ]
  },
  {
   "cell_type": "code",
   "execution_count": 4,
   "metadata": {},
   "outputs": [
    {
     "name": "stdout",
     "output_type": "stream",
     "text": [
      "t-statistic: -7.966140798027842\n",
      "p-value: 1.2612859726669457e-13\n"
     ]
    }
   ],
   "source": [
    "import numpy as np\n",
    "from scipy.stats import ttest_ind\n",
    "\n",
    "# Generate two random samples of equal size\n",
    "sample1 = np.random.normal(10, 2, 100)\n",
    "sample2 = np.random.normal(12, 2, 100)\n",
    "\n",
    "# Calculate the t-statistic and p-value\n",
    "t_statistic, p_value = ttest_ind(sample1, sample2)\n",
    "\n",
    "# Print the results\n",
    "print(\"t-statistic:\", t_statistic)\n",
    "print(\"p-value:\", p_value)\n"
   ]
  },
  {
   "cell_type": "markdown",
   "metadata": {},
   "source": [
    "# Answer 11\n",
    "\n",
    "The Student's t-distribution is a probability distribution that arises when estimating the mean of a normally distributed population using a small sample. It is similar to the standard normal distribution, but has heavier tails and a flatter peak. The t-distribution is used when the sample size is small (typically less than 30) and the population standard deviation is unknown.\n",
    "\n"
   ]
  },
  {
   "cell_type": "markdown",
   "metadata": {},
   "source": [
    "# Answer 12\n",
    "\n",
    "The t-statistic is a measure of the difference between the sample mean and the hypothesized population mean, relative to the standard error of the mean. It is calculated as follows:\n",
    "\n",
    "t = (x̄ - μ) / (s / √n)\n",
    "\n",
    "where:\n",
    "\n",
    "x̄ is the sample mean\n",
    "\n",
    "μ is the hypothesized population mean (under the null hypothesis)\n",
    "\n",
    "s is the sample standard deviation\n",
    "\n",
    "n is the sample size\n",
    "\n",
    "The t-statistic follows a t-distribution with n-1 degrees of freedom, under the assumption that the sample is drawn from a normal population with unknown standard deviation."
   ]
  },
  {
   "cell_type": "markdown",
   "metadata": {},
   "source": [
    "# Answer 13\n",
    "\n",
    "To estimate the population mean revenue with a 95% confidence interval, we can use the following formula:\n",
    "\n",
    "Confidence interval = sample mean ± margin of error\n",
    "\n",
    "where the margin of error is given by:\n",
    "\n",
    "Margin of error = z * (standard deviation / √n)\n",
    "\n",
    "Here, z is the critical value from the standard normal distribution corresponding to a 95% confidence level, which is approximately 1.96.\n",
    "\n",
    "Substituting the given values, we get:\n",
    "\n",
    "Margin of error = 1.96 * (50 / √50) = 13.89\n",
    "\n",
    "Therefore, the 95% confidence interval for the population mean revenue is:\n",
    "\n",
    "500 ± 13.89, or (486.11, 513.89)\n",
    "\n",
    "This means we can be 95% confident that the true population mean revenue falls within this interval."
   ]
  },
  {
   "cell_type": "markdown",
   "metadata": {},
   "source": [
    "# Answer 14\n",
    "\n",
    "To test the hypothesis that the new drug decreases blood pressure by 10 mmHg, we can use a one-sample t-test with the following null and alternative hypotheses:\n",
    "\n",
    "Null hypothesis: The true mean decrease in blood pressure is equal to 10 mmHg.\n",
    "Alternative hypothesis: The true mean decrease in blood pressure is less than 10 mmHg.\n",
    "\n",
    "We can use the t-statistic to test the null hypothesis, which is given by:\n",
    "\n",
    "t = (sample mean - hypothesized mean) / (standard deviation / √n)\n",
    "\n",
    "Substituting the given values, we get:\n",
    "\n",
    "t = (8 - 10) / (3 / √100) = -4.47\n",
    "\n",
    "The degrees of freedom for this test are n-1 = 99. Using a t-distribution table or calculator with 99 degrees of freedom, we find that the p-value for a one-tailed test with a t-statistic of -4.47 is approximately 0.00002.\n",
    "\n",
    "Since the p-value is less than the significance level of 0.05, we reject the null hypothesis and conclude that the new drug does indeed decrease blood pressure by less than 10 mmHg."
   ]
  },
  {
   "cell_type": "markdown",
   "metadata": {},
   "source": [
    "# Answer 15\n",
    "\n",
    "To test the hypothesis that the true mean weight of the products is less than 5 pounds, we can use a one-sample t-test with the following null and alternative hypotheses:\n",
    "\n",
    "Null hypothesis: The true mean weight of the products is equal to 5 pounds.\n",
    "Alternative hypothesis: The true mean weight of the products is less than 5 pounds.\n",
    "\n",
    "We can use the t-statistic to test the null hypothesis, which is given by:\n",
    "\n",
    "t = (sample mean - hypothesized mean) / (standard deviation / √n)\n",
    "\n",
    "Substituting the given values, we get:\n",
    "\n",
    "t = (4.8 - 5) / (0.5 / √25) = -2.00\n",
    "\n",
    "The degrees of freedom for this test are n-1 = 24. Using a t-distribution table or calculator with 24 degrees of freedom, we find that the p-value for a one-tailed test with a t-statistic of -2.00 is approximately 0.030.\n",
    "\n",
    "Since the p-value is greater than the significance level of 0.01, we fail to reject the null hypothesis and conclude that there is not enough evidence to suggest that the true mean weight of the products is less than 5 pounds."
   ]
  },
  {
   "cell_type": "markdown",
   "metadata": {},
   "source": [
    "# Answer 16\n",
    "\n",
    "To test the hypothesis that the population means for the two groups are equal, we can use a two-sample t-test with the following null and alternative hypotheses:\n",
    "\n",
    "Null hypothesis: The true difference in population means is equal to 0.\n",
    "Alternative hypothesis: The true difference in population means is not equal to 0.\n",
    "\n",
    "We can use the t-statistic to test the null hypothesis, which is given by:\n",
    "\n",
    "t = (sample mean difference - hypothesized difference) / (pooled standard deviation * √(1/n1 + 1/n2))\n",
    "\n",
    "where the sample mean difference is (80 - 75) = 5, the hypothesized difference is 0, and the pooled standard deviation is given by:\n",
    "\n",
    "pooled standard deviation = √((n1-1)*s1^2 + (n2-1)*s2^2) / (n1+n2-2)\n",
    "\n",
    "Substituting the given values, we get:\n",
    "\n",
    "pooled standard deviation = √((29100) + (3964)) / (30+40-2) = 9.07\n",
    "t = (5 - 0) / (9.07 * √(1/30 + 1/40)) = 2.16\n",
    "\n",
    "The degrees of freedom for this test are (n1+n2-2) = 68. Using a t-distribution table or calculator with 68 degrees of freedom and a significance level of 0.01, we find that the critical values for a two-tailed test are approximately ±2.67.\n",
    "\n",
    "Since the calculated t-statistic of 2.16 falls within the acceptance region between -2.67 and 2.67, we fail to reject the null hypothesis and conclude that there is not enough evidence to suggest that the population means for the two groups are different at a significance level of 0.01."
   ]
  },
  {
   "cell_type": "markdown",
   "metadata": {},
   "source": [
    "# Answer 17\n",
    "\n",
    "To estimate the population mean with a 99% confidence interval, we can use the following formula:\n",
    "\n",
    "Confidence Interval = X̄ ± Zα/2 * (σ/√n)\n",
    "\n",
    "where X̄ is the sample mean, Zα/2 is the critical value of the standard normal distribution corresponding to the desired level of confidence, σ is the population standard deviation (which is unknown, so we will use the sample standard deviation instead), and n is the sample size.\n",
    "\n",
    "Here, X̄ = 4, σ = 1.5, n = 50, and we want a 99% confidence interval. The critical value for a 99% confidence interval with a two-tailed test is Zα/2 = 2.576 (obtained from a standard normal distribution table or using Python's scipy.stats.norm.ppf() function).\n",
    "\n",
    "Substituting these values into the formula, we get:\n",
    "\n",
    "Confidence Interval = 4 ± 2.576 * (1.5/√50)\n",
    "= 4 ± 0.616\n",
    "= (3.384, 4.616)\n",
    "\n",
    "Therefore, we can say with 99% confidence that the true population mean number of ads watched by viewers during a TV program lies between 3.384 and 4.616."
   ]
  },
  {
   "cell_type": "code",
   "execution_count": null,
   "metadata": {},
   "outputs": [],
   "source": []
  }
 ],
 "metadata": {
  "kernelspec": {
   "display_name": "Python 3",
   "language": "python",
   "name": "python3"
  },
  "language_info": {
   "codemirror_mode": {
    "name": "ipython",
    "version": 3
   },
   "file_extension": ".py",
   "mimetype": "text/x-python",
   "name": "python",
   "nbconvert_exporter": "python",
   "pygments_lexer": "ipython3",
   "version": "3.8.5"
  }
 },
 "nbformat": 4,
 "nbformat_minor": 4
}
