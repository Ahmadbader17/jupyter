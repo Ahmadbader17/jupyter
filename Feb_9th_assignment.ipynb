{
 "cells": [
  {
   "cell_type": "markdown",
   "metadata": {},
   "source": [
    "# Answer 1\n",
    "\n",
    "Here's an example of how you can create a Vehicle class in Python with an __init__ method that initializes instance variables for name_of_vehicle, max_speed, and average_of_vehicle:"
   ]
  },
  {
   "cell_type": "code",
   "execution_count": 1,
   "metadata": {},
   "outputs": [],
   "source": [
    "class Vehicle:\n",
    "    def __init__(self, name_of_vehicle, max_speed, average_of_vehicle):\n",
    "        self.name_of_vehicle = name_of_vehicle\n",
    "        self.max_speed = max_speed\n",
    "        self.average_of_vehicle = average_of_vehicle"
   ]
  },
  {
   "cell_type": "markdown",
   "metadata": {},
   "source": [
    "In this example, name_of_vehicle, max_speed, and average_of_vehicle are the instance variables of the Vehicle class. When an instance of the Vehicle class is created, the __init__ method is called and these instance variables are initialized with the values passed as arguments.\n",
    "\n",
    "You can create an instance of the Vehicle class by calling the class and passing in the required arguments:"
   ]
  },
  {
   "cell_type": "code",
   "execution_count": 2,
   "metadata": {},
   "outputs": [],
   "source": [
    "car = Vehicle(\"Toyota Camry\", 200, 35)"
   ]
  },
  {
   "cell_type": "markdown",
   "metadata": {},
   "source": [
    "In this example, we create an instance of Vehicle with the name \"Toyota Camry\", a max_speed of 200 and an average_of_vehicle of 35.\n",
    "\n",
    "You can access the instance variables of car using dot notation:"
   ]
  },
  {
   "cell_type": "code",
   "execution_count": 3,
   "metadata": {},
   "outputs": [
    {
     "name": "stdout",
     "output_type": "stream",
     "text": [
      "Toyota Camry\n",
      "200\n",
      "35\n"
     ]
    }
   ],
   "source": [
    "print(car.name_of_vehicle)      \n",
    "print(car.max_speed)            \n",
    "print(car.average_of_vehicle)   "
   ]
  },
  {
   "cell_type": "markdown",
   "metadata": {},
   "source": [
    "# Answer 2\n",
    "\n",
    "Here's an example of how you can create a child class Car that inherits from the Vehicle class created in the previous question, and add a method seating_capacity to it:"
   ]
  },
  {
   "cell_type": "code",
   "execution_count": 4,
   "metadata": {},
   "outputs": [],
   "source": [
    "class Car(Vehicle):\n",
    "    def seating_capacity(self, capacity):\n",
    "        return f\"{self.name_of_vehicle} has a seating capacity of {capacity} people.\""
   ]
  },
  {
   "cell_type": "markdown",
   "metadata": {},
   "source": [
    "In this example, we define a new class Car that inherits from the Vehicle class. The seating_capacity method takes a parameter capacity and returns a string that includes the name of the vehicle and its seating capacity.\n",
    "\n",
    "To create an instance of the Car class, you can use the __init__ method inherited from the Vehicle class:"
   ]
  },
  {
   "cell_type": "code",
   "execution_count": 5,
   "metadata": {},
   "outputs": [],
   "source": [
    "car = Car(\"Toyota Camry\", 200, 35)"
   ]
  },
  {
   "cell_type": "markdown",
   "metadata": {},
   "source": [
    "Once you have created an instance of the Car class, you can call the seating_capacity method to get the name of the vehicle and its seating capacity:"
   ]
  },
  {
   "cell_type": "code",
   "execution_count": 6,
   "metadata": {},
   "outputs": [
    {
     "name": "stdout",
     "output_type": "stream",
     "text": [
      "Toyota Camry has a seating capacity of 5 people.\n"
     ]
    }
   ],
   "source": [
    "print(car.seating_capacity(5))   "
   ]
  },
  {
   "cell_type": "markdown",
   "metadata": {},
   "source": [
    "In this example, we call the seating_capacity method with a seating capacity of 5, and it returns a string that includes the name of the vehicle and its seating capacity."
   ]
  },
  {
   "cell_type": "markdown",
   "metadata": {},
   "source": [
    "# Answer 3\n",
    "\n",
    "Multiple inheritance is a feature in object-oriented programming that allows a class to inherit properties and methods from multiple parent classes. In Python, you can implement multiple inheritance by listing the parent classes in the class definition separated by commas.\n",
    "Here's an example of how to implement multiple inheritance in Python:"
   ]
  },
  {
   "cell_type": "code",
   "execution_count": 7,
   "metadata": {},
   "outputs": [
    {
     "name": "stdout",
     "output_type": "stream",
     "text": [
      "Rufus\n",
      "dog\n",
      "Rufus is a dog.\n"
     ]
    }
   ],
   "source": [
    "class Animal:\n",
    "    def __init__(self, species):\n",
    "        self.species = species\n",
    "\n",
    "    def get_species(self):\n",
    "        return self.species\n",
    "\n",
    "class Pet:\n",
    "    def __init__(self, name):\n",
    "        self.name = name\n",
    "\n",
    "    def get_name(self):\n",
    "        return self.name\n",
    "\n",
    "class Dog(Animal, Pet):\n",
    "    def __init__(self, name, species):\n",
    "        Animal.__init__(self, species)\n",
    "        Pet.__init__(self, name)\n",
    "\n",
    "    def __str__(self):\n",
    "        return f\"{self.name} is a {self.species}.\"\n",
    "\n",
    "dog = Dog(\"Rufus\", \"dog\")\n",
    "print(dog.get_name())        # Output: Rufus\n",
    "print(dog.get_species())     # Output: dog\n",
    "print(dog)                   # Output: Rufus is a dog."
   ]
  },
  {
   "cell_type": "markdown",
   "metadata": {},
   "source": [
    "In this example, we define three classes: Animal, Pet, and Dog. The Animal class has an __init__ method that initializes the species attribute and a get_species method that returns the species. The Pet class has an __init__ method that initializes the name attribute and a get_name method that returns the name. The Dog class inherits from both Animal and Pet using multiple inheritance.\n",
    "\n",
    "The Dog class has an __init__ method that calls the __init__ methods of both parent classes using the Animal.__init__(self, species) and Pet.__init__(self, name) syntax. The __str__ method is used to provide a string representation of the dog object.\n",
    "\n",
    "We then create an instance of the Dog class with the name \"Rufus\" and species \"dog\". We can then call the get_name and get_species methods on the dog object to get its name and species, respectively. We can also print the dog object directly, which will call the __str__ method and display a string representation of the object.\n",
    "\n",
    "This is just a simple example, but it demonstrates how multiple inheritance can be used to combine functionality from multiple parent classes into a single child class."
   ]
  },
  {
   "cell_type": "markdown",
   "metadata": {},
   "source": [
    "# Answer 4\n",
    "\n",
    "Getter and setter methods are used in object-oriented programming to encapsulate the access to an object's attributes. A getter method returns the value of an attribute, and a setter method sets the value of an attribute.\n",
    "\n",
    "In Python, you can define getter and setter methods using the @property and @<attribute>.setter decorators.\n",
    "\n",
    "Here's an example of how to create a class with a getter and a setter method for an attribute named name:"
   ]
  },
  {
   "cell_type": "code",
   "execution_count": 8,
   "metadata": {},
   "outputs": [],
   "source": [
    "class Person:\n",
    "    def __init__(self, name):\n",
    "        self._name = name   # Note the use of a single underscore to indicate a protected attribute.\n",
    "\n",
    "    @property\n",
    "    def name(self):\n",
    "        return self._name\n",
    "\n",
    "    @name.setter\n",
    "    def name(self, name):\n",
    "        self._name = name\n"
   ]
  },
  {
   "cell_type": "markdown",
   "metadata": {},
   "source": [
    "In this example, we define a class Person with a constructor that takes a name argument and initializes a protected attribute _name with the value of the argument.\n",
    "\n",
    "We then define a getter method for the name attribute using the @property decorator. The name method returns the value of the _name attribute.\n",
    "\n",
    "We also define a setter method for the name attribute using the @name.setter decorator. The name method takes a name argument and sets the value of the _name attribute to the value of the argument.\n",
    "\n",
    "To create an instance of the Person class, you can use the constructor and set the name attribute using the setter method:"
   ]
  },
  {
   "cell_type": "code",
   "execution_count": 10,
   "metadata": {},
   "outputs": [
    {
     "name": "stdout",
     "output_type": "stream",
     "text": [
      "Bader\n"
     ]
    }
   ],
   "source": [
    "person = Person(\"Ahmad\")\n",
    "person.name = \"Bader\"\n",
    "print(person.name)   "
   ]
  },
  {
   "cell_type": "markdown",
   "metadata": {},
   "source": [
    "In this example, we create an instance of the Person class with the name \"Ahmad\". We then set the name to \"Bader\" using the setter method, and print the name using the getter method. The output will be \"Bader\"."
   ]
  },
  {
   "cell_type": "markdown",
   "metadata": {},
   "source": [
    "# Answer 5\n",
    "\n",
    "Method overriding is a feature of object-oriented programming that allows a subclass to provide a different implementation of a method that is already defined in its superclass. When a method is called on an instance of the subclass, the overridden method in the subclass is executed instead of the method in the superclass.\n",
    "\n",
    "Here's an example of how to demonstrate method overriding in Python:"
   ]
  },
  {
   "cell_type": "code",
   "execution_count": 11,
   "metadata": {},
   "outputs": [
    {
     "name": "stdout",
     "output_type": "stream",
     "text": [
      "The animal makes a sound.\n",
      "The dog barks.\n",
      "The cat meows.\n"
     ]
    }
   ],
   "source": [
    "class Animal:\n",
    "    def make_sound(self):\n",
    "        print(\"The animal makes a sound.\")\n",
    "\n",
    "class Dog(Animal):\n",
    "    def make_sound(self):\n",
    "        print(\"The dog barks.\")\n",
    "\n",
    "class Cat(Animal):\n",
    "    def make_sound(self):\n",
    "        print(\"The cat meows.\")\n",
    "\n",
    "animal = Animal()\n",
    "dog = Dog()\n",
    "cat = Cat()\n",
    "\n",
    "animal.make_sound()\n",
    "dog.make_sound()\n",
    "cat.make_sound()\n"
   ]
  },
  {
   "cell_type": "markdown",
   "metadata": {},
   "source": [
    "In this example, we define a base class Animal with a method make_sound that prints a generic message.\n",
    "\n",
    "We then define two subclasses Dog and Cat that inherit from Animal and override the make_sound method with their own implementations.\n",
    "\n",
    "Finally, we create instances of the Animal, Dog, and Cat classes and call the make_sound method on each of them. When we call make_sound on an instance of Dog or Cat, their overridden make_sound methods are called instead of the one defined in Animal."
   ]
  },
  {
   "cell_type": "code",
   "execution_count": null,
   "metadata": {},
   "outputs": [],
   "source": []
  }
 ],
 "metadata": {
  "kernelspec": {
   "display_name": "Python 3",
   "language": "python",
   "name": "python3"
  },
  "language_info": {
   "codemirror_mode": {
    "name": "ipython",
    "version": 3
   },
   "file_extension": ".py",
   "mimetype": "text/x-python",
   "name": "python",
   "nbconvert_exporter": "python",
   "pygments_lexer": "ipython3",
   "version": "3.8.5"
  }
 },
 "nbformat": 4,
 "nbformat_minor": 4
}
