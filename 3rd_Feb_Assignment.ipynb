{
  "metadata": {
    "kernelspec": {
      "name": "python",
      "display_name": "Python (Pyodide)",
      "language": "python"
    },
    "language_info": {
      "codemirror_mode": {
        "name": "python",
        "version": 3
      },
      "file_extension": ".py",
      "mimetype": "text/x-python",
      "name": "python",
      "nbconvert_exporter": "python",
      "pygments_lexer": "ipython3",
      "version": "3.8"
    }
  },
  "nbformat_minor": 5,
  "nbformat": 4,
  "cells": [
    {
      "cell_type": "markdown",
      "source": "# Answer 1\n\nIn Python, the keyword used to create a function is def. Here is an example function that returns a list of odd numbers in the range of 1 to 25:",
      "metadata": {},
      "id": "01457238-5078-41d1-a4ff-25345473174c"
    },
    {
      "cell_type": "code",
      "source": "def get_odd_numbers():\n    odd_numbers = []\n    for num in range(1, 26):\n        if num % 2 == 1:\n            odd_numbers.append(num)\n    return odd_numbers",
      "metadata": {
        "trusted": true
      },
      "execution_count": 1,
      "outputs": [],
      "id": "2495e582-98dd-4ea3-9457-a94fd09efa8b"
    },
    {
      "cell_type": "markdown",
      "source": "This function defines a list called odd_numbers and uses a for loop to iterate over the range of numbers from 1 to 25. For each number in the range, it checks if the number is odd (by checking if the remainder of the number divided by 2 is 1), and if it is, it adds it to the odd_numbers list. Finally, the function returns the list of odd numbers.",
      "metadata": {},
      "id": "64fdc9f2-602f-48ad-836b-8d16790e9384"
    },
    {
      "cell_type": "markdown",
      "source": "# Answer 2\n\nIn Python, *args and **kwargs are used to pass a variable number of arguments to a function.\n\n*args is used to pass a variable number of non-keyword arguments to a function. It allows you to pass any number of arguments to a function. When you use *args in a function definition, all the non-keyword arguments that are passed to the function are collected into a tuple. Here is an example function that uses *args to add any number of numbers passed to it:",
      "metadata": {},
      "id": "2ea0417c-16f7-4c2f-940d-8989b78689a3"
    },
    {
      "cell_type": "code",
      "source": "def add_numbers(*args):\n    result = 0\n    for num in args:\n        result += num\n    return result",
      "metadata": {
        "trusted": true
      },
      "execution_count": 4,
      "outputs": [],
      "id": "29b6ab8d-d5f2-4dba-b51a-0f110914dc62"
    },
    {
      "cell_type": "markdown",
      "source": "When you call this function, you can pass any number of arguments, like this:",
      "metadata": {},
      "id": "86ce0a5f-6e30-4c94-9e67-a8c4f55c4b23"
    },
    {
      "cell_type": "code",
      "source": "print(add_numbers(1, 2, 3))\nprint(add_numbers(4, 5, 6, 7))",
      "metadata": {
        "trusted": true
      },
      "execution_count": 5,
      "outputs": [
        {
          "name": "stdout",
          "text": "6\n22\n",
          "output_type": "stream"
        }
      ],
      "id": "c26ac0c2-2a39-43b6-9d53-85fa9caf94cb"
    },
    {
      "cell_type": "markdown",
      "source": "**kwargs is used to pass a variable number of keyword arguments to a function. It allows you to pass any number of keyword arguments to a function. When you use **kwargs in a function definition, all the keyword arguments that are passed to the function are collected into a dictionary. Here is an example function that uses **kwargs to print the values of any number of key-value pairs passed to it:",
      "metadata": {},
      "id": "d163cd02-c54a-48e7-831f-84239fd0ade7"
    },
    {
      "cell_type": "code",
      "source": "def print_values(**kwargs):\n    for key, value in kwargs.items():\n        print(key, \":\", value)",
      "metadata": {
        "trusted": true
      },
      "execution_count": 6,
      "outputs": [],
      "id": "40b8e53c-bc0e-419f-b609-ff504fadab10"
    },
    {
      "cell_type": "markdown",
      "source": "When you call this function, you can pass any number of key-value pairs, like this:",
      "metadata": {},
      "id": "35a63166-aa5e-42c1-8e1e-77fe6b75fc4f"
    },
    {
      "cell_type": "code",
      "source": "print_values(name=\"Ahmad\", age=25, city=\"Lucknow\")",
      "metadata": {
        "trusted": true
      },
      "execution_count": 7,
      "outputs": [
        {
          "name": "stdout",
          "text": "name : Ahmad\nage : 25\ncity : Lucknow\n",
          "output_type": "stream"
        }
      ],
      "id": "baf76908-da43-4bf4-be8d-05910109b19d"
    },
    {
      "cell_type": "markdown",
      "source": "In this example, the **kwargs parameter collects the key-value pairs as a dictionary, and the function prints the key-value pairs using a for loop.",
      "metadata": {},
      "id": "c389d1c6-116b-4756-a421-a964d38af6d4"
    },
    {
      "cell_type": "markdown",
      "source": "# Answer 3\n\nn Python, an iterator is an object that allows you to traverse a sequence of data, one item at a time. An iterator is an object that implements the __iter__() and __next__() methods. The __iter__() method returns the iterator object itself, while the __next__() method returns the next value from the iterator.\nYou can use the built-in iter() method to initialize an iterator object for a sequence, such as a list. You can then use the next() method to iterate over the elements in the sequence. Here is an example of how to use an iterator to print the first five elements of the list [2, 4, 6, 8, 10, 12, 14, 16, 18, 20]:",
      "metadata": {},
      "id": "36be14c7-37b6-4d7e-a442-9f4bca4dc7f3"
    },
    {
      "cell_type": "code",
      "source": "my_list = [2, 4, 6, 8, 10, 12, 14, 16, 18, 20]\nmy_iterator = iter(my_list)\nfor i in range(5):\n    print(next(my_iterator))",
      "metadata": {
        "trusted": true
      },
      "execution_count": 8,
      "outputs": [
        {
          "name": "stdout",
          "text": "2\n4\n6\n8\n10\n",
          "output_type": "stream"
        }
      ],
      "id": "f172c43e-9e8d-4a29-b83f-c0301493ce28"
    },
    {
      "cell_type": "markdown",
      "source": "In this example, we create a list called my_list and initialize an iterator object called my_iterator using the iter() method. We then use a for loop and the next() method to iterate over the first five elements in the list, printing each element as we go. ",
      "metadata": {},
      "id": "294bdc11-c6c2-4843-ba0e-72c1ace133e4"
    },
    {
      "cell_type": "markdown",
      "source": "# Answer 4\n\nWhat is a generator function in python? Why yield keyword is used? Give an example of a generator function.",
      "metadata": {},
      "id": "54cec382-d3ee-4135-813b-f5bee1bd7c17"
    },
    {
      "cell_type": "markdown",
      "source": "In Python, a generator function is a special type of function that generates a sequence of values on-the-fly, rather than returning a single value. A generator function is defined like a normal function, but instead of using the return keyword to return a value, it uses the yield keyword to yield a value. Each time the yield keyword is encountered, the function's state is saved, and the value is returned to the caller. The next time the function is called, it resumes execution from where it left off, and continues yielding values.\nThe yield keyword is used in generator functions to indicate where the function should pause and save its state, so that it can be resumed later. When a generator function is called, it returns a generator object, which can be iterated over to retrieve the values yielded by the function.\nHere is an example of a generator function that generates the first n even numbers:",
      "metadata": {},
      "id": "12b8e2ed-7394-4cb0-80ba-5d49b6caf320"
    },
    {
      "cell_type": "code",
      "source": "def generate_even_numbers(n):\n    for i in range(2, 2*n+1, 2):\n        yield i",
      "metadata": {
        "trusted": true
      },
      "execution_count": 9,
      "outputs": [],
      "id": "02a0b4f1-78e9-4869-a536-aa4b1cd9ee3d"
    },
    {
      "cell_type": "code",
      "source": "for num in generate_even_numbers(5):\n    print(num)",
      "metadata": {
        "trusted": true
      },
      "execution_count": 10,
      "outputs": [
        {
          "name": "stdout",
          "text": "2\n4\n6\n8\n10\n",
          "output_type": "stream"
        }
      ],
      "id": "12a23a6f-443a-413f-97cd-b240f537c644"
    },
    {
      "cell_type": "markdown",
      "source": "In this example, we use a for loop to iterate over the values generated by the generate_even_numbers() generator function, printing each value as we go. ",
      "metadata": {},
      "id": "ac7103da-3bbd-40ad-8f4f-97aa33029efc"
    },
    {
      "cell_type": "markdown",
      "source": "# Answer 5\n\nHere's an example of a generator function for generating prime numbers less than 1000:",
      "metadata": {},
      "id": "b5624ea7-a9ee-4c3d-bfc4-881b4ccbd497"
    },
    {
      "cell_type": "code",
      "source": "def generate_primes():\n    yield 2\n    primes = [2]\n    num = 3\n    while num < 1000:\n        for p in primes:\n            if num % p == 0:\n                break\n        else:\n            primes.append(num)\n            yield num\n        num += 2",
      "metadata": {
        "trusted": true
      },
      "execution_count": 11,
      "outputs": [],
      "id": "b7d4dcc4-1154-4c49-b2f0-75247895a9c4"
    },
    {
      "cell_type": "markdown",
      "source": "In this example, we define a generator function called generate_primes() that uses a while loop to generate prime numbers less than 1000. The function starts by yielding the first prime number, 2, and initializes a list of primes containing only 2. It then enters a while loop that generates odd numbers starting from 3, and uses a for loop to test if each number is divisible by any of the primes in the list. If the number is not divisible by any of the primes, it is added to the list of primes, and yielded by the generator. The while loop continues until the largest prime in the list is greater than or equal to 1000.\n\nTo print the first 20 prime numbers generated by this function, we can use the next() method to retrieve the next value generated by the generator, and print each value as we go:",
      "metadata": {},
      "id": "9c107be3-b515-460a-b732-4f551622b0bc"
    },
    {
      "cell_type": "code",
      "source": "prime_generator = generate_primes()\n\nfor i in range(20):\n    print(next(prime_generator))",
      "metadata": {
        "trusted": true
      },
      "execution_count": 12,
      "outputs": [
        {
          "name": "stdout",
          "text": "2\n3\n5\n7\n11\n13\n17\n19\n23\n29\n31\n37\n41\n43\n47\n53\n59\n61\n67\n71\n",
          "output_type": "stream"
        }
      ],
      "id": "e3d4b20f-eb0b-4146-a953-774b244c5f8f"
    },
    {
      "cell_type": "markdown",
      "source": "In this example, we create a generator object called prime_generator by calling the generate_primes() function. We then use a for loop and the next() method to retrieve the first 20 prime numbers generated by the function, printing each number as we go.",
      "metadata": {},
      "id": "09fe31c1-9285-49f1-8c60-24a41dc83df5"
    },
    {
      "cell_type": "code",
      "source": "",
      "metadata": {},
      "execution_count": null,
      "outputs": [],
      "id": "b8d0dd27-4de6-448b-9e54-8ef2186097a1"
    }
  ]
}