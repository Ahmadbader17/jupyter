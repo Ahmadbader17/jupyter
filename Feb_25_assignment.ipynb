{
 "cells": [
  {
   "cell_type": "markdown",
   "metadata": {},
   "source": [
    "# Answer 1\n"
   ]
  },
  {
   "cell_type": "code",
   "execution_count": 3,
   "metadata": {},
   "outputs": [],
   "source": [
    "import pandas as pd\n",
    "\n",
    "course_name = [\"Data Science\",\"Machine Learning\",\"Big Data\",\"Data Engineer\"]\n",
    "\n",
    "duration = [2,3,6,4]\n",
    "\n",
    "df = pd.DataFrame(data = {\"course_name\" : course_name, \"duration\" : duration})"
   ]
  },
  {
   "cell_type": "code",
   "execution_count": 4,
   "metadata": {},
   "outputs": [
    {
     "name": "stdout",
     "output_type": "stream",
     "text": [
      "course_name    Machine Learning\n",
      "duration                      3\n",
      "Name: 1, dtype: object\n"
     ]
    }
   ],
   "source": [
    "#this is how we print the data present in the 2nd row of the dataframe \"df\"\n",
    "print(df.iloc[1])"
   ]
  },
  {
   "cell_type": "markdown",
   "metadata": {},
   "source": [
    "# Answer 2\n",
    "\n",
    "In pandas, loc and iloc are two important functions used to select and manipulate data in a DataFrame. Both functions are used to access rows and columns of a DataFrame, but they differ in the way they accept and interpret the inputs.\n",
    "\n",
    "The main differences between loc and iloc functions are:\n",
    "\n",
    "1) Indexing method: iloc function is used to select rows and columns based on their integer position, whereas loc function is used to select rows and columns based on their labels or index.\n",
    "\n",
    "2) Input type: The inputs to iloc function can be integer, boolean or integer array, whereas inputs to loc function can be label, boolean or label array.\n",
    "\n",
    "3) Inclusion of end-point: When selecting rows and columns using iloc, the end-point is excluded, whereas with loc, the end-point is included. For example, df.iloc[0:2] returns the first two rows (indexed 0 and 1), but df.loc[0:2] returns the first three rows (indexed 0, 1, and 2)."
   ]
  },
  {
   "cell_type": "markdown",
   "metadata": {},
   "source": [
    "# Answer 3\n",
    "\n",
    "To reindex the given DataFrame based on a new order of indices and store it in a new variable new_df, we can use the reindex method in pandas. Here's the code to achieve that:"
   ]
  },
  {
   "cell_type": "code",
   "execution_count": 5,
   "metadata": {},
   "outputs": [
    {
     "name": "stdout",
     "output_type": "stream",
     "text": [
      "        course_name  duration\n",
      "3     Data Engineer         4\n",
      "0      Data Science         2\n",
      "1  Machine Learning         3\n",
      "2          Big Data         6\n"
     ]
    }
   ],
   "source": [
    "import pandas as pd\n",
    "\n",
    "course_name = ['Data Science', 'Machine Learning', 'Big Data', 'Data Engineer']\n",
    "duration = [2, 3, 6, 4]\n",
    "\n",
    "df = pd.DataFrame(data={'course_name': course_name, 'duration': duration})\n",
    "reindex = [3, 0, 1, 2]   # new order of indices\n",
    "\n",
    "new_df = df.reindex(index=reindex)\n",
    "\n",
    "# display new_df\n",
    "print(new_df)"
   ]
  },
  {
   "cell_type": "markdown",
   "metadata": {},
   "source": [
    "Here, iloc[2] returns the third row of new_df, which is the row with index 1 in the original DataFrame. Note that iloc function selects rows and columns based on their integer position, which is independent of the index labels."
   ]
  },
  {
   "cell_type": "markdown",
   "metadata": {},
   "source": [
    "# Answer 4\n",
    "\n",
    "To find the statistical measurements for the DataFrame df1, we can use the mean and std functions in pandas. Here's the code to find the mean and standard deviation for df1:"
   ]
  },
  {
   "cell_type": "code",
   "execution_count": 6,
   "metadata": {},
   "outputs": [
    {
     "name": "stdout",
     "output_type": "stream",
     "text": [
      "Mean of each column:\n",
      " column_1      3.0\n",
      "column_2     30.0\n",
      "column_3    300.0\n",
      "dtype: float64\n",
      "Standard deviation of column_2: 15.811388300841896\n"
     ]
    }
   ],
   "source": [
    "import pandas as pd\n",
    "import numpy as np\n",
    "\n",
    "# create sample dataframe\n",
    "df1 = pd.DataFrame({'column_1': [1, 2, 3, 4, 5],\n",
    "                   'column_2': [10, 20, 30, 40, 50],\n",
    "                   'column_3': [100, 200, 300, 400, 500]})\n",
    "\n",
    "# calculate mean of each column\n",
    "col_means = df1.mean()\n",
    "print(\"Mean of each column:\\n\", col_means)\n",
    "\n",
    "# calculate standard deviation of column_2\n",
    "col2_std = df1['column_2'].std()\n",
    "print(\"Standard deviation of column_2:\", col2_std)"
   ]
  },
  {
   "cell_type": "markdown",
   "metadata": {},
   "source": [
    "Here, mean function is used to calculate the mean of each column in the DataFrame df1, and the result is stored in the variable col_means. The mean function calculates the arithmetic mean of each column by default.\n",
    "\n",
    "To calculate the standard deviation of the column column_2 in df1, we use the std function on that column directly, and the result is stored in the variable col2_std. The std function calculates the standard deviation of a series or column in pandas. Note that std function is used with the name of the column, enclosed in square brackets, to select the desired column from the DataFrame."
   ]
  },
  {
   "cell_type": "markdown",
   "metadata": {},
   "source": [
    "# Answer 5\n",
    "\n",
    "To replace the data present in the second row of column 'column_2' with a string variable and find the mean of column 'column_2', we can use the following code:"
   ]
  },
  {
   "cell_type": "code",
   "execution_count": 7,
   "metadata": {},
   "outputs": [
    {
     "name": "stdout",
     "output_type": "stream",
     "text": [
      "TypeError occurred: unsupported operand type(s) for +: 'int' and 'str'\n"
     ]
    }
   ],
   "source": [
    "import pandas as pd\n",
    "import numpy as np\n",
    "\n",
    "# create sample dataframe\n",
    "df1 = pd.DataFrame({'column_1': [1, 2, 3, 4, 5],\n",
    "                   'column_2': [10, 20, 30, 40, 50],\n",
    "                   'column_3': [100, 200, 300, 400, 500]})\n",
    "\n",
    "# replace value in second row of column_2 with a string\n",
    "df1.loc[1, 'column_2'] = 'some_string'\n",
    "\n",
    "# find mean of column_2\n",
    "try:\n",
    "    col2_mean = df1['column_2'].mean()\n",
    "    print(\"Mean of column_2:\", col2_mean)\n",
    "except TypeError as e:\n",
    "    print(\"TypeError occurred:\", e)"
   ]
  },
  {
   "cell_type": "markdown",
   "metadata": {},
   "source": [
    "Here, we replaced the value in the second row of column 'column_2' with a string using the loc function. However, this will cause a TypeError when trying to calculate the mean of the column, because the mean function cannot calculate the mean of a column containing both numeric and non-numeric values.\n",
    "\n",
    "To avoid this error, we can convert the column to a numeric datatype using the pd.to_numeric function before calculating the mean. Here's the modified code to achieve that:"
   ]
  },
  {
   "cell_type": "code",
   "execution_count": 8,
   "metadata": {},
   "outputs": [
    {
     "name": "stdout",
     "output_type": "stream",
     "text": [
      "Mean of column_2: 32.5\n"
     ]
    }
   ],
   "source": [
    "import pandas as pd\n",
    "import numpy as np\n",
    "\n",
    "# create sample dataframe\n",
    "df1 = pd.DataFrame({'column_1': [1, 2, 3, 4, 5],\n",
    "                   'column_2': [10, 20, 30, 40, 50],\n",
    "                   'column_3': [100, 200, 300, 400, 500]})\n",
    "\n",
    "# replace value in second row of column_2 with a string\n",
    "df1.loc[1, 'column_2'] = 'some_string'\n",
    "\n",
    "# convert column_2 to numeric datatype\n",
    "df1['column_2'] = pd.to_numeric(df1['column_2'], errors='coerce')\n",
    "\n",
    "# find mean of column_2\n",
    "col2_mean = df1['column_2'].mean()\n",
    "print(\"Mean of column_2:\", col2_mean)"
   ]
  },
  {
   "cell_type": "markdown",
   "metadata": {},
   "source": [
    "# Answer 6\n",
    "\n",
    "In pandas, a window function (also known as a rolling or moving function) is used to perform calculations over a sliding window of rows or columns in a DataFrame. These functions are useful for time series analysis, as well as for analyzing patterns and trends in data over time.\n",
    "\n",
    "There are several types of window functions available in pandas:\n",
    "\n",
    "1) Rolling: This type of window function computes a rolling window of the data and applies a function to it. It takes a window size and a function as its arguments. Some examples of rolling window functions are mean, sum, and median.\n",
    "\n",
    "2) Expanding: This type of window function computes a cumulative statistic over all previous rows in the DataFrame. It takes a function as its argument. Some examples of expanding window functions are cumsum and cumprod.\n",
    "\n",
    "3) Exponentially Weighted Moving Average (EWMA): This type of window function computes a weighted average of the data using an exponentially decreasing function. It takes a span and a function as its arguments. Some examples of EWMA functions are ewma and ewmstd.\n",
    "\n",
    "4) Rolling Window with Variable Window Size: This type of window function computes a rolling window of the data with a window size that varies according to a specified function. It takes a function as its argument. An example of this type of function is rolling_apply.\n",
    "\n",
    "Overall, window functions in pandas are a powerful tool for performing calculations over a specified period of time or data points. They are useful for time series analysis, trend analysis, and forecasting, among other applications."
   ]
  },
  {
   "cell_type": "markdown",
   "metadata": {},
   "source": [
    "# Answer 7"
   ]
  },
  {
   "cell_type": "code",
   "execution_count": 9,
   "metadata": {},
   "outputs": [
    {
     "name": "stdout",
     "output_type": "stream",
     "text": [
      "Current Year: 2023\n",
      "Current Month: 2\n"
     ]
    }
   ],
   "source": [
    "import pandas as pd\n",
    "\n",
    "# get the current date and time\n",
    "now = pd.Timestamp.now()\n",
    "\n",
    "# extract the year and month\n",
    "current_year = now.year\n",
    "current_month = now.month\n",
    "\n",
    "# print the current year and month\n",
    "print(\"Current Year:\", current_year)\n",
    "print(\"Current Month:\", current_month)"
   ]
  },
  {
   "cell_type": "markdown",
   "metadata": {},
   "source": [
    "# Answer 8"
   ]
  },
  {
   "cell_type": "code",
   "execution_count": 11,
   "metadata": {},
   "outputs": [
    {
     "name": "stdout",
     "output_type": "stream",
     "text": [
      "Enter the first date (YYYY-MM-DD): 2022-02-18\n",
      "Enter the second date (YYYY-MM-DD): 2023-05-21\n",
      "Time difference between 2022-02-18 and 2023-05-21 is:\n",
      "457 days, 0 hours, 0 minutes.\n"
     ]
    }
   ],
   "source": [
    "import pandas as pd\n",
    "\n",
    "# get the input dates from the user\n",
    "date1 = input(\"Enter the first date (YYYY-MM-DD): \")\n",
    "date2 = input(\"Enter the second date (YYYY-MM-DD): \")\n",
    "\n",
    "# convert the input dates to pandas Timestamp objects\n",
    "date1_ts = pd.Timestamp(date1)\n",
    "date2_ts = pd.Timestamp(date2)\n",
    "\n",
    "# calculate the time difference between the dates\n",
    "time_diff = date2_ts - date1_ts\n",
    "\n",
    "# extract the number of days, hours, and minutes from the time difference\n",
    "days = time_diff.days\n",
    "hours = time_diff.seconds // 3600\n",
    "minutes = (time_diff.seconds % 3600) // 60\n",
    "\n",
    "# display the result to the user\n",
    "print(\"Time difference between\", date1, \"and\", date2, \"is:\")\n",
    "print(days, \"days,\", hours, \"hours,\", minutes, \"minutes.\")"
   ]
  },
  {
   "cell_type": "markdown",
   "metadata": {},
   "source": [
    "# Answer 9"
   ]
  },
  {
   "cell_type": "code",
   "execution_count": null,
   "metadata": {},
   "outputs": [],
   "source": [
    "import pandas as pd\n",
    "\n",
    "# prompt the user to enter the file path\n",
    "file_path = input(\"Enter the file path: \")\n",
    "\n",
    "# read the CSV file into a pandas DataFrame\n",
    "df = pd.read_csv(file_path)\n",
    "\n",
    "# prompt the user to enter the column name and category order\n",
    "col_name = input(\"Enter the column name: \")\n",
    "cat_order = input(\"Enter the category order (comma-separated): \")\n",
    "\n",
    "# convert the column to a categorical data type with the specified category order\n",
    "df[col_name] = pd.Categorical(df[col_name], categories=cat_order.split(','))\n",
    "\n",
    "# sort the DataFrame by the specified column\n",
    "df = df.sort_values(col_name)\n",
    "\n",
    "# display the sorted data\n",
    "print(df)"
   ]
  },
  {
   "cell_type": "markdown",
   "metadata": {},
   "source": [
    "# Answer 10"
   ]
  },
  {
   "cell_type": "code",
   "execution_count": null,
   "metadata": {},
   "outputs": [],
   "source": [
    "import pandas as pd\n",
    "import matplotlib.pyplot as plt\n",
    "\n",
    "# prompt the user to enter the file path\n",
    "file_path = input(\"enter file path\")\n",
    "\n",
    "# read the CSV file into a pandas DataFrame\n",
    "df = pd.read_csv(file_path)\n",
    "\n",
    "# convert the date column to a pandas datetime object\n",
    "df['Date'] = pd.to_datetime(df['Date'])\n",
    "\n",
    "# group the data by product category and date and sum the sales\n",
    "grouped_data = df.groupby(['Product Category', 'Date']).sum()\n",
    "\n",
    "# unstack the grouped data to create a stacked bar chart\n",
    "stacked_data = grouped_data.unstack(level=0)\n",
    "stacked_data.plot(kind='bar', stacked=True)\n",
    "\n",
    "# set the title and axis labels\n",
    "plt.title('Sales by Product Category')\n",
    "plt.xlabel('Date')\n",
    "plt.ylabel('Sales')\n",
    "\n",
    "# display the chart\n",
    "plt.show()"
   ]
  },
  {
   "cell_type": "markdown",
   "metadata": {},
   "source": [
    "# Answer 11"
   ]
  },
  {
   "cell_type": "code",
   "execution_count": 3,
   "metadata": {},
   "outputs": [
    {
     "name": "stdout",
     "output_type": "stream",
     "text": [
      "enter the file pathscore.csv\n",
      "  Statistic  Score\n",
      "0      Mean   81.7\n",
      "1    Median   83.0\n",
      "2      Mode   66.0\n"
     ]
    }
   ],
   "source": [
    " import pandas as pd\n",
    "\n",
    "# prompt the user to enter the file path\n",
    "file_path = input(\"enter the file path\")\n",
    "\n",
    "# read the CSV file into a pandas DataFrame\n",
    "df = pd.read_csv(file_path)\n",
    "\n",
    "# calculate the mean, median, and mode of the test scores\n",
    "mean_score = df['Test Score'].mean()\n",
    "median_score = df['Test Score'].median()\n",
    "mode_score = df['Test Score'].mode().values[0]\n",
    "\n",
    "# create a table to display the results\n",
    "results = pd.DataFrame({\n",
    "    'Statistic': ['Mean', 'Median', 'Mode'],\n",
    "    'Score': [mean_score, median_score, mode_score]\n",
    "})\n",
    "\n",
    "# display the table\n",
    "print(results)"
   ]
  },
  {
   "cell_type": "code",
   "execution_count": null,
   "metadata": {},
   "outputs": [],
   "source": []
  }
 ],
 "metadata": {
  "kernelspec": {
   "display_name": "Python 3",
   "language": "python",
   "name": "python3"
  },
  "language_info": {
   "codemirror_mode": {
    "name": "ipython",
    "version": 3
   },
   "file_extension": ".py",
   "mimetype": "text/x-python",
   "name": "python",
   "nbconvert_exporter": "python",
   "pygments_lexer": "ipython3",
   "version": "3.8.5"
  }
 },
 "nbformat": 4,
 "nbformat_minor": 4
}
