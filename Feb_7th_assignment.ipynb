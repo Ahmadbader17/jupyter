{
 "cells": [
  {
   "cell_type": "markdown",
   "id": "9143ecdd-a767-4ab2-89c7-67aeab2f1408",
   "metadata": {},
   "source": [
    "# Answer 1\n",
    "\n",
    "Here is a possible implementation of the function that checks the validity of the password:"
   ]
  },
  {
   "cell_type": "code",
   "execution_count": 7,
   "id": "6eaf0e5e-853c-4faf-b0f9-693014139a4f",
   "metadata": {},
   "outputs": [],
   "source": [
    "import re\n",
    "\n",
    "def check_password(password):\n",
    "    # Check the length of the password\n",
    "    if len(password) != 10:\n",
    "        return \"Invalid Password\"\n",
    "    # Check the number of uppercase and lowercase letters\n",
    "    if sum(1 for c in password if c.isupper()) < 2 or sum(1 for c in password if c.islower()) < 2:\n",
    "        return \"Invalid Password\"\n",
    "    # Check the presence of a number and three special characters\n",
    "    if not re.search(r\"\\d\", password) or len(re.findall(r\"[^\\w\\s]\", password)) < 3:\n",
    "        return \"Invalid Password\"\n",
    "    # If all the checks passed, the password is valid\n",
    "    return \"Valid Password\""
   ]
  },
  {
   "cell_type": "markdown",
   "id": "1970d16e-214e-4c2f-b4c0-67a8237185d8",
   "metadata": {},
   "source": [
    "The function first checks the length of the password, and if it is not 10 characters, it immediately returns \"Invalid Password\". Then, it checks the number of uppercase and lowercase letters using str.isupper() and str.islower() methods, and if there are less than 2 of each, it returns \"Invalid Password\". Next, it uses regular expressions (re module) to check the presence of a number (\\d pattern) and three special characters ([^\\w\\s] pattern matches any character that is not a word character or whitespace). If any of these checks fail, the function returns \"Invalid Password\". If all the checks pass, the function returns \"Valid Password\"."
   ]
  },
  {
   "cell_type": "markdown",
   "id": "42f7120b-b758-4299-84b2-f027942cb4d2",
   "metadata": {},
   "source": [
    "# Answer 2\n",
    "\n",
    "Here are the solutions to the given questions using the mentioned methods:\n",
    "\n",
    "Check if the string starts with a particular letter:\n",
    "Using lambda function and startswith method:"
   ]
  },
  {
   "cell_type": "code",
   "execution_count": 9,
   "id": "7e5d63a6-68bf-40c2-8f86-8e1fbae8614d",
   "metadata": {},
   "outputs": [],
   "source": [
    "starts_with = lambda string, letter: string.startswith(letter)\n",
    "result = starts_with(\"python\", \"p\")"
   ]
  },
  {
   "cell_type": "markdown",
   "id": "98b04eaa-ee41-4269-8fd8-43f99795a674",
   "metadata": {},
   "source": [
    "1) Using filter function and lambda function:"
   ]
  },
  {
   "cell_type": "code",
   "execution_count": 10,
   "id": "8742b362-2f8d-47a9-adee-27d8291867c5",
   "metadata": {},
   "outputs": [],
   "source": [
    "words = [\"python\", \"java\", \"javascript\", \"ruby\"]\n",
    "letter = \"j\"\n",
    "result = list(filter(lambda x: x.startswith(letter), words))"
   ]
  },
  {
   "cell_type": "markdown",
   "id": "9a360357-f02d-4a56-80f3-d8cbe7348579",
   "metadata": {},
   "source": [
    "2) Check if the string is numeric:\n",
    "Using lambda function and isnumeric method:"
   ]
  },
  {
   "cell_type": "code",
   "execution_count": 11,
   "id": "799856b8-141c-40ec-8a43-216af99b17d8",
   "metadata": {},
   "outputs": [],
   "source": [
    "is_numeric = lambda string: string.isnumeric()\n",
    "result = is_numeric(\"12345\")"
   ]
  },
  {
   "cell_type": "markdown",
   "id": "c490b420-227e-40b8-8669-ec4ee88fffaf",
   "metadata": {},
   "source": [
    "Using filter function and lambda function:"
   ]
  },
  {
   "cell_type": "code",
   "execution_count": 12,
   "id": "6ba3dd47-00b9-4c90-8c75-7de7f623e8fa",
   "metadata": {},
   "outputs": [],
   "source": [
    "strings = [\"123\", \"abc\", \"45\", \"1.23\"]\n",
    "result = list(filter(lambda x: x.isnumeric(), strings))"
   ]
  },
  {
   "cell_type": "markdown",
   "id": "27f6181f-9511-4f15-808f-97aa7335b8a2",
   "metadata": {},
   "source": [
    "Sort a list of tuples having fruit names and their quantity:\n",
    "Using lambda function and sorted method:"
   ]
  },
  {
   "cell_type": "code",
   "execution_count": 13,
   "id": "000a5174-abb2-45c7-a43c-e50808fdb2e5",
   "metadata": {},
   "outputs": [],
   "source": [
    "fruits = [(\"mango\",99),(\"orange\",80),(\"grapes\",1000)]\n",
    "result = sorted(fruits, key=lambda x: x[1])"
   ]
  },
  {
   "cell_type": "markdown",
   "id": "a43429dc-d396-4e44-b88b-f05674663ca2",
   "metadata": {},
   "source": [
    "Find the squares of numbers from 1 to 10:\n",
    "Using list comprehension:"
   ]
  },
  {
   "cell_type": "code",
   "execution_count": 14,
   "id": "ea452001-607f-4b30-b3b1-35bb5ecb7f25",
   "metadata": {},
   "outputs": [],
   "source": [
    "squares = [x**2 for x in range(1,11)]"
   ]
  },
  {
   "cell_type": "markdown",
   "id": "fdcfc132-8901-4ea6-8f23-d3cce3f49a7f",
   "metadata": {},
   "source": [
    "Find the cube root of numbers from 1 to 10:\n",
    "Using list comprehension and pow function:"
   ]
  },
  {
   "cell_type": "code",
   "execution_count": 15,
   "id": "6cda2cf1-9028-4bf9-bd31-1ef4caf0e0d3",
   "metadata": {},
   "outputs": [],
   "source": [
    "cube_roots = [pow(x,1/3) for x in range(1,11)]"
   ]
  },
  {
   "cell_type": "markdown",
   "id": "1d86510c-07f0-4167-8294-ccdb5171f3a4",
   "metadata": {},
   "source": [
    "Check if a given number is even:\n",
    "Using lambda function and modulus operator:"
   ]
  },
  {
   "cell_type": "code",
   "execution_count": 16,
   "id": "efd0ca28-dd6c-46d9-aaec-5f2636d986c0",
   "metadata": {},
   "outputs": [],
   "source": [
    "is_even = lambda x: x % 2 == 0\n",
    "result = is_even(6)"
   ]
  },
  {
   "cell_type": "markdown",
   "id": "7a40d916-4049-4ecc-b532-05ed63d1874f",
   "metadata": {},
   "source": [
    "Filter odd numbers from the given list:\n",
    "Using filter function and lambda function:"
   ]
  },
  {
   "cell_type": "code",
   "execution_count": 17,
   "id": "7d4595ab-6ff0-4097-a235-f185739230a8",
   "metadata": {},
   "outputs": [],
   "source": [
    "numbers = [1,2,3,4,5,6,7,8,9,10]\n",
    "odd_numbers = list(filter(lambda x: x % 2 != 0, numbers))"
   ]
  },
  {
   "cell_type": "markdown",
   "id": "3bd331b1-b61d-4dcf-9b7d-ca8f5148c845",
   "metadata": {},
   "source": [
    "Sort a list of integers into positive and negative integers lists:\n",
    "Using list comprehension:"
   ]
  },
  {
   "cell_type": "code",
   "execution_count": 18,
   "id": "14eadd55-ae0b-4ffa-8c7d-ed1ca8a2038d",
   "metadata": {},
   "outputs": [],
   "source": [
    "numbers = [1,2,3,4,5,6,-1,-2,-3,-4,-5,0]\n",
    "positive_numbers = [x for x in numbers if x > 0]\n",
    "negative_numbers = [x for x in numbers if x < 0]"
   ]
  },
  {
   "cell_type": "code",
   "execution_count": null,
   "id": "16c0a20d-4e4d-4cff-b2d1-cdf37091b261",
   "metadata": {},
   "outputs": [],
   "source": []
  }
 ],
 "metadata": {
  "kernelspec": {
   "display_name": "Python 3 (ipykernel)",
   "language": "python",
   "name": "python3"
  },
  "language_info": {
   "codemirror_mode": {
    "name": "ipython",
    "version": 3
   },
   "file_extension": ".py",
   "mimetype": "text/x-python",
   "name": "python",
   "nbconvert_exporter": "python",
   "pygments_lexer": "ipython3",
   "version": "3.10.8"
  }
 },
 "nbformat": 4,
 "nbformat_minor": 5
}
