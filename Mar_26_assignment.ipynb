{
 "cells": [
  {
   "cell_type": "markdown",
   "id": "253d22c5-b8e6-43fb-931d-e556fed8fffa",
   "metadata": {},
   "source": [
    "# Answer 1\n",
    "\n",
    "Simple linear regression involves finding a linear relationship between two variables, where one variable (the independent variable) is used to predict the other variable (the dependent variable). It involves one independent variable and one dependent variable. On the other hand, multiple linear regression involves finding the linear relationship between a dependent variable and multiple independent variables. It involves two or more independent variables and one dependent variable.\n",
    "\n",
    "Example of Simple Linear Regression: Predicting the price of a house based on its size. Here, the size of the house is the independent variable, and the price of the house is the dependent variable.\n",
    "\n",
    "Example of Multiple Linear Regression: Predicting the salary of a person based on their age, education level, and work experience. Here, the age, education level, and work experience are the independent variables, and the salary is the dependent variable."
   ]
  },
  {
   "cell_type": "markdown",
   "id": "c3e6bd4d-fd7c-41c2-b698-510783563b7b",
   "metadata": {},
   "source": [
    "# Answer 2\n",
    "\n",
    "Linear regression assumes that there is a linear relationship between the independent variables and the dependent variable, and the residuals (the difference between the predicted and actual values) follow a normal distribution. The following assumptions are necessary for linear regression:\n",
    "\n",
    "Linearity: The relationship between the independent variables and the dependent variable should be linear.\n",
    "Independence: The observations should be independent of each other.\n",
    "Homoscedasticity: The residuals should have equal variance across all values of the independent variable.\n",
    "Normality: The residuals should follow a normal distribution.\n",
    "No multicollinearity: The independent variables should not be highly correlated.\n",
    "To check whether these assumptions hold in a given dataset, we can use diagnostic plots like scatter plots, residual plots, and normal probability plots."
   ]
  },
  {
   "cell_type": "markdown",
   "id": "512b45c3-b7b3-4337-808f-347b94dafa97",
   "metadata": {},
   "source": [
    "# Answer 3\n",
    "\n",
    "In a linear regression model, the slope represents the change in the dependent variable for every unit change in the independent variable. The intercept represents the expected value of the dependent variable when the independent variable is zero.\n",
    "\n",
    "Example: Suppose we have a dataset of student scores in a test, and we want to predict the score based on the number of hours they studied. A linear regression model shows that the slope is 5 and the intercept is 50. This means that for every additional hour of study, we can expect the score to increase by 5 points. If a student did not study at all, we can expect their score to be 50."
   ]
  },
  {
   "cell_type": "markdown",
   "id": "8acd1bfc-4bf0-4eb5-8b42-e6d13a283637",
   "metadata": {},
   "source": [
    "# Answer 4\n",
    "\n",
    "Gradient descent is an iterative optimization algorithm used to find the optimal solution for a given problem. It is used in machine learning to minimize the cost function (i.e., the error between predicted and actual values) by updating the model's parameters (coefficients) iteratively. The algorithm works by calculating the gradient of the cost function with respect to each parameter and updating the parameter in the opposite direction of the gradient. By repeating this process, the algorithm approaches the optimal solution."
   ]
  },
  {
   "cell_type": "markdown",
   "id": "9b795fb6-ebb1-4535-ae40-37f59c33d300",
   "metadata": {},
   "source": [
    "# Answer 5\n",
    "\n",
    "Multiple linear regression is a statistical technique that models the relationship between a dependent variable and multiple independent variables. The model is expressed as:\n",
    "\n",
    "Y = b0 + b1X1 + b2X2 + ... + bn*Xn + ε\n",
    "\n",
    "where Y is the dependent variable, X1 to Xn are the independent variables, b0 is the intercept, and b1 to bn are the coefficients or slopes of the independent variables. In multiple linear regression, the model includes two or more independent variables, whereas in simple linear regression, there is only one independent variable."
   ]
  },
  {
   "cell_type": "markdown",
   "id": "5a1dc0e8-6a7e-4218-b079-bfd6514b853d",
   "metadata": {},
   "source": [
    "# Answer 6\n",
    "\n",
    "Multicollinearity in multiple linear regression refers to a situation where two or more independent variables in the model are highly correlated with each other. This can cause problems in the regression analysis as it becomes difficult to distinguish the effect of each independent variable on the dependent variable.\n",
    "\n",
    "To detect multicollinearity, we can use correlation matrix or Variance Inflation Factor (VIF) value. If the correlation coefficient between two independent variables is high, it indicates that there might be multicollinearity. Similarly, if the VIF value of an independent variable is high, it indicates that there might be multicollinearity between that variable and other independent variables.\n",
    "\n",
    "To address multicollinearity, we can either remove one of the highly correlated independent variables or use dimensionality reduction techniques such as Principal Component Analysis (PCA) to reduce the number of independent variables while retaining most of the information."
   ]
  },
  {
   "cell_type": "markdown",
   "id": "85d400b6-8366-446b-b5f6-7f63dcf79188",
   "metadata": {},
   "source": [
    "# Answer"
   ]
  },
  {
   "cell_type": "markdown",
   "id": "7271f242-58c4-4fdd-ac93-d78f31bd1044",
   "metadata": {},
   "source": [
    "# Answer"
   ]
  }
 ],
 "metadata": {
  "kernelspec": {
   "display_name": "Python 3 (ipykernel)",
   "language": "python",
   "name": "python3"
  },
  "language_info": {
   "codemirror_mode": {
    "name": "ipython",
    "version": 3
   },
   "file_extension": ".py",
   "mimetype": "text/x-python",
   "name": "python",
   "nbconvert_exporter": "python",
   "pygments_lexer": "ipython3",
   "version": "3.10.8"
  }
 },
 "nbformat": 4,
 "nbformat_minor": 5
}
