{
  "metadata": {
    "language_info": {
      "codemirror_mode": {
        "name": "python",
        "version": 3
      },
      "file_extension": ".py",
      "mimetype": "text/x-python",
      "name": "python",
      "nbconvert_exporter": "python",
      "pygments_lexer": "ipython3",
      "version": "3.8"
    },
    "kernelspec": {
      "name": "python",
      "display_name": "Python (Pyodide)",
      "language": "python"
    }
  },
  "nbformat_minor": 4,
  "nbformat": 4,
  "cells": [
    {
      "cell_type": "markdown",
      "source": "# Answer 1\n\nIn Python, a class is defined using the class keyword, followed by the name of the class and a colon. Within the class definition, you can define attributes (variables) and methods (functions) that describe the behavior of objects created from the class.\n\nHere's an example of a Person class that has two attributes (name and age) and one method (greeting):",
      "metadata": {}
    },
    {
      "cell_type": "code",
      "source": "class Person:\n    def __init__(self, name, age):\n        self.name = name\n        self.age = age\n\n    def greeting(self):\n        print(f\"Hello, my name is {self.name} and I am {self.age} years old.\")",
      "metadata": {
        "trusted": true
      },
      "execution_count": 1,
      "outputs": []
    },
    {
      "cell_type": "markdown",
      "source": "In this example, the __init__ method is a special method that is called when a new object is created from the class. It takes two arguments (name and age) and initializes the corresponding attributes of the object.\n\nTo create an object from the Person class, you can simply call the class like a function and pass in the necessary arguments:",
      "metadata": {}
    },
    {
      "cell_type": "code",
      "source": "person1 = Person(\"Ahmad\", 23)\nperson1.greeting()",
      "metadata": {
        "trusted": true
      },
      "execution_count": 3,
      "outputs": [
        {
          "name": "stdout",
          "text": "Hello, my name is Ahmad and I am 23 years old.\n",
          "output_type": "stream"
        }
      ]
    },
    {
      "cell_type": "markdown",
      "source": "In this case, person1 is an object of the Person class with a name of \"Ahmad\" and an age of 23.\nYou can call methods on objects using dot notation.",
      "metadata": {}
    },
    {
      "cell_type": "markdown",
      "source": "# Answer 2\n\nThe four pillars of Object-Oriented Programming (OOP) are:\n\nEncapsulation: This refers to the bundling of data and methods within a single unit or class, and restricting access to the internal details of that class from the outside world. In Python, this can be achieved using the concept of private and public methods and attributes, and is denoted by a single underscore before the name of the attribute or method.\n\nInheritance: This allows for creating new classes that inherit properties and behaviors from existing classes, and can modify or extend those properties or behaviors. In Python, inheritance is indicated by putting the name of the parent class in parentheses after the name of the child class.\n\nPolymorphism: This means the ability of objects to take on different forms or behaviors depending on the context in which they are used. In Python, this can be achieved using method overloading or method overriding.\n\nAbstraction: This refers to the process of focusing on the essential features of an object or system while ignoring its implementation details. In Python, this can be achieved using abstract classes and abstract methods, which define a common interface for a group of related classes.\n\nThese four pillars of OOP provide a framework for creating modular, reusable, and maintainable code that is well-organized and easy to understand.",
      "metadata": {}
    },
    {
      "cell_type": "markdown",
      "source": "# Answer 3\n\nThe __init__() function is a special method in Python classes that is called when an object is created from the class. It is used to initialize the attributes (variables) of the object to their default or specified values. In other words, it sets up the initial state of the object.\n\nHere's an example to illustrate the use of the __init__() function:",
      "metadata": {}
    },
    {
      "cell_type": "code",
      "source": "class Person:\n    def __init__(self, name, age):\n        self.name = name\n        self.age = age",
      "metadata": {
        "trusted": true
      },
      "execution_count": 4,
      "outputs": []
    },
    {
      "cell_type": "markdown",
      "source": "In this example, we define a Person class with two attributes (name and age). The __init__() function takes two arguments (name and age) and assigns them to the corresponding attributes of the object using the self keyword. The self keyword refers to the object that is being created.\nTo create an object of the Person class, we can call the class and pass in the necessary arguments:",
      "metadata": {}
    },
    {
      "cell_type": "code",
      "source": "person1 = Person(\"Ahmad\", 23)",
      "metadata": {
        "trusted": true
      },
      "execution_count": 5,
      "outputs": []
    },
    {
      "cell_type": "markdown",
      "source": "In this case, person1 is an object of the Person class with a name of \"Ahmad\" and an age of 23. The __init__() function is called automatically when the object is created, and it initializes the name and age attributes of the object.\nWithout the __init__() function, we would have to manually set the attributes of each object after it is created, which can be cumbersome and error-prone. The __init__() function allows us to define a standardized way of initializing objects and ensures that they all start in a consistent state.",
      "metadata": {}
    },
    {
      "cell_type": "markdown",
      "source": "# Answer 4\n\nIn Python, self is a reference to the instance of a class that a method is being called on. It is used to refer to the attributes and methods of the instance within the method definition.\n\nIn other words, when a method is called on an object, the self keyword is used to refer to the object itself, so that the method can access and modify the attributes of that specific object.\n\nHere's an example to illustrate the use of self:",
      "metadata": {}
    },
    {
      "cell_type": "code",
      "source": "class Person:\n    def __init__(self, name, age):\n        self.name = name\n        self.age = age\n\n    def greeting(self):\n        print(f\"Hello, my name is {self.name} and I am {self.age} years old.\")",
      "metadata": {
        "trusted": true
      },
      "execution_count": 6,
      "outputs": []
    },
    {
      "cell_type": "markdown",
      "source": "In this example, the greeting() method takes self as its first argument, which allows it to access the name and age attributes of the object using the self keyword.\nTo create an object of the Person class, we can call the class and pass in the necessary arguments:",
      "metadata": {}
    },
    {
      "cell_type": "code",
      "source": "person1 = Person(\"Ahmad\", 23)",
      "metadata": {
        "trusted": true
      },
      "execution_count": 7,
      "outputs": []
    },
    {
      "cell_type": "markdown",
      "source": "In this case, person1 is an object of the Person class with a name of \"Ahmad\" and an age of 23.\nTo call the greeting() method on person1, we simply use dot notation:",
      "metadata": {}
    },
    {
      "cell_type": "markdown",
      "source": "This will print the greeting for person1: \"Hello, my name is Ahmad and I am 23 years old.\" In the greeting() method, the self keyword is used to refer to the attributes of the person1 object, so that the method can access and print the name and age of the object.\nIn summary, the self keyword is used in Python to refer to the instance of a class that a method is being called on, and allows the method to access and modify the attributes of that specific instance.",
      "metadata": {}
    },
    {
      "cell_type": "markdown",
      "source": "# Answer 5\n\nInheritance is a fundamental concept in object-oriented programming (OOP) that allows a new class to be based on an existing class, inheriting its attributes and methods. In other words, it provides a way to create a new class that is a modified or specialized version of an existing class.\n\nThere are five types of inheritance in Python: single, multiple, multilevel, hierarchical and hybrid inheritance.\n\n1) Single Inheritance:\nSingle inheritance is the simplest form of inheritance where a child class inherits from a single parent class. The child class acquires all the properties and behaviors of the parent class. Here's an example:",
      "metadata": {}
    },
    {
      "cell_type": "code",
      "source": "class Animal:\n    def __init__(self, name, age):\n        self.name = name\n        self.age = age\n\n    def speak(self):\n        print(\"Animal speaks\")\n\nclass Dog(Animal):\n    def __init__(self, name, age, breed):\n        super().__init__(name, age)\n        self.breed = breed\n\n    def speak(self):\n        print(\"Bark\")\n\ndog1 = Dog(\"Max\", 3, \"Labrador\")\nprint(dog1.name)  # Output: Max\ndog1.speak()      # Output: Bark",
      "metadata": {
        "trusted": true
      },
      "execution_count": 9,
      "outputs": [
        {
          "name": "stdout",
          "text": "Max\nBark\n",
          "output_type": "stream"
        }
      ]
    },
    {
      "cell_type": "markdown",
      "source": "In this example, the Animal class is the parent class and the Dog class is the child class that inherits from it. The Dog class has all the attributes and methods of the Animal class, and also has its own additional attribute breed and overridden speak() method.",
      "metadata": {}
    },
    {
      "cell_type": "markdown",
      "source": "2) Multiple Inheritance:\nMultiple inheritance allows a child class to inherit from more than one parent class. The child class acquires all the properties and behaviors of both parent classes. Here's an example:",
      "metadata": {}
    },
    {
      "cell_type": "code",
      "source": "class A:\n    def methodA(self):\n        print(\"Method A\")\n\nclass B:\n    def methodB(self):\n        print(\"Method B\")\n\nclass C(A, B):\n    def methodC(self):\n        print(\"Method C\")\n\nobj = C()\nobj.methodA()  # Output: Method A\nobj.methodB()  # Output: Method B\nobj.methodC()  # Output: Method C",
      "metadata": {
        "trusted": true
      },
      "execution_count": 10,
      "outputs": [
        {
          "name": "stdout",
          "text": "Method A\nMethod B\nMethod C\n",
          "output_type": "stream"
        }
      ]
    },
    {
      "cell_type": "markdown",
      "source": "In this example, the C class is the child class that inherits from both the A and B parent classes.",
      "metadata": {}
    },
    {
      "cell_type": "markdown",
      "source": "3) Multilevel Inheritance:\nMultilevel inheritance involves creating a hierarchy of classes, where each child class inherits from a parent class, which in turn can be a child class of another parent class. Here's an example:",
      "metadata": {}
    },
    {
      "cell_type": "code",
      "source": "class Animal:\n    def speak(self):\n        print(\"Animal speaks\")\n\nclass Dog(Animal):\n    def bark(self):\n        print(\"Bark\")\n\nclass Labrador(Dog):\n    def fetch(self):\n        print(\"Fetch\")\n\nlabrador1 = Labrador()\nlabrador1.speak()  # Output: Animal speaks\nlabrador1.bark()   # Output: Bark\nlabrador1.fetch()  # Output: Fetch",
      "metadata": {
        "trusted": true
      },
      "execution_count": 11,
      "outputs": [
        {
          "name": "stdout",
          "text": "Animal speaks\nBark\nFetch\n",
          "output_type": "stream"
        }
      ]
    },
    {
      "cell_type": "markdown",
      "source": "In this example, the Animal class is the top-level parent class, the Dog class is a child class that inherits from it, and the Labrador class is a child class that inherits from the Dog class. Each class has its own set of attributes and methods.",
      "metadata": {}
    },
    {
      "cell_type": "markdown",
      "source": "4) Hierarchical Inheritance:\nHierarchical inheritance involves creating a hierarchy of classes where more than one child class inherits from the same parent class. Here's an example:",
      "metadata": {}
    },
    {
      "cell_type": "code",
      "source": "class Animal:\n    def speak(self):\n        print(\"Animal speaks\")\n\nclass Dog(Animal):\n    def bark(self):\n        print(\"Bark\")\n\nclass Cat(Animal):\n    def meow(self):\n        print(\"Meow\")\n\ndog1 = Dog()\ndog1.speak()",
      "metadata": {
        "trusted": true
      },
      "execution_count": 12,
      "outputs": [
        {
          "name": "stdout",
          "text": "Animal speaks\n",
          "output_type": "stream"
        }
      ]
    },
    {
      "cell_type": "markdown",
      "source": "Hybrid inheritance is a combination of two or more types of inheritance. In Python, this can be achieved by creating a class that inherits from multiple classes, some of which may be using different types of inheritance.\n\nHere is an example of hybrid inheritance in Python:",
      "metadata": {}
    },
    {
      "cell_type": "code",
      "source": "class A:\n    def method_A(self):\n        print(\"This is method A.\")\n\nclass B(A):\n    def method_B(self):\n        print(\"This is method B.\")\n\nclass C(A):\n    def method_C(self):\n        print(\"This is method C.\")\n\nclass D(B, C):\n    def method_D(self):\n        print(\"This is method D.\")\n\n# create an object of the D class\nd = D()\n\n# call methods of the D class and its parent classes\nd.method_D()\nd.method_B()\nd.method_C()\nd.method_A()",
      "metadata": {
        "trusted": true
      },
      "execution_count": 13,
      "outputs": [
        {
          "name": "stdout",
          "text": "This is method D.\nThis is method B.\nThis is method C.\nThis is method A.\n",
          "output_type": "stream"
        }
      ]
    },
    {
      "cell_type": "markdown",
      "source": "In this example, class A defines a method called method_A, class B inherits from A and defines a method called method_B, class C inherits from A and defines a method called method_C, and class D inherits from both B and C, and defines a method called method_D.\nThe D class can access methods from all three of its parent classes: A, B, and C. When an object of the D class is created and the method_D is called, it prints out \"This is method D.\". When the method_B is called, it prints out \"This is method B.\", and when the method_C is called, it prints out \"This is method C.\". Finally, when the method_A is called, it prints out \"This is method A.\". This example demonstrates how hybrid inheritance allows a class to inherit methods and properties from multiple classes with different types of inheritance.",
      "metadata": {}
    },
    {
      "cell_type": "code",
      "source": "",
      "metadata": {},
      "execution_count": null,
      "outputs": []
    }
  ]
}