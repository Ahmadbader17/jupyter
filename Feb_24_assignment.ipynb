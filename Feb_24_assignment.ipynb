{
 "cells": [
  {
   "cell_type": "markdown",
   "metadata": {},
   "source": [
    "# Answer 1\n",
    "\n",
    "1) read_csv() - used to read data from CSV files and create a pandas DataFrame object."
   ]
  },
  {
   "cell_type": "code",
   "execution_count": 2,
   "metadata": {},
   "outputs": [
    {
     "name": "stdout",
     "output_type": "stream",
     "text": [
      "                        Industry\n",
      "0             Accounting/Finance\n",
      "1   Advertising/Public Relations\n",
      "2             Aerospace/Aviation\n",
      "3  Arts/Entertainment/Publishing\n",
      "4                     Automotive\n"
     ]
    }
   ],
   "source": [
    "import pandas as pd\n",
    "\n",
    "# Reading a CSV file and storing it in a DataFrame object\n",
    "df = pd.read_csv('sample.csv')\n",
    "\n",
    "# Displaying the first 5 rows of the DataFrame\n",
    "print(df.head())"
   ]
  },
  {
   "cell_type": "markdown",
   "metadata": {},
   "source": [
    "2) info() - used to get a concise summary of a DataFrame, including the data type of each column, and the number of non-null values."
   ]
  },
  {
   "cell_type": "code",
   "execution_count": 3,
   "metadata": {},
   "outputs": [
    {
     "name": "stdout",
     "output_type": "stream",
     "text": [
      "<class 'pandas.core.frame.DataFrame'>\n",
      "RangeIndex: 3 entries, 0 to 2\n",
      "Data columns (total 3 columns):\n",
      " #   Column  Non-Null Count  Dtype \n",
      "---  ------  --------------  ----- \n",
      " 0   name    3 non-null      object\n",
      " 1   age     3 non-null      int64 \n",
      " 2   city    3 non-null      object\n",
      "dtypes: int64(1), object(2)\n",
      "memory usage: 200.0+ bytes\n",
      "None\n"
     ]
    }
   ],
   "source": [
    "import pandas as pd\n",
    "\n",
    "# Creating a DataFrame object from a dictionary\n",
    "data = {'name': ['John', 'Alice', 'Bob'],\n",
    "        'age': [25, 30, 20],\n",
    "        'city': ['New York', 'London', 'Paris']}\n",
    "df = pd.DataFrame(data)\n",
    "\n",
    "# Displaying information about the DataFrame\n",
    "print(df.info())"
   ]
  },
  {
   "cell_type": "markdown",
   "metadata": {},
   "source": [
    "3) describe() - used to generate descriptive statistics about a DataFrame, such as count, mean, standard deviation, and quartiles."
   ]
  },
  {
   "cell_type": "code",
   "execution_count": 4,
   "metadata": {},
   "outputs": [
    {
     "name": "stdout",
     "output_type": "stream",
     "text": [
      "             age\n",
      "count   6.000000\n",
      "mean   28.666667\n",
      "std     7.788881\n",
      "min    20.000000\n",
      "25%    22.750000\n",
      "50%    27.500000\n",
      "75%    33.750000\n",
      "max    40.000000\n"
     ]
    }
   ],
   "source": [
    "import pandas as pd\n",
    "\n",
    "# Creating a DataFrame object from a dictionary\n",
    "data = {'age': [25, 30, 20, 35, 40, 22]}\n",
    "df = pd.DataFrame(data)\n",
    "\n",
    "# Displaying descriptive statistics about the DataFrame\n",
    "print(df.describe())"
   ]
  },
  {
   "cell_type": "markdown",
   "metadata": {},
   "source": [
    "4) drop() - used to drop specified labels from rows or columns of a DataFrame."
   ]
  },
  {
   "cell_type": "code",
   "execution_count": 6,
   "metadata": {},
   "outputs": [
    {
     "name": "stdout",
     "output_type": "stream",
     "text": [
      "    name  age\n",
      "0   John   25\n",
      "1  Alice   30\n",
      "2    Bob   20\n"
     ]
    }
   ],
   "source": [
    "import pandas as pd\n",
    "\n",
    "# Creating a DataFrame object from a dictionary\n",
    "data = {'name': ['John', 'Alice', 'Bob'],\n",
    "        'age': [25, 30, 20],\n",
    "        'city': ['New York', 'London', 'Paris']}\n",
    "df = pd.DataFrame(data)\n",
    "\n",
    "# Dropping the 'city' column\n",
    "df = df.drop('city', axis=1)\n",
    "\n",
    "# Displaying the modified DataFrame\n",
    "print(df)"
   ]
  },
  {
   "cell_type": "markdown",
   "metadata": {},
   "source": [
    "5) groupby() - used to group data in a DataFrame based on one or more columns and perform operations on the grouped data."
   ]
  },
  {
   "cell_type": "code",
   "execution_count": 7,
   "metadata": {},
   "outputs": [
    {
     "name": "stdout",
     "output_type": "stream",
     "text": [
      "name\n",
      "Alice    30\n",
      "Bob      30\n",
      "John     30\n",
      "Name: age, dtype: int64\n"
     ]
    }
   ],
   "source": [
    "import pandas as pd\n",
    "\n",
    "# Creating a DataFrame object from a dictionary\n",
    "data = {'name': ['John', 'Alice', 'Bob', 'John', 'Bob'],\n",
    "        'age': [25, 30, 20, 35, 40],\n",
    "        'city': ['New York', 'London', 'Paris', 'New York', 'Paris']}\n",
    "df = pd.DataFrame(data)\n",
    "\n",
    "# Grouping the data by 'name' and calculating the mean age for each group\n",
    "grouped = df.groupby('name')['age'].mean()\n",
    "\n",
    "# Displaying the grouped data\n",
    "print(grouped)"
   ]
  },
  {
   "cell_type": "markdown",
   "metadata": {},
   "source": [
    "# Answer 2\n",
    "\n",
    "Here's a Python function that re-indexes a Pandas DataFrame with a new index that starts from 1 and increments by 2 for each row:"
   ]
  },
  {
   "cell_type": "code",
   "execution_count": 8,
   "metadata": {},
   "outputs": [],
   "source": [
    "import pandas as pd\n",
    "\n",
    "def reindex_df(df):\n",
    "    new_index = pd.RangeIndex(start=1, step=2, stop=len(df)*2+1)\n",
    "    df.index = new_index\n",
    "    return df"
   ]
  },
  {
   "cell_type": "markdown",
   "metadata": {},
   "source": [
    "Here's how you can use the function with a sample DataFrame:"
   ]
  },
  {
   "cell_type": "code",
   "execution_count": 9,
   "metadata": {},
   "outputs": [
    {
     "name": "stdout",
     "output_type": "stream",
     "text": [
      "    A    B     C\n",
      "1  10  100  1000\n",
      "3  20  200  2000\n",
      "5  30  300  3000\n"
     ]
    }
   ],
   "source": [
    "# Creating a sample DataFrame\n",
    "df = pd.DataFrame({'A': [10, 20, 30], 'B': [100, 200, 300], 'C': [1000, 2000, 3000]})\n",
    "\n",
    "# Re-indexing the DataFrame with the new index\n",
    "df = reindex_df(df)\n",
    "\n",
    "# Displaying the modified DataFrame\n",
    "print(df)"
   ]
  },
  {
   "cell_type": "markdown",
   "metadata": {},
   "source": [
    "In the reindex_df() function, we first create a new index using pd.RangeIndex() with start as 1, step as 2, and stop as the length of the DataFrame multiplied by 2 plus 1. This creates a RangeIndex with odd-numbered integers starting from 1."
   ]
  },
  {
   "cell_type": "markdown",
   "metadata": {},
   "source": [
    "# Answer 3"
   ]
  },
  {
   "cell_type": "code",
   "execution_count": 10,
   "metadata": {},
   "outputs": [
    {
     "name": "stdout",
     "output_type": "stream",
     "text": [
      "Sum of the first three values: 60\n"
     ]
    }
   ],
   "source": [
    "import pandas as pd\n",
    "\n",
    "def sum_first_three(df):\n",
    "    sum = 0\n",
    "    for i in range(3):\n",
    "        sum += df['Values'][i]\n",
    "    print(\"Sum of the first three values:\", sum)\n",
    "\n",
    "    # Create sample DataFrame\n",
    "data = {'Values': [10, 20, 30, 40, 50]}\n",
    "df = pd.DataFrame(data)\n",
    "\n",
    "# Call the function\n",
    "sum_first_three(df)\n"
   ]
  },
  {
   "cell_type": "markdown",
   "metadata": {},
   "source": [
    "# Answer 4"
   ]
  },
  {
   "cell_type": "code",
   "execution_count": 11,
   "metadata": {},
   "outputs": [
    {
     "name": "stdout",
     "output_type": "stream",
     "text": [
      "                           Text  Word_Count\n",
      "0         This is a sample text           5\n",
      "1  Another text with more words           5\n",
      "2                    Short text           2\n"
     ]
    }
   ],
   "source": [
    "import pandas as pd\n",
    "\n",
    "def add_word_count(df):\n",
    "    df['Word_Count'] = df['Text'].apply(lambda x: len(str(x).split(\" \")))\n",
    "    return df\n",
    "\n",
    "# Create sample DataFrame\n",
    "data = {'Text': ['This is a sample text', 'Another text with more words', 'Short text']}\n",
    "df = pd.DataFrame(data)\n",
    "\n",
    "# Call the function\n",
    "df = add_word_count(df)\n",
    "\n",
    "# Display the updated DataFrame\n",
    "print(df)\n"
   ]
  },
  {
   "cell_type": "markdown",
   "metadata": {},
   "source": [
    "# Answer 5\n",
    "\n",
    "DataFrame.size() returns the total number of elements in a DataFrame, which is equal to the product of the number of rows and the number of columns. This method returns a single integer value.\n",
    "\n",
    "DataFrame.shape() returns a tuple of integers representing the number of rows and columns in a DataFrame, respectively. The first element of the tuple is the number of rows, and the second element is the number of columns."
   ]
  },
  {
   "cell_type": "code",
   "execution_count": 12,
   "metadata": {},
   "outputs": [
    {
     "name": "stdout",
     "output_type": "stream",
     "text": [
      "6\n",
      "(3, 2)\n"
     ]
    }
   ],
   "source": [
    "import pandas as pd\n",
    "\n",
    "# Create sample DataFrame\n",
    "data = {'A': [1, 2, 3], 'B': [4, 5, 6]}\n",
    "df = pd.DataFrame(data)\n",
    "\n",
    "# Print the size of the DataFrame\n",
    "print(df.size)\n",
    "\n",
    "# Print the shape of the DataFrame\n",
    "print(df.shape)"
   ]
  },
  {
   "cell_type": "markdown",
   "metadata": {},
   "source": [
    "# Answer 6\n",
    "\n",
    "To read an Excel file in Pandas, we use the read_excel() function. This function is part of the Pandas library and can be used to read Excel files in various formats, including .xls and .xlsx.\n",
    "\n",
    "Here's an example of how to use the read_excel() function to read an Excel file:"
   ]
  },
  {
   "cell_type": "code",
   "execution_count": 13,
   "metadata": {},
   "outputs": [],
   "source": [
    "import pandas as pd\n",
    "\n",
    "# Read the Excel file\n",
    "df = pd.read_excel('excel.xlsx')"
   ]
  },
  {
   "cell_type": "code",
   "execution_count": 14,
   "metadata": {},
   "outputs": [
    {
     "data": {
      "text/html": [
       "<div>\n",
       "<style scoped>\n",
       "    .dataframe tbody tr th:only-of-type {\n",
       "        vertical-align: middle;\n",
       "    }\n",
       "\n",
       "    .dataframe tbody tr th {\n",
       "        vertical-align: top;\n",
       "    }\n",
       "\n",
       "    .dataframe thead th {\n",
       "        text-align: right;\n",
       "    }\n",
       "</style>\n",
       "<table border=\"1\" class=\"dataframe\">\n",
       "  <thead>\n",
       "    <tr style=\"text-align: right;\">\n",
       "      <th></th>\n",
       "      <th>Order ID</th>\n",
       "      <th>Order Date</th>\n",
       "      <th>Order Quantity</th>\n",
       "      <th>Sales</th>\n",
       "      <th>Ship Mode</th>\n",
       "      <th>Profit</th>\n",
       "      <th>Unit Price</th>\n",
       "      <th>Customer Name</th>\n",
       "      <th>Customer Segment</th>\n",
       "      <th>Product Category</th>\n",
       "    </tr>\n",
       "  </thead>\n",
       "  <tbody>\n",
       "    <tr>\n",
       "      <th>0</th>\n",
       "      <td>3</td>\n",
       "      <td>2010-10-13</td>\n",
       "      <td>6</td>\n",
       "      <td>261.5400</td>\n",
       "      <td>Regular Air</td>\n",
       "      <td>-213.250</td>\n",
       "      <td>38.94</td>\n",
       "      <td>Muhammed MacIntyre</td>\n",
       "      <td>Small Business</td>\n",
       "      <td>Office Supplies</td>\n",
       "    </tr>\n",
       "    <tr>\n",
       "      <th>1</th>\n",
       "      <td>6</td>\n",
       "      <td>2012-02-20</td>\n",
       "      <td>2</td>\n",
       "      <td>6.9300</td>\n",
       "      <td>Regular Air</td>\n",
       "      <td>-4.640</td>\n",
       "      <td>2.08</td>\n",
       "      <td>Ruben Dartt</td>\n",
       "      <td>Corporate</td>\n",
       "      <td>Office Supplies</td>\n",
       "    </tr>\n",
       "    <tr>\n",
       "      <th>2</th>\n",
       "      <td>32</td>\n",
       "      <td>2011-07-15</td>\n",
       "      <td>26</td>\n",
       "      <td>2808.0800</td>\n",
       "      <td>Regular Air</td>\n",
       "      <td>1054.820</td>\n",
       "      <td>107.53</td>\n",
       "      <td>Liz Pelletier</td>\n",
       "      <td>Corporate</td>\n",
       "      <td>Furniture</td>\n",
       "    </tr>\n",
       "    <tr>\n",
       "      <th>3</th>\n",
       "      <td>32</td>\n",
       "      <td>2011-07-15</td>\n",
       "      <td>24</td>\n",
       "      <td>1761.4000</td>\n",
       "      <td>Delivery Truck</td>\n",
       "      <td>-1748.560</td>\n",
       "      <td>70.89</td>\n",
       "      <td>Liz Pelletier</td>\n",
       "      <td>Corporate</td>\n",
       "      <td>Furniture</td>\n",
       "    </tr>\n",
       "    <tr>\n",
       "      <th>4</th>\n",
       "      <td>32</td>\n",
       "      <td>2011-07-15</td>\n",
       "      <td>23</td>\n",
       "      <td>160.2335</td>\n",
       "      <td>Regular Air</td>\n",
       "      <td>-85.129</td>\n",
       "      <td>7.99</td>\n",
       "      <td>Liz Pelletier</td>\n",
       "      <td>Corporate</td>\n",
       "      <td>Technology</td>\n",
       "    </tr>\n",
       "    <tr>\n",
       "      <th>...</th>\n",
       "      <td>...</td>\n",
       "      <td>...</td>\n",
       "      <td>...</td>\n",
       "      <td>...</td>\n",
       "      <td>...</td>\n",
       "      <td>...</td>\n",
       "      <td>...</td>\n",
       "      <td>...</td>\n",
       "      <td>...</td>\n",
       "      <td>...</td>\n",
       "    </tr>\n",
       "    <tr>\n",
       "      <th>1002</th>\n",
       "      <td>7171</td>\n",
       "      <td>2011-02-13</td>\n",
       "      <td>17</td>\n",
       "      <td>303.1865</td>\n",
       "      <td>Regular Air</td>\n",
       "      <td>92.592</td>\n",
       "      <td>20.99</td>\n",
       "      <td>Andy Gerbode</td>\n",
       "      <td>Consumer</td>\n",
       "      <td>Technology</td>\n",
       "    </tr>\n",
       "    <tr>\n",
       "      <th>1003</th>\n",
       "      <td>7174</td>\n",
       "      <td>2012-03-10</td>\n",
       "      <td>10</td>\n",
       "      <td>141.9200</td>\n",
       "      <td>Regular Air</td>\n",
       "      <td>12.200</td>\n",
       "      <td>13.73</td>\n",
       "      <td>Thomas Thornton</td>\n",
       "      <td>Consumer</td>\n",
       "      <td>Furniture</td>\n",
       "    </tr>\n",
       "    <tr>\n",
       "      <th>1004</th>\n",
       "      <td>7175</td>\n",
       "      <td>2010-02-07</td>\n",
       "      <td>10</td>\n",
       "      <td>748.2500</td>\n",
       "      <td>Delivery Truck</td>\n",
       "      <td>-86.990</td>\n",
       "      <td>70.98</td>\n",
       "      <td>Helen Andreada</td>\n",
       "      <td>Corporate</td>\n",
       "      <td>Furniture</td>\n",
       "    </tr>\n",
       "    <tr>\n",
       "      <th>1005</th>\n",
       "      <td>7203</td>\n",
       "      <td>2009-01-08</td>\n",
       "      <td>25</td>\n",
       "      <td>21752.0100</td>\n",
       "      <td>Regular Air</td>\n",
       "      <td>9296.348</td>\n",
       "      <td>896.99</td>\n",
       "      <td>Ruben Dartt</td>\n",
       "      <td>Corporate</td>\n",
       "      <td>Office Supplies</td>\n",
       "    </tr>\n",
       "    <tr>\n",
       "      <th>1006</th>\n",
       "      <td>7239</td>\n",
       "      <td>2011-06-29</td>\n",
       "      <td>50</td>\n",
       "      <td>6206.1600</td>\n",
       "      <td>Regular Air</td>\n",
       "      <td>1416.270</td>\n",
       "      <td>120.33</td>\n",
       "      <td>Craig Carroll</td>\n",
       "      <td>Small Business</td>\n",
       "      <td>Office Supplies</td>\n",
       "    </tr>\n",
       "  </tbody>\n",
       "</table>\n",
       "<p>1007 rows × 10 columns</p>\n",
       "</div>"
      ],
      "text/plain": [
       "      Order ID Order Date  Order Quantity       Sales       Ship Mode  \\\n",
       "0            3 2010-10-13               6    261.5400     Regular Air   \n",
       "1            6 2012-02-20               2      6.9300     Regular Air   \n",
       "2           32 2011-07-15              26   2808.0800     Regular Air   \n",
       "3           32 2011-07-15              24   1761.4000  Delivery Truck   \n",
       "4           32 2011-07-15              23    160.2335     Regular Air   \n",
       "...        ...        ...             ...         ...             ...   \n",
       "1002      7171 2011-02-13              17    303.1865     Regular Air   \n",
       "1003      7174 2012-03-10              10    141.9200     Regular Air   \n",
       "1004      7175 2010-02-07              10    748.2500  Delivery Truck   \n",
       "1005      7203 2009-01-08              25  21752.0100     Regular Air   \n",
       "1006      7239 2011-06-29              50   6206.1600     Regular Air   \n",
       "\n",
       "        Profit  Unit Price       Customer Name Customer Segment  \\\n",
       "0     -213.250       38.94  Muhammed MacIntyre   Small Business   \n",
       "1       -4.640        2.08         Ruben Dartt        Corporate   \n",
       "2     1054.820      107.53       Liz Pelletier        Corporate   \n",
       "3    -1748.560       70.89       Liz Pelletier        Corporate   \n",
       "4      -85.129        7.99       Liz Pelletier        Corporate   \n",
       "...        ...         ...                 ...              ...   \n",
       "1002    92.592       20.99        Andy Gerbode         Consumer   \n",
       "1003    12.200       13.73     Thomas Thornton         Consumer   \n",
       "1004   -86.990       70.98      Helen Andreada        Corporate   \n",
       "1005  9296.348      896.99         Ruben Dartt        Corporate   \n",
       "1006  1416.270      120.33       Craig Carroll   Small Business   \n",
       "\n",
       "     Product Category  \n",
       "0     Office Supplies  \n",
       "1     Office Supplies  \n",
       "2           Furniture  \n",
       "3           Furniture  \n",
       "4          Technology  \n",
       "...               ...  \n",
       "1002       Technology  \n",
       "1003        Furniture  \n",
       "1004        Furniture  \n",
       "1005  Office Supplies  \n",
       "1006  Office Supplies  \n",
       "\n",
       "[1007 rows x 10 columns]"
      ]
     },
     "execution_count": 14,
     "metadata": {},
     "output_type": "execute_result"
    }
   ],
   "source": [
    "df"
   ]
  },
  {
   "cell_type": "markdown",
   "metadata": {},
   "source": [
    "# Answer 7"
   ]
  },
  {
   "cell_type": "code",
   "execution_count": 15,
   "metadata": {},
   "outputs": [],
   "source": [
    "#function to return names in data\n",
    "import pandas as pd\n",
    "\n",
    "def extract_username(df):\n",
    "    df['Username'] = df['Email'].apply(lambda x: x.split('@')[0])\n",
    "    return df"
   ]
  },
  {
   "cell_type": "code",
   "execution_count": 16,
   "metadata": {},
   "outputs": [
    {
     "name": "stdout",
     "output_type": "stream",
     "text": [
      "                         Email         Username\n",
      "0      ahmad.bader@example.com      ahmad.bader\n",
      "1  Sudhanshu.Kumar@example.com  Sudhanshu.Kumar\n",
      "2       Krish.Naik@example.com       Krish.Naik\n"
     ]
    }
   ],
   "source": [
    "# Create sample DataFrame\n",
    "data = {'Email': ['ahmad.bader@example.com', 'Sudhanshu.Kumar@example.com', 'Krish.Naik@example.com']}\n",
    "df = pd.DataFrame(data)\n",
    "\n",
    "# Call the function\n",
    "df = extract_username(df)\n",
    "\n",
    "# Display the updated DataFrame\n",
    "print(df)"
   ]
  },
  {
   "cell_type": "markdown",
   "metadata": {},
   "source": [
    "# Answer 8"
   ]
  },
  {
   "cell_type": "code",
   "execution_count": 17,
   "metadata": {},
   "outputs": [],
   "source": [
    "#function to satisfy the condition in the data\n",
    "import pandas as pd\n",
    "\n",
    "def select_rows(df):\n",
    "    selected_rows = df[(df['A'] > 5) & (df['B'] < 10)]\n",
    "    return selected_rows"
   ]
  },
  {
   "cell_type": "code",
   "execution_count": 18,
   "metadata": {},
   "outputs": [
    {
     "name": "stdout",
     "output_type": "stream",
     "text": [
      "   A  B  C\n",
      "1  6  5  Y\n",
      "3  7  4  W\n",
      "5  8  2  Q\n"
     ]
    }
   ],
   "source": [
    "# Create sample DataFrame\n",
    "data = {'A': [1, 6, 2, 7, 3, 8], 'B': [10, 5, 12, 4, 8, 2], 'C': ['X', 'Y', 'Z', 'W', 'P', 'Q']}\n",
    "df = pd.DataFrame(data)\n",
    "\n",
    "# Call the function\n",
    "selected_df = select_rows(df)\n",
    "\n",
    "# Display the selected rows\n",
    "print(selected_df)"
   ]
  },
  {
   "cell_type": "markdown",
   "metadata": {},
   "source": [
    "# Answer 9"
   ]
  },
  {
   "cell_type": "code",
   "execution_count": 19,
   "metadata": {},
   "outputs": [],
   "source": [
    "#function to calculate the necessary things\n",
    "import pandas as pd\n",
    "\n",
    "def calculate_statistics(df):\n",
    "    mean = df['Values'].mean()\n",
    "    median = df['Values'].median()\n",
    "    std_dev = df['Values'].std()\n",
    "    return mean, median, std_dev"
   ]
  },
  {
   "cell_type": "code",
   "execution_count": 21,
   "metadata": {},
   "outputs": [
    {
     "name": "stdout",
     "output_type": "stream",
     "text": [
      "Mean:  57.6875\n",
      "Median:  60.0\n",
      "Standard Deviation:  24.540357916433628\n"
     ]
    }
   ],
   "source": [
    "# Create sample DataFrame\n",
    "data = {'Values': [10,20,30,40,50,50,50,60,60,65,66,67,88,88,89,90]}\n",
    "df = pd.DataFrame(data)\n",
    "\n",
    "# Call the function\n",
    "mean, median, std_dev = calculate_statistics(df)\n",
    "\n",
    "# Display the calculated statistics\n",
    "print(\"Mean: \", mean)\n",
    "print(\"Median: \", median)\n",
    "print(\"Standard Deviation: \", std_dev)\n"
   ]
  },
  {
   "cell_type": "markdown",
   "metadata": {},
   "source": [
    "# Answer 10"
   ]
  },
  {
   "cell_type": "code",
   "execution_count": 26,
   "metadata": {},
   "outputs": [],
   "source": [
    "#a Python function that will create a new column 'MovingAverage' in a given Pandas DataFrame 'df' with columns 'Sales' and 'Date' that contains the moving average of the sales for the past 7 days for each row in the DataFrame\n",
    "\n",
    "import pandas as pd\n",
    "\n",
    "def calculate_moving_average(df):\n",
    "    window_size = 7\n",
    "    sales_values = df['Sales'].values\n",
    "    moving_averages = pd.Series(sales_values).rolling(window_size, min_periods=1).mean()\n",
    "    df['MovingAverage'] = moving_averages\n",
    "    return df"
   ]
  },
  {
   "cell_type": "code",
   "execution_count": 27,
   "metadata": {},
   "outputs": [
    {
     "name": "stdout",
     "output_type": "stream",
     "text": [
      "         Date  Sales  MovingAverage\n",
      "0  2022-01-01    100          100.0\n",
      "1  2022-01-02    200          150.0\n",
      "2  2022-01-03    300          200.0\n",
      "3  2022-01-04    400          250.0\n",
      "4  2022-01-05    500          300.0\n",
      "5  2022-01-06    600          350.0\n",
      "6  2022-01-07    700          400.0\n",
      "7  2022-01-08    800          500.0\n",
      "8  2022-01-09    900          600.0\n",
      "9  2022-01-10   1000          700.0\n"
     ]
    }
   ],
   "source": [
    "# Create sample DataFrame to use the function\n",
    "data = {'Date': ['2022-01-01', '2022-01-02', '2022-01-03', '2022-01-04', '2022-01-05', '2022-01-06', '2022-01-07', '2022-01-08', '2022-01-09', '2022-01-10'],\n",
    "        'Sales': [100, 200, 300, 400, 500, 600, 700, 800, 900, 1000]}\n",
    "df = pd.DataFrame(data)\n",
    "\n",
    "# Call the function\n",
    "df_with_ma = calculate_moving_average(df)\n",
    "\n",
    "# Display the DataFrame with the MovingAverage column\n",
    "print(df_with_ma)"
   ]
  },
  {
   "cell_type": "markdown",
   "metadata": {},
   "source": [
    "# Answer 11"
   ]
  },
  {
   "cell_type": "code",
   "execution_count": 28,
   "metadata": {},
   "outputs": [],
   "source": [
    "#function to satisfy the condition\n",
    "def add_weekday_column(df):\n",
    "    df['Weekday'] = df['Date'].dt.strftime('%A')\n",
    "    return df"
   ]
  },
  {
   "cell_type": "code",
   "execution_count": 30,
   "metadata": {},
   "outputs": [
    {
     "name": "stdout",
     "output_type": "stream",
     "text": [
      "        Date  Sales    Weekday\n",
      "0 2022-01-01    100   Saturday\n",
      "1 2022-01-02    200     Sunday\n",
      "2 2022-01-03    300     Monday\n",
      "3 2022-01-04    400    Tuesday\n",
      "4 2022-01-05    500  Wednesday\n"
     ]
    }
   ],
   "source": [
    "# a sample example of using the above function\n",
    "\n",
    "# create example dataframe\n",
    "df = pd.DataFrame({\n",
    "    'Date': ['2022-01-01', '2022-01-02', '2022-01-03', '2022-01-04', '2022-01-05', '2022-01-06', '2022-01-07'],\n",
    "    'Sales': [100, 200, 300, 400, 500, 600, 700]\n",
    "})\n",
    "\n",
    "# convert 'Date' column to datetime format\n",
    "df['Date'] = pd.to_datetime(df['Date'])\n",
    "\n",
    "# add weekday column\n",
    "def add_weekday_column(df):\n",
    "    df['Weekday'] = df['Date'].dt.strftime('%A')\n",
    "    return df\n",
    "\n",
    "df = add_weekday_column(df)\n",
    "print(df.head())"
   ]
  },
  {
   "cell_type": "markdown",
   "metadata": {},
   "source": [
    "# Answer 12"
   ]
  },
  {
   "cell_type": "code",
   "execution_count": null,
   "metadata": {},
   "outputs": [],
   "source": [
    "import pandas as pd\n",
    "\n",
    "# create example dataframe\n",
    "df = pd.DataFrame({\n",
    "    'Date': pd.date_range(start='2023-01-01', end='2023-02-28'),\n",
    "    'Sales': [100, 200, 300, 400, 500, 600, 700, 800, 900, 1000, 1100, 1200, 1300, 1400, 1500, 1600, 1700, 1800, 1900, 2000, 2100, 2200, 2300, 2400, 2500, 2600, 2700, 2800]\n",
    "})\n",
    "\n",
    "# select rows between '2023-01-01' and '2023-01-31'\n",
    "start_date = '2023-01-01'\n",
    "end_date = '2023-01-31'\n",
    "mask = (df['Date'] >= start_date) & (df['Date'] <= end_date)\n",
    "filtered_df = df.loc[mask]\n",
    "\n",
    "print(filtered_df.head())"
   ]
  },
  {
   "cell_type": "markdown",
   "metadata": {},
   "source": [
    "# Answer 13"
   ]
  },
  {
   "cell_type": "markdown",
   "metadata": {},
   "source": [
    "The first and foremost necessary library that needs to be imported to use the basic functions of pandas is pandas itself. The pandas library provides a powerful set of tools for working with structured data, including functions for creating, manipulating, and analyzing data in tabular form using the DataFrame and Series objects."
   ]
  },
  {
   "cell_type": "code",
   "execution_count": null,
   "metadata": {},
   "outputs": [],
   "source": []
  }
 ],
 "metadata": {
  "kernelspec": {
   "display_name": "Python 3",
   "language": "python",
   "name": "python3"
  },
  "language_info": {
   "codemirror_mode": {
    "name": "ipython",
    "version": 3
   },
   "file_extension": ".py",
   "mimetype": "text/x-python",
   "name": "python",
   "nbconvert_exporter": "python",
   "pygments_lexer": "ipython3",
   "version": "3.8.5"
  }
 },
 "nbformat": 4,
 "nbformat_minor": 4
}
