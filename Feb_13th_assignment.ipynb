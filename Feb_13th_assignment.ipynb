{
  "metadata": {
    "kernelspec": {
      "name": "python",
      "display_name": "Python (Pyodide)",
      "language": "python"
    },
    "language_info": {
      "codemirror_mode": {
        "name": "python",
        "version": 3
      },
      "file_extension": ".py",
      "mimetype": "text/x-python",
      "name": "python",
      "nbconvert_exporter": "python",
      "pygments_lexer": "ipython3",
      "version": "3.8"
    }
  },
  "nbformat_minor": 5,
  "nbformat": 4,
  "cells": [
    {
      "cell_type": "markdown",
      "source": "# Answer 1\n\nIn Python, exceptions are used to signal that an error or unexpected condition has occurred during program execution. When an exception is raised, it interrupts the normal flow of execution and allows the program to handle the error in a controlled manner.\n\nCustom exceptions are used when a programmer wants to define their own type of exception that can be raised in response to a specific error condition. In Python, to create a custom exception, we typically create a new class that inherits from the built-in Exception class.\n\nThere are several reasons why we use the Exception class as the base class for our custom exceptions:\n\nInherits important behavior: The Exception class provides important behavior that is necessary for all exceptions. This includes the ability to store a message describing the error, the ability to be raised and caught by the try and except statements, and the ability to print a traceback when the exception is raised.\n\nConsistency and ease of use: By inheriting from Exception, our custom exceptions follow the same conventions as built-in exceptions, making them easier to use and understand. This also ensures that our custom exceptions can be caught by generic except clauses, making it easier to handle them in a consistent manner.\n\nCustomization: By inheriting from Exception, we can customize our custom exceptions with additional attributes and methods that are specific to our use case.\n\nIn summary, using the Exception class as the base class for custom exceptions provides important behavior and consistency, and allows for customization as needed.",
      "metadata": {},
      "id": "fe28d5ec-46b4-4b75-9ded-ca3f14203e16"
    },
    {
      "cell_type": "markdown",
      "source": "# Answer 2\n\nHere is a python program that prints the exception hierarchy:",
      "metadata": {},
      "id": "6bc8754f-776f-4641-a257-8ddfdc626a23"
    },
    {
      "cell_type": "code",
      "source": "# Get the base Exception class\nbase = Exception.__base__\n\n# Loop through the base class and all its subclasses\nfor cls in base.__subclasses__():\n    # Print the class name and its base classes\n    print(f\"{cls.__name__}: {', '.join(bc.__name__ for bc in cls.__bases__)}\")\n    # Recursively print subclasses\n    for subcls in cls.__subclasses__():\n        print(f\"  {subcls.__name__}: {', '.join(bc.__name__ for bc in subcls.__bases__)}\")",
      "metadata": {
        "trusted": true
      },
      "execution_count": 1,
      "outputs": [
        {
          "name": "stdout",
          "text": "Exception: BaseException\n  TypeError: Exception\n  StopAsyncIteration: Exception\n  StopIteration: Exception\n  ImportError: Exception\n  OSError: Exception\n  EOFError: Exception\n  RuntimeError: Exception\n  NameError: Exception\n  AttributeError: Exception\n  SyntaxError: Exception\n  LookupError: Exception\n  ValueError: Exception\n  AssertionError: Exception\n  ArithmeticError: Exception\n  SystemError: Exception\n  ReferenceError: Exception\n  MemoryError: Exception\n  BufferError: Exception\n  Warning: Exception\n  error: Exception\n  Verbose: Exception\n  Error: Exception\n  error: Exception\n  RegistryError: Exception\n  _GiveupOnFastCopy: Exception\n  error: Exception\n  Error: Exception\n  TarError: Exception\n  _OptionError: Exception\n  TokenError: Exception\n  StopTokenizing: Exception\n  EvalCodeResultException: Exception\n  JsException: Exception\n  ConversionError: Exception\n  InternalError: Exception\n  ConversionError: Exception\n  ClassFoundException: Exception\n  EndOfBlock: Exception\n  Error: Exception\n  _GiveupOnSendfile: Exception\n  SubprocessError: Exception\n  TimeoutError: Exception\n  InvalidStateError: Exception\n  LimitOverrunError: Exception\n  QueueEmpty: Exception\n  QueueFull: Exception\n  JsException: Exception\n  Incomplete: Exception\n  Error: Exception\n  BadZipFile: Exception\n  LargeZipFile: Exception\n  Error: Exception\n  MessageError: Exception\n  UnsupportedWheel: Exception\n  ParseBaseException: Exception\n  RecursiveGrammarException: Exception\n  ResolutionError: Exception\n  UnsupportedWheel: Exception\n  SkipTest: Exception\n  _ShouldStop: Exception\n  _UnexpectedSuccess: Exception\n  ArgumentError: Exception\n  ArgumentTypeError: Exception\n  InvalidSpecError: Exception\n  TraitError: Exception\n  PickleError: Exception\n  _Stop: Exception\n  Empty: Exception\n  Full: Exception\n  ConfigError: Exception\n  ConfigurableError: Exception\n  ApplicationError: Exception\n  ErrorDuringImport: Exception\n  NotOneValueFound: Exception\n  CannotEval: Exception\n  OptionError: Exception\n  BdbQuit: Exception\n  Restart: Exception\n  FindCmdError: Exception\n  HomeDirError: Exception\n  ProfileDirError: Exception\n  IPythonCoreError: Exception\n  InputRejected: Exception\n  GetoptError: Exception\n  ErrorToken: Exception\n  _Error: Exception\n  PrefilterError: Exception\n  AliasError: Exception\n  Error: Exception\n  Warning: Exception\n  SpaceInInput: Exception\n  DOMException: Exception\n  ValidationError: Exception\n  EditReadOnlyBuffer: Exception\n  _Retry: Exception\n  InvalidLayoutError: Exception\n  HeightIsUnknownError: Exception\n  GuardRejection: Exception\n  ParserSyntaxError: Exception\n  InternalParseError: Exception\n  _PositionUpdatingFinished: Exception\n  SimpleGetItemNotFound: Exception\n  UncaughtAttributeError: Exception\n  HasNoContext: Exception\n  ParamIssue: Exception\n  _JediError: Exception\n  OnErrorLeaf: Exception\n  InvalidPythonEnvironment: Exception\n  HTTPException: Exception\n  InteractivelyDefined: Exception\n  KillEmbedded: Exception\nGeneratorExit: BaseException\nSystemExit: BaseException\nKeyboardInterrupt: BaseException\nCancelledError: BaseException\n",
          "output_type": "stream"
        }
      ],
      "id": "15b5ee34-e2a9-407d-839c-fe89fe4b4b1b"
    },
    {
      "cell_type": "markdown",
      "source": "This program starts with the base Exception class and recursively loops through all of its subclasses, printing each class name along with its base classes.\nThis shows the hierarchy of all built-in exceptions in Python, with each exception class listed along with its base classes.",
      "metadata": {},
      "id": "73daeada-7be8-4cd9-82d3-a6c24c185b60"
    },
    {
      "cell_type": "markdown",
      "source": "# Answer 3\n\nThe ArithmeticError class is a built-in Python exception class that is raised when an arithmetic operation fails. It is a base class for several other specific exception classes that represent more specific types of arithmetic errors.\n\nTwo examples of errors that are defined in the ArithmeticError class are ZeroDivisionError and OverflowError.\n\n1) ZeroDivisionError: This exception is raised when an attempt is made to divide a number by zero. For example:",
      "metadata": {},
      "id": "e40eb96b-886f-4db4-a102-92d26bc9cc98"
    },
    {
      "cell_type": "code",
      "source": "a = 10\nb = 0\nc = a / b   # Raises ZeroDivisionError",
      "metadata": {
        "trusted": true
      },
      "execution_count": 2,
      "outputs": [
        {
          "ename": "<class 'ZeroDivisionError'>",
          "evalue": "division by zero",
          "traceback": [
            "\u001b[0;31m---------------------------------------------------------------------------\u001b[0m",
            "\u001b[0;31mZeroDivisionError\u001b[0m                         Traceback (most recent call last)",
            "Cell \u001b[0;32mIn[2], line 3\u001b[0m\n\u001b[1;32m      1\u001b[0m a \u001b[38;5;241m=\u001b[39m \u001b[38;5;241m10\u001b[39m\n\u001b[1;32m      2\u001b[0m b \u001b[38;5;241m=\u001b[39m \u001b[38;5;241m0\u001b[39m\n\u001b[0;32m----> 3\u001b[0m c \u001b[38;5;241m=\u001b[39m \u001b[43ma\u001b[49m\u001b[43m \u001b[49m\u001b[38;5;241;43m/\u001b[39;49m\u001b[43m \u001b[49m\u001b[43mb\u001b[49m   \u001b[38;5;66;03m# Raises ZeroDivisionError\u001b[39;00m\n",
            "\u001b[0;31mZeroDivisionError\u001b[0m: division by zero"
          ],
          "output_type": "error"
        }
      ],
      "id": "7e4c58a1-1b36-4b88-ba32-1fce3baa3610"
    },
    {
      "cell_type": "markdown",
      "source": "2) OverflowError: This exception is raised when an arithmetic operation exceeds the maximum representable value for a numeric type. For example:",
      "metadata": {},
      "id": "5e6b9bd5-8550-4f4d-9da2-cb909d1bc29a"
    },
    {
      "cell_type": "code",
      "source": "import sys\na = sys.maxsize\nb = a * 2   # Raises OverflowError",
      "metadata": {
        "trusted": true
      },
      "execution_count": 3,
      "outputs": [],
      "id": "e2e631d3-aef9-4d5e-acfe-36134f86b001"
    },
    {
      "cell_type": "markdown",
      "source": "In this example, the value of a is the maximum representable integer value on the current platform. When we multiply a by 2, the result exceeds the maximum value that can be represented, and an OverflowError is raised.",
      "metadata": {},
      "id": "279656a3-114d-4045-bf7a-47ad953e0bb6"
    },
    {
      "cell_type": "markdown",
      "source": "# Answer 4\n\nThe LookupError class is a base class for a group of exceptions that are raised when a specific index or key cannot be found in a collection such as a list, dictionary, or tuple.\n\nTwo specific types of exceptions that are derived from the LookupError class are KeyError and IndexError.\n\n1) KeyError: This exception is raised when an attempt is made to access a dictionary key that does not exist. For example:",
      "metadata": {},
      "id": "a714e7cd-9bc3-4f8c-a71c-dd0b285e9844"
    },
    {
      "cell_type": "code",
      "source": "d = {'a': 1, 'b': 2}\nvalue = d['c']   # Raises KeyError",
      "metadata": {
        "trusted": true
      },
      "execution_count": 4,
      "outputs": [
        {
          "ename": "<class 'KeyError'>",
          "evalue": "'c'",
          "traceback": [
            "\u001b[0;31m---------------------------------------------------------------------------\u001b[0m",
            "\u001b[0;31mKeyError\u001b[0m                                  Traceback (most recent call last)",
            "Cell \u001b[0;32mIn[4], line 2\u001b[0m\n\u001b[1;32m      1\u001b[0m d \u001b[38;5;241m=\u001b[39m {\u001b[38;5;124m'\u001b[39m\u001b[38;5;124ma\u001b[39m\u001b[38;5;124m'\u001b[39m: \u001b[38;5;241m1\u001b[39m, \u001b[38;5;124m'\u001b[39m\u001b[38;5;124mb\u001b[39m\u001b[38;5;124m'\u001b[39m: \u001b[38;5;241m2\u001b[39m}\n\u001b[0;32m----> 2\u001b[0m value \u001b[38;5;241m=\u001b[39m \u001b[43md\u001b[49m\u001b[43m[\u001b[49m\u001b[38;5;124;43m'\u001b[39;49m\u001b[38;5;124;43mc\u001b[39;49m\u001b[38;5;124;43m'\u001b[39;49m\u001b[43m]\u001b[49m   \u001b[38;5;66;03m# Raises KeyError\u001b[39;00m\n",
            "\u001b[0;31mKeyError\u001b[0m: 'c'"
          ],
          "output_type": "error"
        }
      ],
      "id": "5598ce88-49b9-47f8-a69e-b84f8666c9ff"
    },
    {
      "cell_type": "markdown",
      "source": "In this example, the dictionary d contains the keys 'a' and 'b', but not the key 'c'. When we try to access d['c'], a KeyError is raised.\n\n2) IndexError: This exception is raised when an attempt is made to access a list or tuple index that does not exist. For example:",
      "metadata": {},
      "id": "be76119f-515c-4a02-a998-581cf2340744"
    },
    {
      "cell_type": "code",
      "source": "l = [1, 2, 3]\nvalue = l[3]   # Raises IndexError",
      "metadata": {
        "trusted": true
      },
      "execution_count": 5,
      "outputs": [
        {
          "ename": "<class 'IndexError'>",
          "evalue": "list index out of range",
          "traceback": [
            "\u001b[0;31m---------------------------------------------------------------------------\u001b[0m",
            "\u001b[0;31mIndexError\u001b[0m                                Traceback (most recent call last)",
            "Cell \u001b[0;32mIn[5], line 2\u001b[0m\n\u001b[1;32m      1\u001b[0m l \u001b[38;5;241m=\u001b[39m [\u001b[38;5;241m1\u001b[39m, \u001b[38;5;241m2\u001b[39m, \u001b[38;5;241m3\u001b[39m]\n\u001b[0;32m----> 2\u001b[0m value \u001b[38;5;241m=\u001b[39m \u001b[43ml\u001b[49m\u001b[43m[\u001b[49m\u001b[38;5;241;43m3\u001b[39;49m\u001b[43m]\u001b[49m   \u001b[38;5;66;03m# Raises IndexError\u001b[39;00m\n",
            "\u001b[0;31mIndexError\u001b[0m: list index out of range"
          ],
          "output_type": "error"
        }
      ],
      "id": "e0f5c51d-20b8-4206-952d-bba9a443b4b4"
    },
    {
      "cell_type": "markdown",
      "source": "In this example, the list l contains three elements with indices 0, 1, and 2. When we try to access l[3], which is outside the bounds of the list, an IndexError is raised.\n\nThese exceptions can be caught and handled in a program to provide a more meaningful error message or to gracefully handle the error. For example, if we catch a KeyError when trying to access a key in a dictionary, we can display a message to the user saying that the key was not found and prompt them to enter a valid key. Similarly, if we catch an IndexError when trying to access a list index, we can display an error message to the user and provide them with a way to correct the input.",
      "metadata": {},
      "id": "1100f8b3-2404-4461-a6ed-faacef3305c3"
    },
    {
      "cell_type": "markdown",
      "source": "# Answer 5\n\nImportError is a built-in exception class in Python that is raised when an error occurs while importing a module. This error can occur for a variety of reasons, such as the module not being found, or the module containing errors or dependencies that cannot be satisfied.\n\nWhen an ImportError occurs, it is typically because the Python interpreter cannot find the module being imported, or because the module contains syntax errors or other problems that prevent it from being imported correctly. For example, if we try to import a module that does not exist, we will get an ImportError:",
      "metadata": {},
      "id": "a03bc762-8b1f-4f8b-9be8-f47b5ae63e01"
    },
    {
      "cell_type": "code",
      "source": "import non_existent_module   # Raises ImportError",
      "metadata": {
        "trusted": true
      },
      "execution_count": 6,
      "outputs": [
        {
          "ename": "<class 'ModuleNotFoundError'>",
          "evalue": "No module named 'non_existent_module'",
          "traceback": [
            "\u001b[0;31m---------------------------------------------------------------------------\u001b[0m",
            "\u001b[0;31mModuleNotFoundError\u001b[0m                       Traceback (most recent call last)",
            "Cell \u001b[0;32mIn[6], line 1\u001b[0m\n\u001b[0;32m----> 1\u001b[0m \u001b[38;5;28;01mimport\u001b[39;00m \u001b[38;5;21;01mnon_existent_module\u001b[39;00m   \u001b[38;5;66;03m# Raises ImportError\u001b[39;00m\n",
            "\u001b[0;31mModuleNotFoundError\u001b[0m: No module named 'non_existent_module'"
          ],
          "output_type": "error"
        }
      ],
      "id": "6f37bc38-37d2-42f2-a2ab-42a828b6b7f2"
    },
    {
      "cell_type": "markdown",
      "source": "In Python 3.6 and later versions, a new exception class called ModuleNotFoundError was introduced. This exception is a subclass of ImportError, and is raised when a module is not found during import.\n\nWith the introduction of ModuleNotFoundError, the error message is now more specific and includes the name of the missing module. For example, if we try to import a module that does not exist, we will get a ModuleNotFoundError:",
      "metadata": {},
      "id": "b8f70b67-35cb-4abe-9b3c-a7117019226b"
    },
    {
      "cell_type": "code",
      "source": "import non_existent_module   # Raises ModuleNotFoundError in Python 3.6 and later",
      "metadata": {
        "trusted": true
      },
      "execution_count": 7,
      "outputs": [
        {
          "ename": "<class 'ModuleNotFoundError'>",
          "evalue": "No module named 'non_existent_module'",
          "traceback": [
            "\u001b[0;31m---------------------------------------------------------------------------\u001b[0m",
            "\u001b[0;31mModuleNotFoundError\u001b[0m                       Traceback (most recent call last)",
            "Cell \u001b[0;32mIn[7], line 1\u001b[0m\n\u001b[0;32m----> 1\u001b[0m \u001b[38;5;28;01mimport\u001b[39;00m \u001b[38;5;21;01mnon_existent_module\u001b[39;00m   \u001b[38;5;66;03m# Raises ModuleNotFoundError in Python 3.6 and later\u001b[39;00m\n",
            "\u001b[0;31mModuleNotFoundError\u001b[0m: No module named 'non_existent_module'"
          ],
          "output_type": "error"
        }
      ],
      "id": "ef0ec03e-a5e4-4bfa-b69c-b93200ffc400"
    },
    {
      "cell_type": "markdown",
      "source": "In summary, ImportError is a built-in exception class that is raised when an error occurs while importing a module, while ModuleNotFoundError is a subclass of ImportError that is specifically raised when a module is not found during import.",
      "metadata": {},
      "id": "09d8ffba-fb70-4a40-bb62-afe7cd9157e5"
    },
    {
      "cell_type": "markdown",
      "source": "# Answer 6\n\nException handling is an important aspect of writing robust and reliable Python code. Here are some best practices for exception handling in Python:\n\nUse specific exception classes: Catching specific exceptions instead of using the general Exception class can help to pinpoint and fix the root cause of errors. For example, instead of catching the general Exception, catch specific exceptions like ValueError, TypeError, etc.\n\nHandle exceptions at the appropriate level: It is important to catch exceptions at the appropriate level in the program. For example, if an exception occurs while reading data from a file, it is best to handle the exception at the file reading function, rather than in the main program loop.\n\nUse try-except-finally blocks: Use try-except-finally blocks to catch exceptions and handle them in a controlled manner. The finally block is used to clean up resources and ensure that the program exits gracefully, even if an exception occurs.\n\nProvide useful error messages: Provide meaningful and clear error messages that help to diagnose the problem and suggest a course of action to the user.\n\nLog exceptions: Logging exceptions can help in diagnosing problems and identifying areas for improvement. Use a logging framework like logging to log exceptions with relevant information like the error message and the context in which the error occurred.\n\nReraise exceptions when appropriate: If you catch an exception and cannot handle it, it is a good practice to reraise the exception using the raise statement, so that it can be handled at a higher level.\n\nUse context managers: Use context managers like with statements to handle resources such as files, network connections, or database connections, and ensure that they are properly closed and cleaned up, even in the event of an exception.\n\nBy following these best practices, you can write more robust and reliable Python code that is better equipped to handle unexpected errors and exceptions.",
      "metadata": {},
      "id": "053b94a9-f562-4d99-b1b7-f7be864cdf27"
    },
    {
      "cell_type": "code",
      "source": "",
      "metadata": {},
      "execution_count": null,
      "outputs": [],
      "id": "e8e89a9a-38e8-4bcc-ad17-d8e715b1a826"
    }
  ]
}