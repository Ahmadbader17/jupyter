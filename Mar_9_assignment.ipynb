{
 "cells": [
  {
   "cell_type": "markdown",
   "metadata": {},
   "source": [
    "# Answer 1\n",
    "\n",
    "Probability Mass Function (PMF) and Probability Density Function (PDF) are used to describe the probability distribution of a random variable.\n",
    "\n",
    "PMF is used for discrete random variables and it provides the probability that a random variable takes a specific value. The PMF is defined as P(X=x), where X is a discrete random variable and x is a specific value that X can take.\n",
    "\n",
    "For example, let X be the number of heads obtained when a coin is flipped three times. The possible values for X are 0, 1, 2, and 3. The PMF of X is given by:\n",
    "\n",
    "P(X=0) = 1/8\n",
    "P(X=1) = 3/8\n",
    "P(X=2) = 3/8\n",
    "P(X=3) = 1/8\n",
    "\n",
    "PDF is used for continuous random variables and it provides the probability density of the random variable taking a value within a certain range. The PDF is defined as f(x), where x is a continuous random variable.\n",
    "\n",
    "For example, let X be the height of individuals in a population. The height can take any value between 0 and infinity. The PDF of X is given by:\n",
    "\n",
    "f(x) = 1/(σ√(2π)) * e^(-(x-μ)^2/(2σ^2))\n",
    "\n",
    "where μ is the mean height of the population, σ is the standard deviation of the height, and e is the base of the natural logarithm."
   ]
  },
  {
   "cell_type": "markdown",
   "metadata": {},
   "source": [
    "# Answer 2\n",
    "\n",
    "Cumulative Density Function (CDF) is a function that shows the probability that a random variable takes a value less than or equal to a specific value. CDF is used to determine the probability of a random variable falling within a certain range.\n",
    "\n",
    "For example, let X be the number of heads obtained when a coin is flipped three times. The CDF of X is given by:\n",
    "\n",
    "F(x) = P(X<=x)\n",
    "\n",
    "The CDF can be calculated as follows:\n",
    "\n",
    "F(0) = P(X<=0) = 0\n",
    "F(1) = P(X<=1) = P(X=0) + P(X=1) = 1/8 + 3/8 = 1/2\n",
    "F(2) = P(X<=2) = P(X=0) + P(X=1) + P(X=2) = 1/8 + 3/8 + 3/8 = 7/8\n",
    "F(3) = P(X<=3) = P(X=0) + P(X=1) + P(X=2) + P(X=3) = 1/8 + 3/8 + 3/8 + 1/8 = 1\n",
    "\n",
    "The CDF can also be graphically represented as a cumulative distribution curve.\n",
    "\n",
    "CDF is used to determine the probability that a random variable falls within a certain range. It is also used to compare different probability distributions and to perform hypothesis testing.\n"
   ]
  },
  {
   "cell_type": "markdown",
   "metadata": {},
   "source": [
    "# Answer 3\n",
    "\n",
    "The normal distribution is a widely used probability distribution model for continuous variables. Some examples of situations where the normal distribution might be used as a model are:\n",
    "\n",
    "1) Heights and weights of individuals in a population\n",
    "\n",
    "2) IQ scores of a population\n",
    "\n",
    "3) Errors in measurements or experimental data\n",
    "\n",
    "4) The time taken to complete a task\n",
    "\n",
    "5) The number of defects in a manufacturing process\n",
    "\n",
    "The parameters of the normal distribution are the mean (μ) and the standard deviation (σ). The mean of the normal distribution determines the center of the distribution, while the standard deviation determines the spread of the distribution. A smaller standard deviation indicates a narrower distribution, while a larger standard deviation indicates a wider distribution. The normal distribution is symmetric around its mean, with the majority"
   ]
  },
  {
   "cell_type": "markdown",
   "metadata": {},
   "source": [
    "# Answer 4\n",
    "\n",
    "The normal distribution is important because it is widely used in statistics to model real-life phenomena. It is a continuous probability distribution that is symmetrical around the mean, and many natural phenomena follow this pattern. Normal distribution is important in inferential statistics because many statistical tests and techniques assume that the data being analyzed follow a normal distribution.\n",
    "\n",
    "Some examples of real-life phenomena that can be modeled using the normal distribution are:\n",
    "\n",
    "1) Heights and weights of individuals in a population\n",
    "\n",
    "2) Test scores on a standardized test\n",
    "\n",
    "3) Blood pressure readings of a population\n",
    "\n",
    "4) IQ scores of a population\n",
    "\n",
    "5) Annual incomes of a population"
   ]
  },
  {
   "cell_type": "markdown",
   "metadata": {},
   "source": [
    "# Answer 5\n",
    "\n",
    "Bernoulli distribution is a discrete probability distribution that models the probability of success or failure in a single trial of a binary event. It is used to model situations where there are only two possible outcomes, such as success or failure, heads or tails, or yes or no.\n",
    "\n",
    "For example, let X be the outcome of a single toss of a fair coin. The Bernoulli distribution of X is given by:\n",
    "\n",
    "P(X=1) = p\n",
    "P(X=0) = 1-p\n",
    "\n",
    "where p is the probability of getting a head or a success in a single toss.\n",
    "\n",
    "The main difference between Bernoulli distribution and Binomial distribution is that Bernoulli distribution models the probability of success or failure in a single trial, while Binomial distribution models the probability of success or failure in a fixed number of independent trials."
   ]
  },
  {
   "cell_type": "markdown",
   "metadata": {},
   "source": [
    "# Answer 6\n",
    "\n",
    "We need to find the probability that a randomly selected observation will be greater than 60 from a dataset with a mean of 50 and a standard deviation of 10, assuming the dataset follows a normal distribution.\n",
    "\n",
    "First, we standardize the observation using the standard normal distribution formula:\n",
    "\n",
    "z = (x - μ) / σ\n",
    "\n",
    "where x is the observation, μ is the mean, and σ is the standard deviation.\n",
    "\n",
    "z = (60 - 50) / 10 = 1\n",
    "\n",
    "Next, we find the probability of getting a standardized value of 1 or higher from the standard normal distribution table or calculator.\n",
    "\n",
    "P(Z > 1) = 0.1587\n",
    "\n",
    "Therefore, the probability that a randomly selected observation from the dataset will be greater than 60 is 0.1587 or 15.87%."
   ]
  },
  {
   "cell_type": "markdown",
   "metadata": {},
   "source": [
    "# Answer 7\n",
    "\n",
    "Uniform distribution is a continuous probability distribution in which all values in a given interval have an equal probability of occurring. It is often used to model situations where each value in a range is equally likely to occur.\n",
    "\n",
    "For example, let X be a random variable representing the outcome of rolling a fair six-sided die. The uniform distribution of X is given by:\n",
    "\n",
    "P(X = 1) = P(X = 2) = P(X = 3) = P(X = 4) = P(X = 5) = P(X = 6) = 1/6"
   ]
  },
  {
   "cell_type": "markdown",
   "metadata": {},
   "source": [
    "# Answer 8 \n",
    "\n",
    "The z-score, also known as the standard score, is a standardized value of a given observation from a distribution. It represents the number of standard deviations that a given observation is away from the mean of the distribution. The z-score is calculated using the formula:\n",
    "\n",
    "z = (x - μ) / σ\n",
    "\n",
    "where x is the observation, μ is the mean, and σ is the standard deviation.\n",
    "\n",
    "The importance of the z-score is that it allows us to compare observations from different distributions on a common scale. By standardizing the data, we can compare and analyze data that are measured in different units and have different scales."
   ]
  },
  {
   "cell_type": "markdown",
   "metadata": {},
   "source": [
    "# Answer 9\n",
    "\n",
    "The Central Limit Theorem (CLT) states that the distribution of sample means from any population approaches a normal distribution as the sample size increases, regardless of the shape of the population distribution. In other words, if we take multiple samples from a population and calculate their means, the distribution of those means will be approximately normal, even if the original population is not normally distributed.\n",
    "\n",
    "The Central Limit Theorem (CLT) has significant implications in statistics and data analysis. Some of its major significance are:\n",
    "\n",
    "1) Provides a basis for hypothesis testing: The CLT enables the use of inferential statistics to test hypotheses about population means, variances, and proportions.\n",
    "\n",
    "2) Allows for the use of parametric tests: Many statistical tests and techniques rely on the assumption of normality. The CLT enables the use of such tests by providing a way to approximate the normal distribution for sample means.\n",
    "\n",
    "3) Enables estimation of population parameters: The CLT provides a way to estimate population parameters such as the mean and standard deviation, based on a sample mean and standard deviation.\n",
    "\n",
    "4) Widely applicable: The CLT is applicable to a wide range of populations and distributions, including those that are not normally distributed.\n",
    "\n",
    "5) Allows for prediction: The CLT allows for the prediction of the behavior of sample means, which is useful in making decisions and planning."
   ]
  },
  {
   "cell_type": "markdown",
   "metadata": {},
   "source": [
    "# Answer 10\n",
    "\n",
    "The assumptions of the Central Limit Theorem are:\n",
    "\n",
    "1) Random sampling: The samples must be selected randomly from the population.\n",
    "\n",
    "2) Sample size: The sample size must be large enough (usually n > 30) to ensure that the distribution of sample means is approximately normal.\n",
    "\n",
    "3) Independence: The samples must be independent of each other."
   ]
  },
  {
   "cell_type": "code",
   "execution_count": null,
   "metadata": {},
   "outputs": [],
   "source": []
  }
 ],
 "metadata": {
  "kernelspec": {
   "display_name": "Python 3",
   "language": "python",
   "name": "python3"
  },
  "language_info": {
   "codemirror_mode": {
    "name": "ipython",
    "version": 3
   },
   "file_extension": ".py",
   "mimetype": "text/x-python",
   "name": "python",
   "nbconvert_exporter": "python",
   "pygments_lexer": "ipython3",
   "version": "3.8.5"
  }
 },
 "nbformat": 4,
 "nbformat_minor": 4
}
