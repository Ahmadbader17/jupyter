{
  "metadata": {
    "language_info": {
      "codemirror_mode": {
        "name": "python",
        "version": 3
      },
      "file_extension": ".py",
      "mimetype": "text/x-python",
      "name": "python",
      "nbconvert_exporter": "python",
      "pygments_lexer": "ipython3",
      "version": "3.8"
    },
    "kernelspec": {
      "name": "python",
      "display_name": "Python (Pyodide)",
      "language": "python"
    }
  },
  "nbformat_minor": 4,
  "nbformat": 4,
  "cells": [
    {
      "cell_type": "markdown",
      "source": "# Answer 1\n\nHere is a Python program to sort the given list of tuples based on the integer value in descending order using a lambda function:",
      "metadata": {}
    },
    {
      "cell_type": "code",
      "source": "players = [('Sachin Tendulkar', 34357), ('Ricky Ponting', 27483), ('Jack Kallis', 25534), ('Virat Kohli', 24936)]\n\nsorted_players = sorted(players, key=lambda x: x[1], reverse=True)\n\nprint(sorted_players)",
      "metadata": {
        "trusted": true
      },
      "execution_count": 1,
      "outputs": [
        {
          "name": "stdout",
          "text": "[('Sachin Tendulkar', 34357), ('Ricky Ponting', 27483), ('Jack Kallis', 25534), ('Virat Kohli', 24936)]\n",
          "output_type": "stream"
        }
      ]
    },
    {
      "cell_type": "markdown",
      "source": "# Answer 2\n\nHere is a Python program that uses lambda and map functions to find the squares of all the numbers in the given list of integers:",
      "metadata": {}
    },
    {
      "cell_type": "code",
      "source": "numbers = [1, 2, 3, 4, 5, 6, 7, 8, 9, 10]\n\nsquares = list(map(lambda x: x**2, numbers))\n\nprint(squares)",
      "metadata": {
        "trusted": true
      },
      "execution_count": 2,
      "outputs": [
        {
          "name": "stdout",
          "text": "[1, 4, 9, 16, 25, 36, 49, 64, 81, 100]\n",
          "output_type": "stream"
        }
      ]
    },
    {
      "cell_type": "markdown",
      "source": "# Answer 3\nHere is a Python program that uses lambda and map functions to convert the given list of integers into a tuple of strings:",
      "metadata": {}
    },
    {
      "cell_type": "code",
      "source": "numbers = [1, 2, 3, 4, 5, 6, 7, 8, 9, 10]\n\nstrings = tuple(map(lambda x: str(x), numbers))\n\nprint(strings)",
      "metadata": {
        "trusted": true
      },
      "execution_count": 3,
      "outputs": [
        {
          "name": "stdout",
          "text": "('1', '2', '3', '4', '5', '6', '7', '8', '9', '10')\n",
          "output_type": "stream"
        }
      ]
    },
    {
      "cell_type": "markdown",
      "source": "# Answer 4\n\nHere is a Python program that uses the reduce() function to compute the product of a list containing numbers from 1 to 25:",
      "metadata": {}
    },
    {
      "cell_type": "code",
      "source": "from functools import reduce\n\nnumbers = range(1, 26)\n\nproduct = reduce(lambda x, y: x*y, numbers)\n\nprint(product)",
      "metadata": {
        "trusted": true
      },
      "execution_count": 4,
      "outputs": [
        {
          "name": "stdout",
          "text": "15511210043330985984000000\n",
          "output_type": "stream"
        }
      ]
    },
    {
      "cell_type": "markdown",
      "source": "In the above code, we use the reduce() function from the functools module to apply the lambda function to each element of the list numbers and reduce it to a single value. The lambda function multiplies the current element with the previous result. Finally, we print the product of all the numbers in the list.\n\nThe output of the program will be the product of all the numbers in the list, which is a very large number in this case.",
      "metadata": {}
    },
    {
      "cell_type": "markdown",
      "source": "# Answer 5\n\nHere is a Python program that uses the filter() function to filter the numbers in a given list that are divisible by 2 and 3:",
      "metadata": {}
    },
    {
      "cell_type": "code",
      "source": "numbers = [2, 3, 6, 9, 27, 60, 90, 120, 55, 46]\n\ndivisible_by_2_and_3 = list(filter(lambda x: x % 2 == 0 and x % 3 == 0, numbers))\n\nprint(divisible_by_2_and_3)",
      "metadata": {
        "trusted": true
      },
      "execution_count": 5,
      "outputs": [
        {
          "name": "stdout",
          "text": "[6, 60, 90, 120]\n",
          "output_type": "stream"
        }
      ]
    },
    {
      "cell_type": "markdown",
      "source": "In the above code, we use the filter() function to apply the lambda function to each element of the list numbers. The lambda function checks if the current element is divisible by 2 and 3 using the modulo operator (%). If the condition is true, the element is included in the result. Finally, we convert the result to a list using the list() function and print the filtered list.\n\nThe output of the program will be the list of numbers in the given list that are divisible by both 2 and 3.",
      "metadata": {}
    },
    {
      "cell_type": "markdown",
      "source": "# Answer 6\n\nHere is a Python program that uses lambda and filter functions to find palindromes in the given list of strings:",
      "metadata": {}
    },
    {
      "cell_type": "code",
      "source": "words = ['python', 'php', 'aba', 'radar', 'level']\n\npalindromes = list(filter(lambda x: x == x[::-1], words))\n\nprint(palindromes)",
      "metadata": {
        "trusted": true
      },
      "execution_count": 6,
      "outputs": [
        {
          "name": "stdout",
          "text": "['php', 'aba', 'radar', 'level']\n",
          "output_type": "stream"
        }
      ]
    },
    {
      "cell_type": "markdown",
      "source": "In the above code, we use the filter() function to apply the lambda function to each element of the list words. The lambda function checks if the current word is equal to its reverse by comparing it with a slice of the word that is reversed using the [::-1] notation. If the condition is true, the word is included in the result. Finally, we convert the result to a list using the list() function and print the filtered list.",
      "metadata": {}
    },
    {
      "cell_type": "code",
      "source": "",
      "metadata": {},
      "execution_count": null,
      "outputs": []
    }
  ]
}
