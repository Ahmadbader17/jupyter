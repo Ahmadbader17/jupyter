{
 "cells": [
  {
   "cell_type": "markdown",
   "metadata": {},
   "source": [
    "# Asnwer 1\n",
    "\n",
    "Flask is a popular Python web framework used for building web applications. It is a micro-framework, which means it provides only the essential features required to build a web application, allowing developers to choose and integrate additional libraries as needed.\n",
    "\n",
    "Advantages of using Flask framework include:\n",
    "\n",
    "Lightweight: Flask is a lightweight framework that is easy to learn and use, making it a good choice for small to medium-sized projects.\n",
    "\n",
    "Flexibility: Flask provides developers with a lot of flexibility and freedom when building web applications, allowing them to choose the components they need to build their app.\n",
    "\n",
    "Easy to get started: Flask is easy to install and set up, making it an ideal choice for beginners who are just starting to learn web development.\n",
    "\n",
    "Great documentation: Flask has excellent documentation that is easy to follow and understand, making it easy for developers to get help when they need it.\n",
    "\n",
    "Large community: Flask has a large and active community of developers who contribute to the development of the framework, creating and sharing libraries and tools to make web development faster and easier.\n",
    "\n",
    "Testing: Flask provides built-in support for testing, making it easy to test and debug applications.\n",
    "\n",
    "Scaling: Flask can be easily scaled to handle large applications and can be used to build complex web applications."
   ]
  },
  {
   "cell_type": "markdown",
   "metadata": {},
   "source": [
    "# Answer 2\n",
    "\n",
    "Here's an example of a simple Flask application that displays \"Hello World!!\" when the root URL is accessed:"
   ]
  },
  {
   "cell_type": "code",
   "execution_count": null,
   "metadata": {},
   "outputs": [],
   "source": [
    "from flask import Flask\n",
    "\n",
    "app = Flask(__name__)\n",
    "\n",
    "@app.route('/')\n",
    "def hello():\n",
    "    return \"Hello World!!\"\n",
    "\n",
    "if __name__ == '__main__':\n",
    "    app.run()"
   ]
  },
  {
   "cell_type": "markdown",
   "metadata": {},
   "source": [
    "To run this application, save the code in a file named app.py and run it in a command prompt or terminal with the command python app.py. Then, go to http://localhost:5000 in a web browser to see the \"Hello World!!\" message."
   ]
  },
  {
   "cell_type": "markdown",
   "metadata": {},
   "source": [
    "# Answer 3\n",
    "\n",
    "In Flask, routing refers to the process of mapping a URL to a specific function in a Flask application. This process is handled by the @app.route() decorator, which is used to define the URL pattern and the function that should be executed when that URL is accessed.\n",
    "\n",
    "For example, consider the following Flask application:"
   ]
  },
  {
   "cell_type": "code",
   "execution_count": null,
   "metadata": {},
   "outputs": [],
   "source": [
    "from flask import Flask\n",
    "\n",
    "app = Flask(__name__)\n",
    "\n",
    "@app.route('/')\n",
    "def index():\n",
    "    return \"Hello, World!\"\n",
    "\n",
    "@app.route('/about')\n",
    "def about():\n",
    "    return \"This is the about page\"\n",
    "\n",
    "if __name__ == '__main__':\n",
    "    app.run()"
   ]
  },
  {
   "cell_type": "markdown",
   "metadata": {},
   "source": [
    "In this application, there are two routes defined using the @app.route() decorator. The first route maps the root URL (/) to the index() function, which returns the message \"Hello, World!\". The second route maps the URL /about to the about() function, which returns the message \"This is the about page\".\n",
    "\n",
    "We use app routes in Flask to define the behavior of our web application when a user requests a specific URL. By defining app routes, we can create different pages or views for our application and handle user requests accordingly. This is important because it allows us to build dynamic web applications that can respond to user input and provide relevant content. Additionally, app routes make it easy to organize and maintain large Flask applications by separating different parts of the application into different views or pages."
   ]
  },
  {
   "cell_type": "markdown",
   "metadata": {},
   "source": [
    "# Answer 4\n",
    "\n",
    "Here's an example of a Flask application with two routes that display different messages:"
   ]
  },
  {
   "cell_type": "code",
   "execution_count": null,
   "metadata": {},
   "outputs": [],
   "source": [
    "from flask import Flask\n",
    "\n",
    "app = Flask(__name__)\n",
    "\n",
    "@app.route('/welcome')\n",
    "def welcome():\n",
    "    return \"Welcome to ABC Corporation\"\n",
    "\n",
    "@app.route('/')\n",
    "def company_info():\n",
    "    company_name = \"ABC Corporation\"\n",
    "    location = \"India\"\n",
    "    contact_detail = \"999-999-9999\"\n",
    "    return f\"Company Name: {company_name}<br>Location: {location}<br>Contact Detail: {contact_detail}\"\n",
    "\n",
    "if __name__ == '__main__':\n",
    "    app.run()"
   ]
  },
  {
   "cell_type": "markdown",
   "metadata": {},
   "source": [
    "![screenshot](s1.png)"
   ]
  },
  {
   "cell_type": "markdown",
   "metadata": {},
   "source": [
    "![screenshot-2](s2.png)"
   ]
  },
  {
   "cell_type": "markdown",
   "metadata": {},
   "source": [
    "In this application, we define two routes using the @app.route() decorator. The first route maps the URL /welcome to the welcome() function, which returns the message \"Welcome to ABC Corporation\". The second route maps the root URL (/) to the company_info() function, which defines three variables (company_name, location, and contact_detail) and returns a string that displays these values using an f-string.\n",
    "\n",
    "To run this application, save the code in a file named app.py and run it in a command prompt or terminal with the command python app.py. Then, go to http://localhost:5000/welcome to see the \"Welcome to ABC Corporation\" message, and go to http://localhost:5000/ to see the company information."
   ]
  },
  {
   "cell_type": "markdown",
   "metadata": {},
   "source": [
    "# Answer 5\n",
    "\n",
    "In Flask, the url_for() function is used for URL building. This function generates a URL for the specified endpoint, taking into account any arguments that are passed to it. The url_for() function takes the endpoint name as its first argument, followed by any keyword arguments for the endpoint.\n",
    "\n",
    "Here's an example of how to use the url_for() function in a Flask application:"
   ]
  },
  {
   "cell_type": "code",
   "execution_count": null,
   "metadata": {},
   "outputs": [],
   "source": [
    "from flask import Flask, url_for\n",
    "\n",
    "app = Flask(__name__)\n",
    "\n",
    "@app.route('/')\n",
    "def index():\n",
    "    return f'The URL for the about page is {url_for(\"about\")}'\n",
    "\n",
    "@app.route('/about')\n",
    "def about():\n",
    "    return 'This is the about page'\n",
    "\n",
    "if __name__ == '__main__':\n",
    "    app.run()"
   ]
  },
  {
   "cell_type": "markdown",
   "metadata": {},
   "source": [
    "In this example, we have two routes defined using the @app.route() decorator. The first route maps the root URL (/) to the index() function, which uses the url_for() function to generate a URL for the about() function and returns a message that displays the generated URL. The second route maps the URL /about to the about() function, which simply returns a message that says \"This is the about page\".\n",
    "\n",
    "When we run this application and go to http://localhost:5000, we should see a message that says \"The URL for the about page is /about\". This demonstrates how the url_for() function can be used to generate URLs dynamically in a Flask application."
   ]
  },
  {
   "cell_type": "code",
   "execution_count": null,
   "metadata": {},
   "outputs": [],
   "source": []
  }
 ],
 "metadata": {
  "kernelspec": {
   "display_name": "Python 3",
   "language": "python",
   "name": "python3"
  },
  "language_info": {
   "codemirror_mode": {
    "name": "ipython",
    "version": 3
   },
   "file_extension": ".py",
   "mimetype": "text/x-python",
   "name": "python",
   "nbconvert_exporter": "python",
   "pygments_lexer": "ipython3",
   "version": "3.8.5"
  }
 },
 "nbformat": 4,
 "nbformat_minor": 4
}
