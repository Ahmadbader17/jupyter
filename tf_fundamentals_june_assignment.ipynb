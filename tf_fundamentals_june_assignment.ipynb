{
 "cells": [
  {
   "cell_type": "markdown",
   "id": "0918cd38",
   "metadata": {},
   "source": [
    "#### Q1) What are the different data structures used in Tensorflow?. Give some examples.\n",
    "\n",
    "TensorFlow uses a variety of data structures to represent and manipulate data. The most basic data structure is the tensor. A tensor is a multidimensional array of data. Tensors can be used to represent images, text, audio, and other types of data.\n",
    "\n",
    "Other data structures used in TensorFlow include:\n",
    "\n",
    "Constants are tensors that have a fixed value. Constants are often used to represent the input data to a TensorFlow model.\n",
    "Variables are tensors that can be updated during training. Variables are often used to represent the weights and biases of a neural network.\n",
    "Datasets are collections of tensors that are used to represent training data or test data. Datasets can be used to load data into TensorFlow and to iterate over data during training.\n",
    "Here are some examples of TensorFlow data structures:\n",
    "\n",
    "A tensor representing an image could have the shape (28, 28, 1), which means that it is a 28x28x1-dimensional array of data.\n",
    "A tensor representing a text string could have the shape (1, 100), which means that it is a 1x100-dimensional array of data.\n",
    "A tensor representing a variable could have the shape (10, 10), which means that it is a 10x10-dimensional array of data that can be updated during training.\n"
   ]
  },
  {
   "cell_type": "markdown",
   "id": "6e37ed76",
   "metadata": {},
   "source": [
    "#### Answer 2)"
   ]
  },
  {
   "cell_type": "markdown",
   "id": "03fac419",
   "metadata": {},
   "source": [
    "In TensorFlow, a constant is a type of tensor whose value cannot be changed once it is defined. It is typically used to store fixed values that are known and constant throughout the execution of a graph. On the other hand, a variable is a type of tensor that holds mutable values and can be modified during the execution of a graph. Variables are often used to store and update the parameters of a model during training.\n",
    "\n",
    "Here's an example to illustrate the difference between a TensorFlow constant and a TensorFlow variable:"
   ]
  },
  {
   "cell_type": "code",
   "execution_count": 1,
   "id": "a61057f9",
   "metadata": {},
   "outputs": [
    {
     "name": "stdout",
     "output_type": "stream",
     "text": [
      "Constant c: tf.Tensor(8.0, shape=(), dtype=float32)\n",
      "Variable z: tf.Tensor(2.0, shape=(), dtype=float32)\n"
     ]
    }
   ],
   "source": [
    "import tensorflow as tf\n",
    "\n",
    "# TensorFlow Constant\n",
    "a = tf.constant(5.0)\n",
    "b = tf.constant(3.0)\n",
    "c = a + b\n",
    "\n",
    "# TensorFlow Variable\n",
    "x = tf.Variable(2.0)\n",
    "y = tf.Variable(1.0)\n",
    "z = x * y\n",
    "\n",
    "# Print the values of the constants and variables\n",
    "print(\"Constant c:\", c)\n",
    "print(\"Variable z:\", z)"
   ]
  },
  {
   "cell_type": "code",
   "execution_count": 2,
   "id": "643817a5",
   "metadata": {},
   "outputs": [
    {
     "name": "stdout",
     "output_type": "stream",
     "text": [
      "Matrix Multiplication Result:\n",
      "tf.Tensor(\n",
      "[[19 22]\n",
      " [43 50]], shape=(2, 2), dtype=int32)\n"
     ]
    }
   ],
   "source": [
    "import tensorflow as tf\n",
    "\n",
    "# Matrix Multiplication\n",
    "a = tf.constant([[1, 2], [3, 4]])\n",
    "b = tf.constant([[5, 6], [7, 8]])\n",
    "result = tf.matmul(a, b)\n",
    "\n",
    "print(\"Matrix Multiplication Result:\")\n",
    "print(result)\n"
   ]
  },
  {
   "cell_type": "code",
   "execution_count": 3,
   "id": "62252d69",
   "metadata": {},
   "outputs": [
    {
     "name": "stdout",
     "output_type": "stream",
     "text": [
      "Element-wise Addition Result:\n",
      "tf.Tensor(\n",
      "[[ 6  8]\n",
      " [10 12]], shape=(2, 2), dtype=int32)\n",
      "Element-wise Multiplication Result:\n",
      "tf.Tensor(\n",
      "[[ 5 12]\n",
      " [21 32]], shape=(2, 2), dtype=int32)\n"
     ]
    }
   ],
   "source": [
    "import tensorflow as tf\n",
    "\n",
    "# Element-wise Operations\n",
    "a = tf.constant([[1, 2], [3, 4]])\n",
    "b = tf.constant([[5, 6], [7, 8]])\n",
    "add_result = tf.add(a, b)\n",
    "mul_result = tf.multiply(a, b)\n",
    "\n",
    "print(\"Element-wise Addition Result:\")\n",
    "print(add_result)\n",
    "print(\"Element-wise Multiplication Result:\")\n",
    "print(mul_result)\n"
   ]
  },
  {
   "cell_type": "markdown",
   "id": "3b7828d9",
   "metadata": {},
   "source": [
    "## Practical Implementation\n",
    "\n",
    "### Task 1: Creating and manipulating Matrices\n",
    "\n",
    "\n",
    "1. Create a normal matrix A with dimensions 3x3, using TensorFlow's random _normal function. Display the values of matrix A.\n",
    "2. Create a Gaussian matrix B with dimensions 4x4, using TensorFlow's truncated _normal function. Display the values of matrix B.\n",
    "3. Create a matrix C with dimensions 2x2, where the values are drawn from a normal distribution with a mean of 3 and a standard deviation of 0.5, using TensorFlow's random.normal function. Display the values of matrix C.\n",
    "4. Perform matrix addition between matrix A and matrix B, and store the result in matrix D.\n",
    "5. Perform matrix multiplication between matrix C and matrix D, and store the result in matrix E."
   ]
  },
  {
   "cell_type": "code",
   "execution_count": 7,
   "id": "e9cac457",
   "metadata": {},
   "outputs": [
    {
     "name": "stdout",
     "output_type": "stream",
     "text": [
      "Matrix A:\n",
      "[[-2.3706174  -0.8929709  -0.49022278]\n",
      " [ 0.16878602  0.33538055 -0.18142405]\n",
      " [ 0.63322645  0.7539289   0.44529152]]\n"
     ]
    }
   ],
   "source": [
    "import tensorflow as tf\n",
    "\n",
    "# Create matrix A with dimensions 3x3\n",
    "matrix_A = tf.random.normal(shape=(3, 3))\n",
    "\n",
    "# Display the values of matrix A\n",
    "print(\"Matrix A:\")\n",
    "print(matrix_A.numpy())\n"
   ]
  },
  {
   "cell_type": "code",
   "execution_count": 8,
   "id": "cd3c261f",
   "metadata": {},
   "outputs": [
    {
     "name": "stdout",
     "output_type": "stream",
     "text": [
      "Matrix B:\n",
      "[[ 1.1985513  -0.77889365  0.9087815  -0.7863372 ]\n",
      " [-1.0621189  -0.27241224  0.666117    0.48272175]\n",
      " [ 1.4852724   1.6693741  -1.2516122  -1.08297   ]\n",
      " [-0.23293084 -0.20296349 -0.02291392 -0.49958625]]\n"
     ]
    }
   ],
   "source": [
    "import tensorflow as tf\n",
    "\n",
    "# Create matrix B with dimensions 4x4\n",
    "matrix_B = tf.random.truncated_normal(shape=(4, 4))\n",
    "\n",
    "# Display the values of matrix B\n",
    "print(\"Matrix B:\")\n",
    "print(matrix_B.numpy())\n"
   ]
  },
  {
   "cell_type": "code",
   "execution_count": 9,
   "id": "8de7cb73",
   "metadata": {},
   "outputs": [
    {
     "name": "stdout",
     "output_type": "stream",
     "text": [
      "Matrix C:\n",
      "[[2.7023098 2.9189312]\n",
      " [3.945863  2.4548788]]\n"
     ]
    }
   ],
   "source": [
    "import tensorflow as tf\n",
    "\n",
    "# Create matrix C with dimensions 2x2\n",
    "mean = 3\n",
    "stddev = 0.5\n",
    "matrix_C = tf.random.normal(shape=(2, 2), mean=mean, stddev=stddev)\n",
    "\n",
    "# Display the values of matrix C\n",
    "print(\"Matrix C:\")\n",
    "print(matrix_C.numpy())\n"
   ]
  },
  {
   "cell_type": "code",
   "execution_count": 10,
   "id": "f6469a1a",
   "metadata": {},
   "outputs": [
    {
     "name": "stdout",
     "output_type": "stream",
     "text": [
      "Matrix D (A + B):\n",
      "[[ 1.1981889  -1.0744995   1.2272512 ]\n",
      " [ 1.6528794   0.22312078  1.8299372 ]\n",
      " [-0.41684222 -1.0419228  -0.08077431]]\n"
     ]
    }
   ],
   "source": [
    "import tensorflow as tf\n",
    "\n",
    "# Create matrix A\n",
    "matrix_A = tf.random.normal(shape=(3, 3))\n",
    "\n",
    "# Create matrix B\n",
    "matrix_B = tf.random.normal(shape=(3, 3))\n",
    "\n",
    "# Perform matrix addition between matrix A and matrix B\n",
    "matrix_D = tf.add(matrix_A, matrix_B)\n",
    "\n",
    "# Display the values of matrix D\n",
    "print(\"Matrix D (A + B):\")\n",
    "print(matrix_D.numpy())\n"
   ]
  },
  {
   "cell_type": "code",
   "execution_count": 11,
   "id": "2d3b5659",
   "metadata": {},
   "outputs": [
    {
     "name": "stdout",
     "output_type": "stream",
     "text": [
      "Matrix E (C * D):\n",
      "[[-0.7070457 -0.7812091]\n",
      " [-3.1789455 -3.412626 ]]\n"
     ]
    }
   ],
   "source": [
    "import tensorflow as tf\n",
    "\n",
    "# Create matrix C\n",
    "matrix_C = tf.random.normal(shape=(2, 2))\n",
    "\n",
    "# Create matrix D\n",
    "matrix_D = tf.random.normal(shape=(2, 2))\n",
    "\n",
    "# Perform matrix multiplication between matrix C and matrix D\n",
    "matrix_E = tf.matmul(matrix_C, matrix_D)\n",
    "\n",
    "# Display the values of matrix E\n",
    "print(\"Matrix E (C * D):\")\n",
    "print(matrix_E.numpy())\n"
   ]
  },
  {
   "cell_type": "code",
   "execution_count": null,
   "id": "3ac7566e",
   "metadata": {},
   "outputs": [],
   "source": []
  }
 ],
 "metadata": {
  "kernelspec": {
   "display_name": "Python 3 (ipykernel)",
   "language": "python",
   "name": "python3"
  },
  "language_info": {
   "codemirror_mode": {
    "name": "ipython",
    "version": 3
   },
   "file_extension": ".py",
   "mimetype": "text/x-python",
   "name": "python",
   "nbconvert_exporter": "python",
   "pygments_lexer": "ipython3",
   "version": "3.10.9"
  }
 },
 "nbformat": 4,
 "nbformat_minor": 5
}
