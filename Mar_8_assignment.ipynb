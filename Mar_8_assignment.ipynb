{
 "cells": [
  {
   "cell_type": "markdown",
   "metadata": {},
   "source": [
    "# Answer 1\n",
    "\n",
    "The probability density function (PDF) is a mathematical function that describes the relative likelihood of a random variable taking a certain value. In other words, it defines the probability distribution of a continuous random variable. The PDF is used to describe the shape of a probability distribution by showing how frequently values occur around the mean. The integral of the PDF over a range of values gives the probability of the variable taking a value within that range."
   ]
  },
  {
   "cell_type": "markdown",
   "metadata": {},
   "source": [
    "# Answer 2\n",
    "\n",
    "There are various types of probability distributions, and some of the most common ones include:\n",
    "\n",
    "1) Normal Distribution: The normal distribution is a continuous probability distribution that is symmetric around the mean. It is widely used in statistics because many natural phenomena follow this distribution.\n",
    "\n",
    "2) Binomial Distribution: The binomial distribution is a discrete probability distribution that describes the number of successes in a fixed number of independent trials.\n",
    "\n",
    "3) Poisson Distribution: The Poisson distribution is a discrete probability distribution that is used to describe the number of events that occur in a fixed interval of time.\n",
    "\n",
    "4) Exponential Distribution: The exponential distribution is a continuous probability distribution that describes the time between events in a Poisson process.\n",
    "\n",
    "5) Uniform Distribution: The uniform distribution is a continuous probability distribution that describes a random variable that is equally likely to take any value within a specified range."
   ]
  },
  {
   "cell_type": "markdown",
   "metadata": {},
   "source": [
    "# Answer 3\n",
    "\n",
    "Here's an example Python function to calculate the probability density function of a normal distribution:"
   ]
  },
  {
   "cell_type": "code",
   "execution_count": 1,
   "metadata": {},
   "outputs": [],
   "source": [
    "import math\n",
    "\n",
    "def normal_pdf(x, mu, sigma):\n",
    "    \"\"\"\n",
    "    This function calculates the probability density function of a normal distribution\n",
    "    with given mean and standard deviation at a given point.\n",
    "    \"\"\"\n",
    "    return math.exp(-(x - mu)**2 / (2 * sigma**2)) / (sigma * math.sqrt(2 * math.pi))"
   ]
  },
  {
   "cell_type": "markdown",
   "metadata": {},
   "source": [
    "In the above function, x is the point at which the PDF is to be calculated, mu is the mean of the normal distribution, and sigma is the standard deviation of the normal distribution. The function returns the PDF at the point x."
   ]
  },
  {
   "cell_type": "markdown",
   "metadata": {},
   "source": [
    "# Answer 4\n",
    "\n",
    "The binomial distribution has the following properties:\n",
    "\n",
    "1) The experiment consists of a fixed number of independent trials.\n",
    "\n",
    "2) Each trial has only two possible outcomes: success or failure.\n",
    "\n",
    "3) The probability of success is constant across all trials.\n",
    "\n",
    "4) The trials are independent of each other.\n",
    "\n",
    "\n",
    "Two examples of events where the binomial distribution can be applied are:\n",
    "\n",
    "1) Flipping a coin: Each coin flip has only two possible outcomes (heads or tails) and the probability of getting heads is constant for each flip. If we flip a coin n times, the number of times it lands heads follows a binomial distribution.\n",
    "\n",
    "2) Quality control: If a factory produces a large number of items, each item can be considered a trial. If each item has a certain probability of being defective, we can use the binomial distribution to calculate the probability of a certain number of defective items in a given sample."
   ]
  },
  {
   "cell_type": "markdown",
   "metadata": {},
   "source": [
    "# Answer 5\n",
    "\n",
    "Here's an example code to generate a random sample of size 1000 from a binomial distribution and plot a histogram of the results using matplotlib:"
   ]
  },
  {
   "cell_type": "code",
   "execution_count": 2,
   "metadata": {},
   "outputs": [
    {
     "data": {
      "image/png": "[encoded data removed]",
      "text/plain": [
       "<Figure size 432x288 with 1 Axes>"
      ]
     },
     "metadata": {
      "needs_background": "light"
     },
     "output_type": "display_data"
    }
   ],
   "source": [
    "import numpy as np\n",
    "import matplotlib.pyplot as plt\n",
    "\n",
    "# Set probability of success\n",
    "p = 0.4\n",
    "\n",
    "# Generate random sample\n",
    "sample = np.random.binomial(1, p, size=1000)\n",
    "\n",
    "# Plot histogram\n",
    "plt.hist(sample, bins=2, rwidth=0.8)\n",
    "plt.xlabel('Success/Failure')\n",
    "plt.ylabel('Frequency')\n",
    "plt.title('Binomial Distribution')\n",
    "plt.show()"
   ]
  },
  {
   "cell_type": "markdown",
   "metadata": {},
   "source": [
    "In the above code, we use the numpy.random.binomial function to generate a random sample of size 1000 from a binomial distribution with a probability of success of 0.4. We then plot a histogram of the results using matplotlib, where the x-axis represents success or failure, and the y-axis represents the frequency of each outcome."
   ]
  },
  {
   "cell_type": "markdown",
   "metadata": {},
   "source": [
    "# Answer 6\n",
    "\n",
    "Here's an example Python function to calculate the cumulative distribution function of a Poisson distribution:"
   ]
  },
  {
   "cell_type": "code",
   "execution_count": 3,
   "metadata": {},
   "outputs": [],
   "source": [
    "import math\n",
    "\n",
    "def poisson_cdf(x, mean):\n",
    "    \"\"\"\n",
    "    This function calculates the cumulative distribution function of a Poisson distribution\n",
    "    with given mean at a given point.\n",
    "    \"\"\"\n",
    "    cdf = 0.0\n",
    "    for i in range(x + 1):\n",
    "        cdf += (mean**i / math.factorial(i)) * math.exp(-mean)\n",
    "    return cdf"
   ]
  },
  {
   "cell_type": "markdown",
   "metadata": {},
   "source": [
    "In the above function, x is the point at which the CDF is to be calculated, and mean is the mean of the Poisson distribution. The function returns the CDF at the point x. We use the formula for the Poisson cumulative distribution function, which is the sum of the probability mass function (PMF) from 0 to x. The PMF of the Poisson distribution is given by (mean**i / math.factorial(i)) * math.exp(-mean)."
   ]
  },
  {
   "cell_type": "markdown",
   "metadata": {},
   "source": [
    "# Answer 7\n",
    "\n",
    "The main differences between the Binomial distribution and the Poisson distribution are:\n",
    "\n",
    "1) Number of trials: The Binomial distribution is used to model the number of successes in a fixed number of independent trials, while the Poisson distribution is used to model the number of events in a fixed interval of time or space.\n",
    "\n",
    "2) Nature of the events: The events in the Binomial distribution have only two possible outcomes (success or failure), while the events in the Poisson distribution can have multiple outcomes.\n",
    "\n",
    "3) Probability of success: In the Binomial distribution, the probability of success is constant for each trial, while in the Poisson distribution, the average rate of occurrence is constant over the interval.\n",
    "\n",
    "4) Scale parameter: The Binomial distribution has two parameters, the number of trials and the probability of success, while the Poisson distribution has one parameter, the average rate of occurrence."
   ]
  },
  {
   "cell_type": "markdown",
   "metadata": {},
   "source": [
    "# Answer 8\n",
    "\n",
    "Here's an example code to generate a random sample of size 1000 from a Poisson distribution with mean=5 and calculate the sample mean and variance:"
   ]
  },
  {
   "cell_type": "code",
   "execution_count": 4,
   "metadata": {},
   "outputs": [
    {
     "name": "stdout",
     "output_type": "stream",
     "text": [
      "Sample Mean: 5.039\n",
      "Sample Variance: 4.727479000000001\n"
     ]
    }
   ],
   "source": [
    "import numpy as np\n",
    "\n",
    "# Set mean\n",
    "mean = 5\n",
    "\n",
    "# Generate random sample\n",
    "sample = np.random.poisson(mean, size=1000)\n",
    "\n",
    "# Calculate sample mean and variance\n",
    "sample_mean = np.mean(sample)\n",
    "sample_variance = np.var(sample)\n",
    "\n",
    "print(\"Sample Mean:\", sample_mean)\n",
    "print(\"Sample Variance:\", sample_variance)"
   ]
  },
  {
   "cell_type": "markdown",
   "metadata": {},
   "source": [
    "In the above code, we use the numpy.random.poisson function to generate a random sample of size 1000 from a Poisson distribution with a mean of 5. We then calculate the sample mean and variance using the numpy.mean and numpy.var functions, respectively. The sample mean should be close to the specified mean of 5, while the sample variance should be close to the theoretical variance of the Poisson distribution, which is also equal to the mean of the distribution."
   ]
  },
  {
   "cell_type": "markdown",
   "metadata": {},
   "source": [
    "# Answer 9\n",
    "\n",
    "In the Binomial distribution, the mean is equal to the product of the number of trials and the probability of success, while the variance is equal to the product of the number of trials, the probability of success, and the probability of failure. Therefore, the variance of the Binomial distribution is a function of both the mean and the probability of success.\n",
    "\n",
    "In the Poisson distribution, the mean and the variance are equal and are both equal to the specified mean parameter. Therefore, in the Poisson distribution, the variance is directly proportional to the mean."
   ]
  },
  {
   "cell_type": "markdown",
   "metadata": {},
   "source": [
    "# Answer 10\n",
    "\n",
    "In a normal distribution, the least frequent data appears in the tails of the distribution, which are the regions that are farthest away from the mean. The data that falls in the tails of the distribution has a lower probability of occurrence than the data that falls near the mean. Specifically, the data that falls beyond two standard deviations from the mean has a probability of less than 5% of occurring in a normal distribution."
   ]
  },
  {
   "cell_type": "code",
   "execution_count": null,
   "metadata": {},
   "outputs": [],
   "source": []
  }
 ],
 "metadata": {
  "kernelspec": {
   "display_name": "Python 3",
   "language": "python",
   "name": "python3"
  },
  "language_info": {
   "codemirror_mode": {
    "name": "ipython",
    "version": 3
   },
   "file_extension": ".py",
   "mimetype": "text/x-python",
   "name": "python",
   "nbconvert_exporter": "python",
   "pygments_lexer": "ipython3",
   "version": "3.8.5"
  }
 },
 "nbformat": 4,
 "nbformat_minor": 4
}
