{
 "cells": [
  {
   "cell_type": "markdown",
   "id": "c643b17f-a09e-4326-96f6-0baa60282792",
   "metadata": {},
   "source": [
    "# Answer 1\n",
    "\n",
    "Here is a possible implementation of the function:"
   ]
  },
  {
   "cell_type": "code",
   "execution_count": 1,
   "id": "1f796975-2b72-4fa2-b78c-bcf5d97f99ec",
   "metadata": {},
   "outputs": [],
   "source": [
    "def product_of_numbers(lst):\n",
    "    flattened = []\n",
    "    for item in lst:\n",
    "        if isinstance(item, (list, tuple, set)):\n",
    "            flattened.extend(item)\n",
    "        elif isinstance(item, dict):\n",
    "            for key, value in item.items():\n",
    "                if isinstance(key, (int, float)):\n",
    "                    flattened.append(key)\n",
    "                if isinstance(value, (int, float)):\n",
    "                    flattened.append(value)\n",
    "        elif isinstance(item, (int, float)):\n",
    "            flattened.append(item)\n",
    "    product = 1\n",
    "    for num in flattened:\n",
    "        product *= num\n",
    "    return product"
   ]
  },
  {
   "cell_type": "markdown",
   "id": "9d4b2e6a-8521-46da-8edb-3c33b9929218",
   "metadata": {},
   "source": [
    "This function uses a loop to flatten the list by extending it with the contents of any nested lists, tuples, or sets. For dictionaries, it checks if the keys or values are numeric and adds them to the flattened list if so. Finally, it calculates the product of all the numbers in the flattened list and returns it.\n",
    "Here is how you can use this function with the given list:"
   ]
  },
  {
   "cell_type": "code",
   "execution_count": 3,
   "id": "c36ff335-6362-4c95-acbc-0fcf760305e5",
   "metadata": {},
   "outputs": [
    {
     "name": "stdout",
     "output_type": "stream",
     "text": [
      "\n"
     ]
    }
   ],
   "source": [
    "list1 = [1,2,3,4, [44,55,66, True], False, (34,56,78,89,34), {1,2,3,3,2,1}, {1:34, \"key2\": [55, 67, 78, 89], 4: (45, 22, 61, 34)}, [56, 'data science'], 'Machine Learning']\n",
    "\n",
    "result = product_of_numbers(list1)\n",
    "\n",
    "print(result) "
   ]
  },
  {
   "cell_type": "markdown",
   "id": "6010eeda-8bcc-4938-99d7-fd5d9fcfe13a",
   "metadata": {},
   "source": [
    "# Answer 2\n",
    "\n",
    "Here's a Python program that encrypts a message for encrypting a message sent to you by your friend:"
   ]
  },
  {
   "cell_type": "code",
   "execution_count": 4,
   "id": "80073be7-b201-44d8-b1f7-1fb058d91c43",
   "metadata": {},
   "outputs": [
    {
     "name": "stdout",
     "output_type": "stream",
     "text": [
      "r$dzmg$gl$yvxlnv$z$wzgz$hxrvmgrhg.\n"
     ]
    }
   ],
   "source": [
    "def encrypt_message(message):\n",
    "    encrypted = \"\"\n",
    "    for letter in message:\n",
    "        if letter.isalpha():\n",
    "            encrypted += chr(219 - ord(letter))\n",
    "        elif letter == \" \":\n",
    "            encrypted += \"$\"\n",
    "        else:\n",
    "            encrypted += letter\n",
    "    return encrypted.lower()\n",
    "\n",
    "input_sentence = \"I want to become a Data Scientist.\"\n",
    "encrypted_sentence = encrypt_message(input_sentence.lower())\n",
    "print(encrypted_sentence)"
   ]
  },
  {
   "cell_type": "markdown",
   "id": "828cb884-5b00-4004-9917-e59ce74fef17",
   "metadata": {},
   "source": [
    "In this program, we define a function called encrypt_message that takes a message as input and returns an encrypted version of the message. We iterate through each letter in the message and check if it is an alphabetic character using the isalpha() method. If it is, we apply the encryption logic by subtracting the letter's ASCII code from 219, then converting the result back to a character using the chr() method. If the letter is a space character, we replace it with a dollar sign. Finally, we return the encrypted message in lowercase.\n",
    "We then apply this function to the input sentence provided in the question, convert it to lowercase using the lower() method, and print the encrypted output."
   ]
  },
  {
   "cell_type": "code",
   "execution_count": null,
   "id": "31499dae-29fd-4433-8be4-b7f6fc92ec12",
   "metadata": {},
   "outputs": [],
   "source": []
  }
 ],
 "metadata": {
  "kernelspec": {
   "display_name": "Python 3 (ipykernel)",
   "language": "python",
   "name": "python3"
  },
  "language_info": {
   "codemirror_mode": {
    "name": "ipython",
    "version": 3
   },
   "file_extension": ".py",
   "mimetype": "text/x-python",
   "name": "python",
   "nbconvert_exporter": "python",
   "pygments_lexer": "ipython3",
   "version": "3.10.8"
  }
 },
 "nbformat": 4,
 "nbformat_minor": 5
}
