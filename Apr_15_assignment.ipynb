{
 "cells": [
  {
   "cell_type": "markdown",
   "id": "b41301fb-c4a4-4886-9310-fd45135dcb0b",
   "metadata": {},
   "source": [
    "# Answer 1"
   ]
  },
  {
   "cell_type": "code",
   "execution_count": null,
   "id": "b9f4aae3-c7df-4bb4-89eb-61ea45a9f2b1",
   "metadata": {},
   "outputs": [],
   "source": [
    "from sklearn.compose import ColumnTransformer\n",
    "from sklearn.ensemble import RandomForestClassifier\n",
    "from sklearn.impute import SimpleImputer\n",
    "from sklearn.metrics import accuracy_score\n",
    "from sklearn.model_selection import train_test_split\n",
    "from sklearn.pipeline import Pipeline\n",
    "from sklearn.preprocessing import OneHotEncoder, StandardScaler\n",
    "\n",
    "import seaborn as sns\n",
    "df=sns.load_dataset('tips')\n",
    "df.head()\n",
    "\n",
    "\n",
    "\n",
    "#hot label encoding for Time feature\n",
    "from sklearn.preprocessing import LabelEncoder\n",
    "encoder=LabelEncoder()\n",
    "df['time']=encoder.fit_transform(df['time'])\n",
    "\n",
    "\n",
    "## independent and dependent features\n",
    "X=df.drop(labels=['time'],axis=1)\n",
    "y=df['time']\n",
    "\n",
    "# Load the dataset and split it into training and test sets\n",
    "X_train, X_test, y_train, y_test = train_test_split(X, y, test_size=0.2, random_state=42)\n",
    "\n",
    "\n",
    "# Create the numerical pipeline\n",
    "num_pipeline = Pipeline([\n",
    "    ('imputer', SimpleImputer(strategy='mean')),\n",
    "    ('scaler', StandardScaler())\n",
    "])\n",
    "\n",
    "# Create the categorical pipeline\n",
    "cat_pipeline = Pipeline([\n",
    "    ('imputer', SimpleImputer(strategy='most_frequent')),\n",
    "    ('onehot', OneHotEncoder())\n",
    "])\n",
    "\n",
    "# Combine the numerical and categorical pipelines\n",
    "preprocessor = ColumnTransformer([\n",
    "    ('num', num_pipeline, num_features),\n",
    "    ('cat', cat_pipeline, cat_features)\n",
    "])\n",
    "\n",
    "# Build the final pipeline with the preprocessor and the classifier\n",
    "pipeline = Pipeline([\n",
    "    ('preprocessor', preprocessor),\n",
    "    ('classifier', RandomForestClassifier())\n",
    "])\n",
    "\n",
    "# Fit the pipeline on the training data\n",
    "pipeline.fit(X_train, y_train)\n",
    "\n",
    "# Evaluate the accuracy of the model on the test data\n",
    "y_pred = pipeline.predict(X_test)\n",
    "accuracy = accuracy_score(y_test, y_pred)\n",
    "print(f\"Accuracy: {accuracy}\")\n"
   ]
  },
  {
   "cell_type": "markdown",
   "id": "41f03081-b067-4f13-9251-8a0ca2070b91",
   "metadata": {},
   "source": [
    "In this code, X and y represent the dataset and the target variable, respectively. num_features and cat_features are the lists of the names of the numerical and categorical features, respectively. The code first splits the dataset into training and test sets. Then, it creates the numerical and categorical pipelines, which impute missing values and scale/encode the data, respectively. Next, it combines the pipelines using a ColumnTransformer. Finally, it builds the final pipeline with the preprocessor and a RandomForestClassifier as the classifier. The pipeline is fit on the training data and evaluated on the test data using the accuracy score."
   ]
  },
  {
   "cell_type": "markdown",
   "id": "c34f7117-679b-402d-93fa-92087b886be7",
   "metadata": {},
   "source": [
    "# Answer 2"
   ]
  },
  {
   "cell_type": "code",
   "execution_count": null,
   "id": "b82372d9-e7a3-4bee-b8e0-9920dc51b62c",
   "metadata": {},
   "outputs": [],
   "source": [
    "from sklearn.ensemble import RandomForestClassifier, VotingClassifier\n",
    "from sklearn.linear_model import LogisticRegression\n",
    "from sklearn.metrics import accuracy_score\n",
    "from sklearn.model_selection import train_test_split\n",
    "from sklearn.pipeline import Pipeline\n",
    "from sklearn.preprocessing import StandardScaler\n",
    "\n",
    "# Load the iris dataset and split it into training and test sets\n",
    "X_train, X_test, y_train, y_test = train_test_split(X, y, test_size=0.2, random_state=42)\n",
    "\n",
    "# Create the individual classifiers\n",
    "rfc = RandomForestClassifier(n_estimators=100, random_state=42)\n",
    "lr = LogisticRegression(random_state=42)\n",
    "\n",
    "# Create the voting classifier\n",
    "voting_clf = VotingClassifier(\n",
    "    estimators=[('rfc', rfc), ('lr', lr)],\n",
    "    voting='hard'\n",
    ")\n",
    "\n",
    "# Create the pipeline\n",
    "pipeline = Pipeline([\n",
    "    ('scaler', StandardScaler()),\n",
    "    ('voting', voting_clf)\n",
    "])\n",
    "\n",
    "# Fit the pipeline on the training data\n",
    "pipeline.fit(X_train, y_train)\n",
    "\n",
    "# Evaluate the accuracy of the model on the test data\n",
    "y_pred = pipeline.predict(X_test)\n",
    "accuracy = accuracy_score(y_test, y_pred)\n",
    "print(f\"Accuracy: {accuracy}\")\n"
   ]
  },
  {
   "cell_type": "markdown",
   "id": "ffc024b3-0a77-4c76-9c77-8146170a2e6f",
   "metadata": {},
   "source": [
    "In this code, X and y represent the dataset and the target variable, respectively. The code first splits the dataset into training and test sets. Then, it creates the individual classifiers: a RandomForestClassifier and a LogisticRegression classifier. Next, it creates a VotingClassifier that combines the two classifiers using hard voting. Finally, it creates a pipeline that scales the data and applies the VotingClassifier. The pipeline is fit on the training data and evaluated on the test data using the accuracy score."
   ]
  },
  {
   "cell_type": "code",
   "execution_count": null,
   "id": "30b46138-e0ba-4421-9e51-b085ee02ac54",
   "metadata": {},
   "outputs": [],
   "source": []
  }
 ],
 "metadata": {
  "kernelspec": {
   "display_name": "Python 3 (ipykernel)",
   "language": "python",
   "name": "python3"
  },
  "language_info": {
   "codemirror_mode": {
    "name": "ipython",
    "version": 3
   },
   "file_extension": ".py",
   "mimetype": "text/x-python",
   "name": "python",
   "nbconvert_exporter": "python",
   "pygments_lexer": "ipython3",
   "version": "3.10.8"
  }
 },
 "nbformat": 4,
 "nbformat_minor": 5
}
