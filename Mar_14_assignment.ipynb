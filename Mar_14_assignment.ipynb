{
 "cells": [
  {
   "cell_type": "markdown",
   "metadata": {},
   "source": [
    "# Answer 1\n",
    "\n",
    "Python function that takes in two arrays of data and calculates the F-value for a variance ratio test. The function also returns the corresponding p-value for the test:"
   ]
  },
  {
   "cell_type": "code",
   "execution_count": 1,
   "metadata": {},
   "outputs": [],
   "source": [
    "import numpy as np\n",
    "from scipy.stats import f\n",
    "\n",
    "def f_test(x, y):\n",
    "    # Calculate the variances of the two datasets\n",
    "    var_x = np.var(x, ddof=1)\n",
    "    var_y = np.var(y, ddof=1)\n",
    "\n",
    "    # Calculate the F-value and corresponding p-value for the test\n",
    "    f_value = var_x / var_y\n",
    "    dfn = len(x) - 1\n",
    "    dfd = len(y) - 1\n",
    "    p_value = f.cdf(f_value, dfn, dfd)\n",
    "\n",
    "    return f_value, p_value"
   ]
  },
  {
   "cell_type": "markdown",
   "metadata": {},
   "source": [
    "The function above returns both the F-value and the p-value."
   ]
  },
  {
   "cell_type": "markdown",
   "metadata": {},
   "source": [
    "# Answer 2\n",
    "\n",
    "Python function that takes in the degrees of freedom for the numerator and denominator of an F-distribution and a significance level, and returns the critical F-value for a two-tailed test:"
   ]
  },
  {
   "cell_type": "code",
   "execution_count": 2,
   "metadata": {},
   "outputs": [],
   "source": [
    "from scipy.stats import f\n",
    "\n",
    "def f_critical(dfn, dfd, alpha=0.05):\n",
    "    # Calculate the critical F-value for a two-tailed test\n",
    "    f_crit = f.ppf(alpha/2, dfn, dfd)\n",
    "    return f_crit\n"
   ]
  },
  {
   "cell_type": "markdown",
   "metadata": {},
   "source": [
    "This function above uses the percent point function (ppf) of the F-distribution from the f module in the SciPy library to calculate the critical F-value for a two-tailed test. The ppf function takes as input the significance level divided by 2 (since it's a two-tailed test), as well as the degrees of freedom for the numerator and denominator of the F-distribution. The function returns the critical F-value."
   ]
  },
  {
   "cell_type": "markdown",
   "metadata": {},
   "source": [
    "# Answer 3\n",
    "\n",
    "Python program that generates random samples from two normal distributions with known variances and uses an F-test to determine if the variances are equal. The program outputs the F-value, degrees of freedom, and p-value for the test:"
   ]
  },
  {
   "cell_type": "code",
   "execution_count": 3,
   "metadata": {},
   "outputs": [
    {
     "name": "stdout",
     "output_type": "stream",
     "text": [
      "F-value: 1.0793045934279637\n",
      "Degrees of freedom (numerator, denominator): 19 24\n",
      "p-value: 0.5756861629957106\n"
     ]
    }
   ],
   "source": [
    "import numpy as np\n",
    "from scipy.stats import f\n",
    "\n",
    "# Set the random seed for reproducibility\n",
    "np.random.seed(42)\n",
    "\n",
    "# Generate two samples from normal distributions with known variances\n",
    "mu1, mu2 = 0, 0\n",
    "sigma1, sigma2 = 1, 1\n",
    "n1, n2 = 20, 25\n",
    "sample1 = np.random.normal(mu1, sigma1, n1)\n",
    "sample2 = np.random.normal(mu2, sigma2, n2)\n",
    "\n",
    "# Calculate the variances of the two samples\n",
    "var1 = np.var(sample1, ddof=1)\n",
    "var2 = np.var(sample2, ddof=1)\n",
    "\n",
    "# Calculate the F-value and corresponding p-value for the test\n",
    "f_value = var1 / var2\n",
    "dfn = n1 - 1\n",
    "dfd = n2 - 1\n",
    "p_value = f.cdf(f_value, dfn, dfd)\n",
    "\n",
    "# Output the results\n",
    "print(\"F-value:\", f_value)\n",
    "print(\"Degrees of freedom (numerator, denominator):\", dfn, dfd)\n",
    "print(\"p-value:\", p_value)"
   ]
  },
  {
   "cell_type": "markdown",
   "metadata": {},
   "source": [
    "# Answer 4\n",
    "\n",
    "To conduct an F-test at the 5% significance level to determine if the variances of two populations with known variances of 10 and 15 and a sample size of 12 observations from each population are significantly different, we can use the following code:"
   ]
  },
  {
   "cell_type": "code",
   "execution_count": 4,
   "metadata": {},
   "outputs": [
    {
     "name": "stdout",
     "output_type": "stream",
     "text": [
      "The variances are not significantly different.\n"
     ]
    }
   ],
   "source": [
    "import numpy as np\n",
    "from scipy.stats import f\n",
    "\n",
    "# Define the sample sizes and known population variances\n",
    "n1, n2 = 12, 12\n",
    "var1, var2 = 10, 15\n",
    "\n",
    "# Calculate the F-value and corresponding p-value for the test\n",
    "f_value = var1 / var2\n",
    "dfn = n1 - 1\n",
    "dfd = n2 - 1\n",
    "p_value = 1 - f.cdf(f_value, dfn, dfd)\n",
    "\n",
    "# Compare p-value to alpha level (0.05) to determine if variances are significantly different\n",
    "if p_value < 0.05:\n",
    "    print(\"The variances are significantly different.\")\n",
    "else:\n",
    "    print(\"The variances are not significantly different.\")"
   ]
  },
  {
   "cell_type": "markdown",
   "metadata": {},
   "source": [
    "# Answer 5\n",
    "\n",
    "To conduct an F-test at the 1% significance level to determine if a manufacturer's claim that the variance of the diameter of a certain product is 0.005 is justified, given a sample of 25 products with a sample variance of 0.006, we can use the following code:"
   ]
  },
  {
   "cell_type": "code",
   "execution_count": 5,
   "metadata": {},
   "outputs": [
    {
     "name": "stdout",
     "output_type": "stream",
     "text": [
      "The claim is justified.\n"
     ]
    }
   ],
   "source": [
    "import numpy as np\n",
    "from scipy.stats import f\n",
    "\n",
    "# Define the sample size, sample variance, and population variance\n",
    "n = 25\n",
    "s_squared = 0.006\n",
    "sigma_squared = 0.005\n",
    "\n",
    "# Calculate the F-value and corresponding p-value for the test\n",
    "f_value = s_squared / sigma_squared\n",
    "dfn = n - 1\n",
    "dfd = n - 1\n",
    "p_value = 1 - f.cdf(f_value, dfn, dfd)\n",
    "\n",
    "# Compare p-value to alpha level (0.01) to determine if claim is justified\n",
    "if p_value < 0.01:\n",
    "    print(\"The claim is not justified.\")\n",
    "else:\n",
    "    print(\"The claim is justified.\")"
   ]
  },
  {
   "cell_type": "markdown",
   "metadata": {},
   "source": [
    "# Answer 6\n",
    "\n",
    "Python function that takes in the degrees of freedom for the numerator and denominator of an F-distribution and calculates the mean and variance of the distribution. The function returns the mean and variance as a tuple:"
   ]
  },
  {
   "cell_type": "code",
   "execution_count": 6,
   "metadata": {},
   "outputs": [],
   "source": [
    "def f_distribution_mean_var(dfn, dfd):\n",
    "    # Calculate the mean and variance of the F-distribution\n",
    "    if dfn <= 2:\n",
    "        mean = float('nan')"
   ]
  },
  {
   "cell_type": "markdown",
   "metadata": {},
   "source": [
    "# Answer 7\n",
    "\n",
    "To conduct an F-test at 10% significance level to determine if the variances of two populations are significantly different, we can use the following steps:\n",
    "\n",
    "1) Define null and alternative hypotheses:\n",
    "\n",
    "2) Null hypothesis: The variances of two populations are equal.\n",
    "\n",
    "3) Alternative hypothesis: The variances of two populations are not equal.\n",
    "\n",
    "4) Calculate the test statistic:\n",
    "\n",
    "F = s1^2 / s2^2, where s1^2 and s2^2 are the sample variances of the two populations.\n",
    "\n",
    "5) Determine the degrees of freedom:\n",
    "\n",
    "df1 = n1 - 1, where n1 is the sample size of population 1.\n",
    "df2 = n2 - 1, where n2 is the sample size of population 2.\n",
    "\n",
    "6) Calculate the p-value using the F-distribution and degrees of freedom.\n",
    "\n",
    "7) Compare the p-value to the significance level. If p-value is less than or equal to the significance level, reject the null hypothesis. Otherwise, fail to reject the null hypothesis.\n",
    "\n",
    "\n",
    "Sample 1: n1 = 10, s1^2 = 25\n",
    "Sample 2: n2 = 15, s2^2 = 20\n",
    "Significance level: 0.1\n",
    "\n",
    "Null and alternative hypotheses:\n",
    "\n",
    "H0: sigma1^2 = sigma2^2\n",
    "Ha: sigma1^2 != sigma2^2\n",
    "Test statistic:\n",
    "\n",
    "F = s1^2 / s2^2 = 25 / 20 = 1.25\n",
    "Degrees of freedom:\n",
    "\n",
    "df1 = n1 - 1 = 10 - 1 = 9\n",
    "df2 = n2 - 1 = 15 - 1 = 14\n",
    "P-value:\n",
    "\n",
    "Using an F-distribution table or calculator with df1 = 9 and df2 = 14, we find that the p-value is approximately 0.298.\n",
    "Conclusion:\n",
    "\n",
    "#### Since the p-value (0.298) is greater than the significance level (0.1), we fail to reject the null hypothesis. We do not have enough evidence to conclude that the variances of two populations are significantly different at the 10% significance level. Therefore, we cannot conclude that the variances of the two populations are different based on the given data at 10% significance level."
   ]
  },
  {
   "cell_type": "markdown",
   "metadata": {},
   "source": [
    "# Answer 8\n",
    "\n",
    "Below is the python code to perform F-test between two datas:"
   ]
  },
  {
   "cell_type": "code",
   "execution_count": 7,
   "metadata": {},
   "outputs": [
    {
     "name": "stdout",
     "output_type": "stream",
     "text": [
      "Sample variance of A: 7.80952380952381\n",
      "Sample variance of B: 5.366666666666667\n",
      "F-value: 36.42289051820553\n",
      "p-value: 8.48759371471029e-05\n",
      "The variances are significantly different.\n"
     ]
    }
   ],
   "source": [
    "import numpy as np\n",
    "from scipy.stats import f_oneway\n",
    "\n",
    "# Define the waiting times\n",
    "a = np.array([24, 25, 28, 23, 22, 20, 27])\n",
    "b = np.array([31, 33, 35, 30, 32, 36])\n",
    "\n",
    "# Calculate the sample variances\n",
    "var_a = np.var(a, ddof=1)\n",
    "var_b = np.var(b, ddof=1)\n",
    "\n",
    "# Perform the F-test\n",
    "F, p = f_oneway(a, b)\n",
    "\n",
    "# Define the significance level\n",
    "alpha = 0.05\n",
    "\n",
    "# Print the results\n",
    "print(\"Sample variance of A:\", var_a)\n",
    "print(\"Sample variance of B:\", var_b)\n",
    "print(\"F-value:\", F)\n",
    "print(\"p-value:\", p)\n",
    "if p < alpha:\n",
    "    print(\"The variances are significantly different.\")\n",
    "else:\n",
    "    print(\"The variances are not significantly different.\")\n"
   ]
  },
  {
   "cell_type": "markdown",
   "metadata": {},
   "source": [
    "# Answer 9\n",
    "\n",
    "We can use the var function from NumPy to calculate the sample variances, and then use the f_oneway function from SciPy to perform the F-test:"
   ]
  },
  {
   "cell_type": "code",
   "execution_count": 8,
   "metadata": {},
   "outputs": [
    {
     "name": "stdout",
     "output_type": "stream",
     "text": [
      "Sample variance of A: 19.76666666666667\n",
      "Sample variance of B: 10.166666666666666\n",
      "F-value: 8.040089086859687\n",
      "p-value: 0.017684171924487787\n",
      "The variances are not significantly different.\n"
     ]
    }
   ],
   "source": [
    "import numpy as np\n",
    "from scipy.stats import f_oneway\n",
    "\n",
    "# Define the test scores\n",
    "a = np.array([80, 85, 90, 92, 87, 83])\n",
    "b = np.array([75, 78, 82, 79, 81, 84])\n",
    "\n",
    "# Calculate the sample variances\n",
    "var_a = np.var(a, ddof=1)\n",
    "var_b = np.var(b, ddof=1)\n",
    "\n",
    "# Perform the F-test\n",
    "F, p = f_oneway(a, b)\n",
    "\n",
    "# Define the significance level\n",
    "alpha = 0.01\n",
    "\n",
    "# Print the results\n",
    "print(\"Sample variance of A:\", var_a)\n",
    "print(\"Sample variance of B:\", var_b)\n",
    "print(\"F-value:\", F)\n",
    "print(\"p-value:\", p)\n",
    "if p < alpha:\n",
    "    print(\"The variances are significantly different.\")\n",
    "else:\n",
    "    print(\"The variances are not significantly different.\")\n"
   ]
  },
  {
   "cell_type": "code",
   "execution_count": null,
   "metadata": {},
   "outputs": [],
   "source": []
  }
 ],
 "metadata": {
  "kernelspec": {
   "display_name": "Python 3",
   "language": "python",
   "name": "python3"
  },
  "language_info": {
   "codemirror_mode": {
    "name": "ipython",
    "version": 3
   },
   "file_extension": ".py",
   "mimetype": "text/x-python",
   "name": "python",
   "nbconvert_exporter": "python",
   "pygments_lexer": "ipython3",
   "version": "3.8.5"
  }
 },
 "nbformat": 4,
 "nbformat_minor": 4
}
