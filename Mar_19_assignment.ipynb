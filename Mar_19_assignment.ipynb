{
 "cells": [
  {
   "cell_type": "markdown",
   "id": "90d68051-5f34-4f36-9c54-39e13932dee6",
   "metadata": {},
   "source": [
    "# Answer 1\n",
    "\n",
    "Min-Max scaling is a data normalization technique used to rescale the data to a fixed range, usually [0, 1]. It works by subtracting the minimum value of the feature from each data point and dividing the result by the range (the difference between the maximum and minimum values). Min-Max scaling is commonly used in data preprocessing to ensure that all features have the same scale and importance in the analysis. For example, consider a dataset of house prices, where the prices range from ₹50,000 to ₹1,000,000. Applying Min-Max scaling would transform the prices to a range of [0, 1], making it easier to compare the relative importance of other features such as the size of the house or the number of bedrooms.\n"
   ]
  },
  {
   "cell_type": "markdown",
   "id": "2b358cdc-4fcc-49ed-bfaf-1fc8b7ce1915",
   "metadata": {},
   "source": [
    "# Answer 2\n",
    "\n",
    "The Unit Vector technique is a data normalization technique used to normalize vectors so that they have a magnitude of 1. It works by dividing each vector by its L2 norm (the square root of the sum of the squares of its components). Unlike Min-Max scaling, which rescales the data to a fixed range, Unit Vector scaling does not change the relative magnitudes of the features. Instead, it only ensures that the direction of the features is preserved. For example, consider a dataset of customer ratings on a scale from 1 to 10, where each rating represents a vector with 10 components. Applying Unit Vector scaling would normalize each vector so that its magnitude is 1, but the relative magnitudes of the components would remain the same."
   ]
  },
  {
   "cell_type": "markdown",
   "id": "af4a6e06-e740-4725-aab1-554b68be2852",
   "metadata": {},
   "source": [
    "# Answer 3\n",
    "\n",
    "PCA (Principle Component Analysis) is a feature extraction technique used to reduce the dimensionality of the data while preserving as much of the original information as possible. It works by identifying a smaller number of uncorrelated variables, known as principal components, that can explain most of the variability in the data. PCA is commonly used in dimensionality reduction to simplify the analysis and reduce the computational complexity of machine learning algorithms. For example, consider a dataset of images with millions of pixels. Applying PCA to the dataset would identify a smaller number of principal components that can represent most of the important information in the images, making it easier to classify and compare images."
   ]
  },
  {
   "cell_type": "markdown",
   "id": "f4387e86-1e98-4fee-a610-0b36592bd9bc",
   "metadata": {},
   "source": [
    "# Answer 4\n",
    "\n",
    "PCA (Principal Component Analysis) is a type of feature extraction technique that can be used to reduce the dimensionality of the data while preserving most of the important information. Feature extraction refers to the process of identifying the most important features in a dataset and transforming the data into a lower-dimensional space. PCA can be used for feature extraction by identifying the most important principal components that explain most of the variability in the data and transforming the data into a lower-dimensional space defined by these components. This can reduce the complexity of the data and improve the efficiency of the analysis. For example, consider a dataset of customer reviews of a product with many features, such as quality, price, and customer service. Applying PCA to the dataset would identify the most important principal components that explain most of the variability in the data and transform the data into a lower-dimensional space defined by these components, making it easier to analyze and compare the reviews."
   ]
  },
  {
   "cell_type": "markdown",
   "id": "cc951473-deaa-49d8-84d3-30f23202827e",
   "metadata": {},
   "source": [
    "# Answer 5\n",
    "\n",
    "To preprocess the data for the recommendation system, we would use Min-Max scaling to ensure that all features have the same scale and importance in the analysis. We would apply Min-Max scaling to the price, rating, and delivery time features to transform them to a fixed range, usually [0, 1]. For example, suppose the price feature ranges from $5 to $25, the rating feature ranges from 1 to 5, and the delivery time feature ranges from 10 to 60 minutes. Applying Min-Max scaling to each feature would transform the ranges to [0, 1], making it easier to compare the relative importance of each feature in the analysis. After preprocessing, we could use the scaled features to build a recommendation system based on the customer preferences for each feature."
   ]
  },
  {
   "cell_type": "markdown",
   "id": "6c74e254-d6bf-4e9b-a904-066f1614ffbd",
   "metadata": {},
   "source": [
    "# Answer "
   ]
  },
  {
   "cell_type": "markdown",
   "id": "0afcf845-9d63-460a-9613-107e2662012a",
   "metadata": {},
   "source": [
    "# Answer "
   ]
  },
  {
   "cell_type": "markdown",
   "id": "e66c7805-c5d4-499a-af51-649fb457c497",
   "metadata": {},
   "source": [
    "# Answer "
   ]
  }
 ],
 "metadata": {
  "kernelspec": {
   "display_name": "Python 3 (ipykernel)",
   "language": "python",
   "name": "python3"
  },
  "language_info": {
   "codemirror_mode": {
    "name": "ipython",
    "version": 3
   },
   "file_extension": ".py",
   "mimetype": "text/x-python",
   "name": "python",
   "nbconvert_exporter": "python",
   "pygments_lexer": "ipython3",
   "version": "3.10.8"
  }
 },
 "nbformat": 4,
 "nbformat_minor": 5
}
