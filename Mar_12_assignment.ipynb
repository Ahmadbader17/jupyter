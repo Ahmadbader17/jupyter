{
 "cells": [
  {
   "cell_type": "markdown",
   "metadata": {},
   "source": [
    "# Answer 1\n",
    "\n",
    "To calculate the 95% confidence interval for a sample of data with a mean of 50 and a standard deviation of 5 using Python, we can use the scipy.stats library:"
   ]
  },
  {
   "cell_type": "code",
   "execution_count": 1,
   "metadata": {},
   "outputs": [
    {
     "name": "stdout",
     "output_type": "stream",
     "text": [
      "95% confidence interval: (49.02001800772997, 50.97998199227003)\n"
     ]
    }
   ],
   "source": [
    "from scipy.stats import norm\n",
    "\n",
    "sample_mean = 50\n",
    "sample_std = 5\n",
    "n = 100  # sample size\n",
    "\n",
    "z_score = norm.ppf(0.975)  # 95% confidence level\n",
    "margin_of_error = z_score * (sample_std / n ** 0.5)\n",
    "\n",
    "lower_bound = sample_mean - margin_of_error\n",
    "upper_bound = sample_mean + margin_of_error\n",
    "\n",
    "print(\"95% confidence interval:\", (lower_bound, upper_bound))"
   ]
  },
  {
   "cell_type": "markdown",
   "metadata": {},
   "source": [
    "# Answer 2\n",
    "\n",
    "To conduct a chi-square goodness of fit test to determine if the distribution of colors of M&Ms in a bag matches the expected distribution of 20% blue, 20% orange, 20% green, 10% yellow, 10% red, and 20% brown using Python, we can use the scipy.stats library:"
   ]
  },
  {
   "cell_type": "code",
   "execution_count": 2,
   "metadata": {},
   "outputs": [
    {
     "name": "stdout",
     "output_type": "stream",
     "text": [
      "Chi-square test statistic: 15.083333333333332\n",
      "P-value: 0.01001213932826027\n"
     ]
    }
   ],
   "source": [
    "from scipy.stats import chisquare\n",
    "\n",
    "observed = [30, 18, 20, 12, 13, 27]  # observed counts for each color\n",
    "expected = [0.2 * sum(observed)] * 6  # expected counts assuming equal proportions\n",
    "\n",
    "test_statistic, p_value = chisquare(observed, expected)\n",
    "\n",
    "print(\"Chi-square test statistic:\", test_statistic)\n",
    "print(\"P-value:\", p_value)"
   ]
  },
  {
   "cell_type": "markdown",
   "metadata": {},
   "source": [
    "# Answer 3\n",
    "\n",
    "To calculate the chi-square statistic and p-value for a contingency table with the given data in Python, we can use the scipy.stats library:"
   ]
  },
  {
   "cell_type": "code",
   "execution_count": 3,
   "metadata": {},
   "outputs": [
    {
     "name": "stdout",
     "output_type": "stream",
     "text": [
      "Chi-square test statistic: 5.833333333333334\n",
      "P-value: 0.05411376622282158\n"
     ]
    }
   ],
   "source": [
    "from scipy.stats import chi2_contingency\n",
    "\n",
    "observed = [[20, 15], [10, 25], [15, 20]]  # observed counts for each outcome and group\n",
    "\n",
    "chi2, p, dof, expected = chi2_contingency(observed)\n",
    "\n",
    "print(\"Chi-square test statistic:\", chi2)\n",
    "print(\"P-value:\", p)"
   ]
  },
  {
   "cell_type": "markdown",
   "metadata": {},
   "source": [
    "# Answer 4\n",
    "\n",
    "To calculate the 95% confidence interval for the true proportion of individuals in the population who smoke, we can use the statsmodels library in Python:"
   ]
  },
  {
   "cell_type": "code",
   "execution_count": 4,
   "metadata": {},
   "outputs": [
    {
     "name": "stdout",
     "output_type": "stream",
     "text": [
      "95% confidence interval: (0.09151638887130706, 0.14848361112869293)\n"
     ]
    }
   ],
   "source": [
    "from statsmodels.stats.proportion import proportion_confint\n",
    "\n",
    "n = 500\n",
    "smokers = 60\n",
    "prop = smokers / n\n",
    "\n",
    "conf_interval = proportion_confint(smokers, n, alpha=0.05)\n",
    "\n",
    "print(\"95% confidence interval:\", conf_interval)\n"
   ]
  },
  {
   "cell_type": "markdown",
   "metadata": {},
   "source": [
    "This means that we are 95% confident that the true proportion of smokers in the population falls between 0.101 and 0.139. Interpretation: If we repeatedly take samples of the same size from the same population and calculate their 95% confidence intervals, we expect 95% of those intervals to contain the true population proportion."
   ]
  },
  {
   "cell_type": "markdown",
   "metadata": {},
   "source": [
    "# Answer 5\n",
    "\n",
    "To calculate the 90% confidence interval for a sample of data with a mean of 75 and a standard deviation of 12, we can use the scipy.stats library in Python:"
   ]
  },
  {
   "cell_type": "code",
   "execution_count": 7,
   "metadata": {},
   "outputs": [
    {
     "name": "stdout",
     "output_type": "stream",
     "text": [
      "90% confidence interval: (51.48043218551935, 98.51956781448065)\n"
     ]
    }
   ],
   "source": [
    "import scipy.stats as stats\n",
    "import numpy as np\n",
    "n = 1 # the sample size is 1\n",
    "mean = 75\n",
    "std_dev = 12\n",
    "z_score = stats.norm.ppf(0.95 + (1-0.95)/2) # Calculate z-score for 90% confidence interval\n",
    "\n",
    "# Calculate the margin of error\n",
    "margin_of_error = z_score * (std_dev / (n**0.5))\n",
    "\n",
    "# Calculate the confidence interval\n",
    "lower_limit = mean - margin_of_error\n",
    "upper_limit = mean + margin_of_error\n",
    "\n",
    "print(\"90% confidence interval:\", (lower_limit, upper_limit))\n"
   ]
  },
  {
   "cell_type": "markdown",
   "metadata": {},
   "source": [
    "This means that we are 90% confident that the true population mean falls between 51.48 and 98.51 . Since the sample size is only 1, the confidence interval only reflects the precision of the point estimate (sample mean) and not the variability of the population. In other words, the confidence interval indicates that we are confident that the population mean is equal to the sample mean, but it doesn't tell us anything about the variability of the population."
   ]
  },
  {
   "cell_type": "markdown",
   "metadata": {},
   "source": [
    "# Answer 6\n",
    "\n",
    "To plot the chi-square distribution with 10 degrees of freedom in Python, we can use the scipy.stats module:"
   ]
  },
  {
   "cell_type": "code",
   "execution_count": 8,
   "metadata": {},
   "outputs": [
    {
     "data": {
      "image/png": "[encoded data removed]",
      "text/plain": [
       "<Figure size 432x288 with 1 Axes>"
      ]
     },
     "metadata": {
      "needs_background": "light"
     },
     "output_type": "display_data"
    }
   ],
   "source": [
    "import numpy as np\n",
    "import matplotlib.pyplot as plt\n",
    "from scipy.stats import chi2\n",
    "\n",
    "# Define the x values for the plot\n",
    "x = np.linspace(0, 25, 500)\n",
    "\n",
    "# Define the degrees of freedom\n",
    "df = 10\n",
    "\n",
    "# Calculate the y values for the plot\n",
    "y = chi2.pdf(x, df)\n",
    "\n",
    "# Create the plot\n",
    "fig, ax = plt.subplots()\n",
    "ax.plot(x, y, 'b-', lw=2, alpha=0.6, label='Chi-Square PDF')\n",
    "\n",
    "# Shade the area corresponding to a chi-square statistic of 15\n",
    "x_shade = np.linspace(15, 25, 100)\n",
    "y_shade = chi2.pdf(x_shade, df)\n",
    "ax.fill_between(x_shade, y_shade, 0, alpha=0.5, color='r', label='Area for Chi-Square Statistic of 15')\n",
    "\n",
    "# Add labels to the plot\n",
    "ax.set_xlabel('X')\n",
    "ax.set_ylabel('PDF')\n",
    "ax.set_title('Chi-Square Distribution with 10 Degrees of Freedom')\n",
    "ax.legend()\n",
    "\n",
    "plt.show()\n"
   ]
  },
  {
   "cell_type": "markdown",
   "metadata": {},
   "source": [
    "# Answer 7\n",
    "\n",
    "To calculate the 99% confidence interval for the true proportion of people in the population who prefer Coke, we can use the formula:\n",
    "\n",
    "CI = (p̂ - z*√(p̂*(1-p̂)/n), p̂ + z*√(p̂*(1-p̂)/n))\n",
    "\n",
    "where p̂ is the sample proportion, n is the sample size, and z is the z-score corresponding to the desired confidence level.\n",
    "\n",
    "In this case, p̂ = 520/1000 = 0.52, n = 1000, and z = stats.norm.ppf(0.995) = 2.58 (since we want a 99% confidence interval, which corresponds to an alpha level of 0.01)."
   ]
  },
  {
   "cell_type": "code",
   "execution_count": 9,
   "metadata": {},
   "outputs": [
    {
     "name": "stdout",
     "output_type": "stream",
     "text": [
      "99% Confidence Interval: (0.4793051576779699, 0.5606948423220302)\n"
     ]
    }
   ],
   "source": [
    "import scipy.stats as stats\n",
    "import math\n",
    "\n",
    "n = 1000\n",
    "p_hat = 520 / n\n",
    "z = stats.norm.ppf(0.995)\n",
    "margin_of_error = z * math.sqrt(p_hat * (1 - p_hat) / n)\n",
    "confidence_interval = (p_hat - margin_of_error, p_hat + margin_of_error)\n",
    "\n",
    "print(\"99% Confidence Interval:\", confidence_interval)"
   ]
  },
  {
   "cell_type": "markdown",
   "metadata": {},
   "source": [
    "# Answer 8\n",
    "\n",
    "To conduct a chi-square goodness of fit test for this scenario, we need to compare the observed frequencies with the expected frequencies of a fair coin. The null hypothesis is that the coin is fair, and the alternative hypothesis is that the coin is biased towards tails.\n",
    "\n",
    "The expected frequency of tails for a fair coin is 0.5, and the expected frequency of heads is also 0.5. So, for a sample of 100 flips, we would expect 50 tails and 50 heads.\n",
    "\n",
    "We can use a chi-square goodness of fit test to compare the observed frequencies with the expected frequencies. The test statistic is calculated as:\n",
    "\n",
    "χ² = Σ ((O - E)² / E)\n",
    "\n",
    "where O is the observed frequency, E is the expected frequency, and the summation is taken over all possible outcomes."
   ]
  },
  {
   "cell_type": "code",
   "execution_count": 23,
   "metadata": {},
   "outputs": [
    {
     "name": "stdout",
     "output_type": "stream",
     "text": [
      "Reject null hypothesis: the coin is biased towards tails.\n"
     ]
    }
   ],
   "source": [
    "import numpy as np\n",
    "from scipy.stats import chisquare\n",
    "\n",
    "# Define the observed frequencies\n",
    "observed_freqs = np.array([45, 55])\n",
    "\n",
    "# Define the expected frequencies\n",
    "expected_freqs = np.array([50, 50])\n",
    "\n",
    "# Calculate the chi-square statistic and p-value\n",
    "chi2_stat, p_value = chisquare(observed_freqs, expected_freqs)\n",
    "\n",
    "# Print the results\n",
    "if p_value < chi2_stat:\n",
    "    print(\"Reject null hypothesis: the coin is biased towards tails.\")\n",
    "else:\n",
    "    print(\"Fail to reject null hypothesis: the coin is fair.\")"
   ]
  },
  {
   "cell_type": "markdown",
   "metadata": {},
   "source": [
    "# Answer 9"
   ]
  },
  {
   "cell_type": "code",
   "execution_count": 25,
   "metadata": {},
   "outputs": [
    {
     "name": "stdout",
     "output_type": "stream",
     "text": [
      "Chi-square statistic: 12.057347670250895\n",
      "Degrees of freedom: 1\n",
      "P-value: 0.0005158863863703744\n"
     ]
    }
   ],
   "source": [
    "import numpy as np\n",
    "from scipy.stats import chi2_contingency\n",
    "\n",
    "# Create the contingency table as a NumPy array\n",
    "contingency_table = np.array([[60, 140], [30, 170]])\n",
    "\n",
    "# Conduct the chi-square test for independence\n",
    "chi2_stat, p_val, dof, expected = chi2_contingency(contingency_table)\n",
    "\n",
    "# Print the results\n",
    "print(\"Chi-square statistic:\", chi2_stat)\n",
    "print(\"Degrees of freedom:\", dof)\n",
    "print(\"P-value:\", p_val)\n"
   ]
  },
  {
   "cell_type": "markdown",
   "metadata": {},
   "source": [
    "Interpretation: The chi-square statistic is 8.184 and the associated p-value is 0.005, which is more than the significance level of 0.05. Therefore, we accept the null hypothesis and conclude that there is a significant association between smoking status and lung cancer diagnosis in the population."
   ]
  },
  {
   "cell_type": "markdown",
   "metadata": {},
   "source": [
    "# Answer 10\n",
    "\n"
   ]
  },
  {
   "cell_type": "code",
   "execution_count": 26,
   "metadata": {},
   "outputs": [
    {
     "name": "stdout",
     "output_type": "stream",
     "text": [
      "Chi-square statistic: 13.393665158371041\n",
      "p-value: 0.0012348168997745918\n",
      "Degrees of freedom: 2\n",
      "Expected frequencies: [[212.5 162.5 125. ]\n",
      " [212.5 162.5 125. ]]\n",
      "There is a significant association between chocolate preference and country of origin.\n"
     ]
    }
   ],
   "source": [
    "import numpy as np\n",
    "from scipy.stats import chi2_contingency\n",
    "\n",
    "# create the contingency table\n",
    "observed = np.array([[200, 150, 150], [225, 175, 100]])\n",
    "\n",
    "# conduct the chi-square test\n",
    "chi2, p, dof, expected = chi2_contingency(observed)\n",
    "\n",
    "# print the results\n",
    "print('Chi-square statistic:', chi2)\n",
    "print('p-value:', p)\n",
    "print('Degrees of freedom:', dof)\n",
    "print('Expected frequencies:', expected)\n",
    "\n",
    "# check if the p-value is less than the significance level\n",
    "alpha = 0.01\n",
    "if p < alpha:\n",
    "    print('There is a significant association between chocolate preference and country of origin.')\n",
    "else:\n",
    "    print('There is no significant association between chocolate preference and country of origin.')\n"
   ]
  },
  {
   "cell_type": "markdown",
   "metadata": {},
   "source": [
    "# Answer 11\n",
    "\n",
    "To conduct a hypothesis test to determine if the population mean is significantly different from 70, we can use a one-sample t-test.\n",
    "\n",
    "Null hypothesis: The population mean is equal to 70.\n",
    "Alternative hypothesis: The population mean is not equal to 70.\n",
    "\n",
    "We can calculate the t-value using the formula:\n",
    "\n",
    "t = (sample mean - hypothesized mean) / (sample standard deviation / sqrt(sample size))\n",
    "\n",
    "In this case, the sample mean is 72, hypothesized mean is 70, sample standard deviation is 10, and sample size is 30.\n",
    "\n",
    "t = (72 - 70) / (10 / sqrt(30))\n",
    "t = 1.0392\n",
    "\n",
    "Using a significance level of 0.05 and degrees of freedom of 29 (sample size - 1), we can find the critical t-value using a t-distribution table or a t-distribution function in Python.\n",
    "\n",
    "critical t-value = +/- 2.0452\n",
    "\n",
    "Since the calculated t-value (1.0392) is not greater than the critical t-value (2.0452), we fail to reject the null hypothesis. We do not have sufficient evidence to conclude that the population mean is significantly different from 70 at a significance level of 0.05.\n",
    "\n",
    "\n",
    "\n",
    "\n",
    "\n"
   ]
  },
  {
   "cell_type": "code",
   "execution_count": null,
   "metadata": {},
   "outputs": [],
   "source": []
  }
 ],
 "metadata": {
  "kernelspec": {
   "display_name": "Python 3",
   "language": "python",
   "name": "python3"
  },
  "language_info": {
   "codemirror_mode": {
    "name": "ipython",
    "version": 3
   },
   "file_extension": ".py",
   "mimetype": "text/x-python",
   "name": "python",
   "nbconvert_exporter": "python",
   "pygments_lexer": "ipython3",
   "version": "3.8.5"
  }
 },
 "nbformat": 4,
 "nbformat_minor": 4
}
