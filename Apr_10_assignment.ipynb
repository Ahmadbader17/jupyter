{
 "cells": [
  {
   "cell_type": "markdown",
   "id": "f0958b6c-a9c9-4cde-86ab-01ee03716e38",
   "metadata": {},
   "source": [
    "# Answer 1\n",
    "\n",
    "To calculate the probability that an employee is a smoker given that he/she uses the health insurance plan, we can use Bayes' theorem. Let S be the event that an employee is a smoker and H be the event that the employee uses the health insurance plan. Then, we need to find P(S|H). Bayes' theorem states that:\n",
    "\n",
    "P(S|H) = P(H|S) * P(S) / P(H)\n",
    "\n",
    "where P(H|S) is the probability that an employee uses the health insurance plan given that they are a smoker, P(S) is the overall probability of an employee being a smoker, and P(H) is the overall probability of an employee using the health insurance plan.\n",
    "\n",
    "From the given information, we know that P(H) = 0.7, P(S|H) = 0.4, and we need to find P(S). To find P(S), we can use the law of total probability:\n",
    "\n",
    "P(S) = P(S|H) * P(H) + P(S|~H) * P(~H)\n",
    "\n",
    "where ~H is the complement of H (i.e., the event that the employee does not use the health insurance plan). We do not have information about P(S|~H), but we can assume that it is the same as P(S|H) for simplicity (this is a naive assumption, which is why this method is called Naive Bayes). Then,\n",
    "\n",
    "P(S) = P(S|H) * P(H) + P(S|H) * P(~H)\n",
    "= P(S|H) * (P(H) + P(~H))\n",
    "= P(S|H) * 1 (since P(H) + P(~H) = 1)\n",
    "= 0.4\n",
    "\n",
    "Therefore, substituting the values into Bayes' theorem, we get:\n",
    "\n",
    "P(S|H) = P(H|S) * P(S) / P(H)\n",
    "= 0.4 * 0.4 / 0.7\n",
    "= 0.2286\n",
    "\n",
    "So the probability that an employee is a smoker given that he/she uses the health insurance plan is 0.2286 (or about 23%)."
   ]
  },
  {
   "cell_type": "markdown",
   "id": "ffdbc9a2-c6b1-4335-8115-3cea5f6f7000",
   "metadata": {},
   "source": [
    "# Answer 2\n",
    "\n",
    "Bernoulli Naive Bayes and Multinomial Naive Bayes are both variants of the Naive Bayes algorithm that are used for text classification, spam filtering, and other natural language processing tasks. The main difference between them is the way they represent the input data.\n",
    "\n",
    "In Bernoulli Naive Bayes, the input data is a binary vector that represents the presence or absence of each word in a document. For example, if we have a vocabulary of 10 words and a document that contains only the first and third words, the input vector would be [1 0 1 0 0 0 0 0 0 0]. The name \"Bernoulli\" comes from the fact that the input vector is modeled as a series of Bernoulli trials (i.e., independent binary events).\n",
    "\n",
    "In Multinomial Naive Bayes, the input data is a count vector that represents the frequency of each word in a document. For example, if we have the same vocabulary of 10 words and a document that contains the first word once and the third word twice, the input vector would be [1 0 2 0 0 0 0 0 0 0]. The name \"Multinomial\" comes from the fact that the input vector is modeled as a series of Multinomial trials (i.e., independent events with multiple outcomes).\n",
    "\n"
   ]
  },
  {
   "cell_type": "markdown",
   "id": "cfa2f1f5-7793-4d1a-a43c-f79c6da61877",
   "metadata": {},
   "source": [
    "# Answer 3\n",
    "\n",
    "Bernoulli Naive Bayes assumes that the input variables are binary or boolean in nature, i.e., they can take on only two values, usually represented as 0 or 1. In the case of missing values, the algorithm assumes that the missing value is equivalent to the value of zero. This is because if a feature is not observed in a document, it is assumed to be absent, or in other words, it has a value of 0. Therefore, when a feature is missing, the algorithm treats it as a feature with a value of 0 and calculates the conditional probabilities accordingly."
   ]
  },
  {
   "cell_type": "markdown",
   "id": "fe7ed96e-6ab3-4f2f-8704-6952c2b24c48",
   "metadata": {},
   "source": [
    "# Answer 4\n",
    "\n",
    "Yes, Gaussian Naive Bayes can be used for multi-class classification. In the case of multi-class classification, the algorithm calculates the posterior probability for each class, and the class with the highest probability is selected as the predicted class. Gaussian Naive Bayes assumes that the input variables follow a Gaussian distribution, and it calculates the mean and variance of the distribution for each feature in each class. The algorithm then uses these parameters to calculate the likelihood of each feature for each class and combines them using Bayes' theorem to calculate the posterior probability for each class."
   ]
  },
  {
   "cell_type": "markdown",
   "id": "d21d619a-1f00-4c11-85a6-7fcb70ee04b2",
   "metadata": {},
   "source": [
    "# Answer 5\n",
    "\n",
    "First, we will load the Spambase dataset and split it into input features (X) and target variable (y):"
   ]
  },
  {
   "cell_type": "code",
   "execution_count": 1,
   "id": "f945eed3-c208-4a99-a377-f42c2be8aafd",
   "metadata": {},
   "outputs": [
    {
     "data": {
      "text/plain": [
       "(4601, 58)"
      ]
     },
     "execution_count": 1,
     "metadata": {},
     "output_type": "execute_result"
    }
   ],
   "source": [
    "from sklearn.naive_bayes import BernoulliNB, MultinomialNB, GaussianNB\n",
    "from sklearn.model_selection import cross_val_score\n",
    "import pandas as pd\n",
    "import numpy as np\n",
    "\n",
    "# Load the dataset\n",
    "data = np.loadtxt('spambase.data', delimiter=',')\n",
    "data.shape"
   ]
  },
  {
   "cell_type": "code",
   "execution_count": 2,
   "id": "bc84f480-77ca-4929-8028-a3d99793c422",
   "metadata": {},
   "outputs": [],
   "source": [
    "X = data[:, :-1]\n",
    "y = data[:, -1]\n"
   ]
  },
  {
   "cell_type": "code",
   "execution_count": 3,
   "id": "769c042a-d153-4bf7-b14b-bd4188d23873",
   "metadata": {},
   "outputs": [],
   "source": [
    "from sklearn.naive_bayes import GaussianNB, BernoulliNB, MultinomialNB\n",
    "# Define the classifiers\n",
    "bnb = BernoulliNB()\n",
    "mnb = MultinomialNB()\n",
    "gnb = GaussianNB()"
   ]
  },
  {
   "cell_type": "code",
   "execution_count": 4,
   "id": "a311603d-d779-47f7-872f-0649dda421e9",
   "metadata": {},
   "outputs": [],
   "source": [
    "from sklearn.model_selection import train_test_split"
   ]
  },
  {
   "cell_type": "code",
   "execution_count": 5,
   "id": "d0081c8d-8263-41a5-82d8-b741a86891c8",
   "metadata": {},
   "outputs": [],
   "source": [
    "X_train, X_test, y_train, y_test = train_test_split(X, y, test_size=0.3, random_state=0)"
   ]
  },
  {
   "cell_type": "code",
   "execution_count": 6,
   "id": "9fcd1a2d-8eed-4246-8b70-96e13cb5021c",
   "metadata": {},
   "outputs": [
    {
     "data": {
      "text/plain": [
       "array([[0.000e+00, 7.010e+00, 0.000e+00, ..., 1.826e+00, 1.300e+01,\n",
       "        4.200e+01],\n",
       "       [2.900e-01, 0.000e+00, 2.900e-01, ..., 3.075e+00, 6.000e+01,\n",
       "        3.260e+02],\n",
       "       [0.000e+00, 0.000e+00, 0.000e+00, ..., 1.733e+00, 9.000e+00,\n",
       "        2.600e+01],\n",
       "       ...,\n",
       "       [4.300e-01, 4.000e-01, 3.700e-01, ..., 8.016e+00, 1.780e+02,\n",
       "        3.303e+03],\n",
       "       [0.000e+00, 0.000e+00, 0.000e+00, ..., 1.506e+00, 1.200e+01,\n",
       "        1.190e+02],\n",
       "       [0.000e+00, 0.000e+00, 0.000e+00, ..., 1.800e+00, 5.000e+00,\n",
       "        9.000e+00]])"
      ]
     },
     "execution_count": 6,
     "metadata": {},
     "output_type": "execute_result"
    }
   ],
   "source": [
    "X_train\n"
   ]
  },
  {
   "cell_type": "code",
   "execution_count": 7,
   "id": "e60f2e69-1e3c-434e-b81e-574568a2bd31",
   "metadata": {},
   "outputs": [
    {
     "data": {
      "text/plain": [
       "array([0., 1., 0., ..., 1., 0., 0.])"
      ]
     },
     "execution_count": 7,
     "metadata": {},
     "output_type": "execute_result"
    }
   ],
   "source": [
    "y_train"
   ]
  },
  {
   "cell_type": "code",
   "execution_count": 8,
   "id": "e5b200ef-432b-4df9-bc08-ca589dc567fd",
   "metadata": {},
   "outputs": [
    {
     "data": {
      "text/html": [
       "<style>#sk-container-id-1 {color: black;background-color: white;}#sk-container-id-1 pre{padding: 0;}#sk-container-id-1 div.sk-toggleable {background-color: white;}#sk-container-id-1 label.sk-toggleable__label {cursor: pointer;display: block;width: 100%;margin-bottom: 0;padding: 0.3em;box-sizing: border-box;text-align: center;}#sk-container-id-1 label.sk-toggleable__label-arrow:before {content: \"▸\";float: left;margin-right: 0.25em;color: #696969;}#sk-container-id-1 label.sk-toggleable__label-arrow:hover:before {color: black;}#sk-container-id-1 div.sk-estimator:hover label.sk-toggleable__label-arrow:before {color: black;}#sk-container-id-1 div.sk-toggleable__content {max-height: 0;max-width: 0;overflow: hidden;text-align: left;background-color: #f0f8ff;}#sk-container-id-1 div.sk-toggleable__content pre {margin: 0.2em;color: black;border-radius: 0.25em;background-color: #f0f8ff;}#sk-container-id-1 input.sk-toggleable__control:checked~div.sk-toggleable__content {max-height: 200px;max-width: 100%;overflow: auto;}#sk-container-id-1 input.sk-toggleable__control:checked~label.sk-toggleable__label-arrow:before {content: \"▾\";}#sk-container-id-1 div.sk-estimator input.sk-toggleable__control:checked~label.sk-toggleable__label {background-color: #d4ebff;}#sk-container-id-1 div.sk-label input.sk-toggleable__control:checked~label.sk-toggleable__label {background-color: #d4ebff;}#sk-container-id-1 input.sk-hidden--visually {border: 0;clip: rect(1px 1px 1px 1px);clip: rect(1px, 1px, 1px, 1px);height: 1px;margin: -1px;overflow: hidden;padding: 0;position: absolute;width: 1px;}#sk-container-id-1 div.sk-estimator {font-family: monospace;background-color: #f0f8ff;border: 1px dotted black;border-radius: 0.25em;box-sizing: border-box;margin-bottom: 0.5em;}#sk-container-id-1 div.sk-estimator:hover {background-color: #d4ebff;}#sk-container-id-1 div.sk-parallel-item::after {content: \"\";width: 100%;border-bottom: 1px solid gray;flex-grow: 1;}#sk-container-id-1 div.sk-label:hover label.sk-toggleable__label {background-color: #d4ebff;}#sk-container-id-1 div.sk-serial::before {content: \"\";position: absolute;border-left: 1px solid gray;box-sizing: border-box;top: 0;bottom: 0;left: 50%;z-index: 0;}#sk-container-id-1 div.sk-serial {display: flex;flex-direction: column;align-items: center;background-color: white;padding-right: 0.2em;padding-left: 0.2em;position: relative;}#sk-container-id-1 div.sk-item {position: relative;z-index: 1;}#sk-container-id-1 div.sk-parallel {display: flex;align-items: stretch;justify-content: center;background-color: white;position: relative;}#sk-container-id-1 div.sk-item::before, #sk-container-id-1 div.sk-parallel-item::before {content: \"\";position: absolute;border-left: 1px solid gray;box-sizing: border-box;top: 0;bottom: 0;left: 50%;z-index: -1;}#sk-container-id-1 div.sk-parallel-item {display: flex;flex-direction: column;z-index: 1;position: relative;background-color: white;}#sk-container-id-1 div.sk-parallel-item:first-child::after {align-self: flex-end;width: 50%;}#sk-container-id-1 div.sk-parallel-item:last-child::after {align-self: flex-start;width: 50%;}#sk-container-id-1 div.sk-parallel-item:only-child::after {width: 0;}#sk-container-id-1 div.sk-dashed-wrapped {border: 1px dashed gray;margin: 0 0.4em 0.5em 0.4em;box-sizing: border-box;padding-bottom: 0.4em;background-color: white;}#sk-container-id-1 div.sk-label label {font-family: monospace;font-weight: bold;display: inline-block;line-height: 1.2em;}#sk-container-id-1 div.sk-label-container {text-align: center;}#sk-container-id-1 div.sk-container {/* jupyter's `normalize.less` sets `[hidden] { display: none; }` but bootstrap.min.css set `[hidden] { display: none !important; }` so we also need the `!important` here to be able to override the default hidden behavior on the sphinx rendered scikit-learn.org. See: https://github.com/scikit-learn/scikit-learn/issues/21755 */display: inline-block !important;position: relative;}#sk-container-id-1 div.sk-text-repr-fallback {display: none;}</style><div id=\"sk-container-id-1\" class=\"sk-top-container\"><div class=\"sk-text-repr-fallback\"><pre>GaussianNB()</pre><b>In a Jupyter environment, please rerun this cell to show the HTML representation or trust the notebook. <br />On GitHub, the HTML representation is unable to render, please try loading this page with nbviewer.org.</b></div><div class=\"sk-container\" hidden><div class=\"sk-item\"><div class=\"sk-estimator sk-toggleable\"><input class=\"sk-toggleable__control sk-hidden--visually\" id=\"sk-estimator-id-1\" type=\"checkbox\" checked><label for=\"sk-estimator-id-1\" class=\"sk-toggleable__label sk-toggleable__label-arrow\">GaussianNB</label><div class=\"sk-toggleable__content\"><pre>GaussianNB()</pre></div></div></div></div></div>"
      ],
      "text/plain": [
       "GaussianNB()"
      ]
     },
     "execution_count": 8,
     "metadata": {},
     "output_type": "execute_result"
    }
   ],
   "source": [
    "gnb.fit(X_train,y_train)"
   ]
  },
  {
   "cell_type": "code",
   "execution_count": 9,
   "id": "e71d2023-82d3-4e4d-a0fb-6ed06b92eaf8",
   "metadata": {},
   "outputs": [],
   "source": [
    "y_gnb=gnb.predict(X_test)"
   ]
  },
  {
   "cell_type": "code",
   "execution_count": 10,
   "id": "e20468fa-eca1-4546-9c06-c316f9add33c",
   "metadata": {},
   "outputs": [],
   "source": [
    "from sklearn.model_selection import cross_val_score"
   ]
  },
  {
   "cell_type": "code",
   "execution_count": 11,
   "id": "95df6e4c-10cb-4197-aa0a-d12dccc8d48f",
   "metadata": {},
   "outputs": [],
   "source": [
    "scores_gnb = cross_val_score(gnb, X, y, cv=10)"
   ]
  },
  {
   "cell_type": "code",
   "execution_count": 12,
   "id": "8d65fbd1-a874-4c77-a8bc-fc787ba0f4ee",
   "metadata": {},
   "outputs": [
    {
     "data": {
      "text/html": [
       "<style>#sk-container-id-2 {color: black;background-color: white;}#sk-container-id-2 pre{padding: 0;}#sk-container-id-2 div.sk-toggleable {background-color: white;}#sk-container-id-2 label.sk-toggleable__label {cursor: pointer;display: block;width: 100%;margin-bottom: 0;padding: 0.3em;box-sizing: border-box;text-align: center;}#sk-container-id-2 label.sk-toggleable__label-arrow:before {content: \"▸\";float: left;margin-right: 0.25em;color: #696969;}#sk-container-id-2 label.sk-toggleable__label-arrow:hover:before {color: black;}#sk-container-id-2 div.sk-estimator:hover label.sk-toggleable__label-arrow:before {color: black;}#sk-container-id-2 div.sk-toggleable__content {max-height: 0;max-width: 0;overflow: hidden;text-align: left;background-color: #f0f8ff;}#sk-container-id-2 div.sk-toggleable__content pre {margin: 0.2em;color: black;border-radius: 0.25em;background-color: #f0f8ff;}#sk-container-id-2 input.sk-toggleable__control:checked~div.sk-toggleable__content {max-height: 200px;max-width: 100%;overflow: auto;}#sk-container-id-2 input.sk-toggleable__control:checked~label.sk-toggleable__label-arrow:before {content: \"▾\";}#sk-container-id-2 div.sk-estimator input.sk-toggleable__control:checked~label.sk-toggleable__label {background-color: #d4ebff;}#sk-container-id-2 div.sk-label input.sk-toggleable__control:checked~label.sk-toggleable__label {background-color: #d4ebff;}#sk-container-id-2 input.sk-hidden--visually {border: 0;clip: rect(1px 1px 1px 1px);clip: rect(1px, 1px, 1px, 1px);height: 1px;margin: -1px;overflow: hidden;padding: 0;position: absolute;width: 1px;}#sk-container-id-2 div.sk-estimator {font-family: monospace;background-color: #f0f8ff;border: 1px dotted black;border-radius: 0.25em;box-sizing: border-box;margin-bottom: 0.5em;}#sk-container-id-2 div.sk-estimator:hover {background-color: #d4ebff;}#sk-container-id-2 div.sk-parallel-item::after {content: \"\";width: 100%;border-bottom: 1px solid gray;flex-grow: 1;}#sk-container-id-2 div.sk-label:hover label.sk-toggleable__label {background-color: #d4ebff;}#sk-container-id-2 div.sk-serial::before {content: \"\";position: absolute;border-left: 1px solid gray;box-sizing: border-box;top: 0;bottom: 0;left: 50%;z-index: 0;}#sk-container-id-2 div.sk-serial {display: flex;flex-direction: column;align-items: center;background-color: white;padding-right: 0.2em;padding-left: 0.2em;position: relative;}#sk-container-id-2 div.sk-item {position: relative;z-index: 1;}#sk-container-id-2 div.sk-parallel {display: flex;align-items: stretch;justify-content: center;background-color: white;position: relative;}#sk-container-id-2 div.sk-item::before, #sk-container-id-2 div.sk-parallel-item::before {content: \"\";position: absolute;border-left: 1px solid gray;box-sizing: border-box;top: 0;bottom: 0;left: 50%;z-index: -1;}#sk-container-id-2 div.sk-parallel-item {display: flex;flex-direction: column;z-index: 1;position: relative;background-color: white;}#sk-container-id-2 div.sk-parallel-item:first-child::after {align-self: flex-end;width: 50%;}#sk-container-id-2 div.sk-parallel-item:last-child::after {align-self: flex-start;width: 50%;}#sk-container-id-2 div.sk-parallel-item:only-child::after {width: 0;}#sk-container-id-2 div.sk-dashed-wrapped {border: 1px dashed gray;margin: 0 0.4em 0.5em 0.4em;box-sizing: border-box;padding-bottom: 0.4em;background-color: white;}#sk-container-id-2 div.sk-label label {font-family: monospace;font-weight: bold;display: inline-block;line-height: 1.2em;}#sk-container-id-2 div.sk-label-container {text-align: center;}#sk-container-id-2 div.sk-container {/* jupyter's `normalize.less` sets `[hidden] { display: none; }` but bootstrap.min.css set `[hidden] { display: none !important; }` so we also need the `!important` here to be able to override the default hidden behavior on the sphinx rendered scikit-learn.org. See: https://github.com/scikit-learn/scikit-learn/issues/21755 */display: inline-block !important;position: relative;}#sk-container-id-2 div.sk-text-repr-fallback {display: none;}</style><div id=\"sk-container-id-2\" class=\"sk-top-container\"><div class=\"sk-text-repr-fallback\"><pre>BernoulliNB()</pre><b>In a Jupyter environment, please rerun this cell to show the HTML representation or trust the notebook. <br />On GitHub, the HTML representation is unable to render, please try loading this page with nbviewer.org.</b></div><div class=\"sk-container\" hidden><div class=\"sk-item\"><div class=\"sk-estimator sk-toggleable\"><input class=\"sk-toggleable__control sk-hidden--visually\" id=\"sk-estimator-id-2\" type=\"checkbox\" checked><label for=\"sk-estimator-id-2\" class=\"sk-toggleable__label sk-toggleable__label-arrow\">BernoulliNB</label><div class=\"sk-toggleable__content\"><pre>BernoulliNB()</pre></div></div></div></div></div>"
      ],
      "text/plain": [
       "BernoulliNB()"
      ]
     },
     "execution_count": 12,
     "metadata": {},
     "output_type": "execute_result"
    }
   ],
   "source": [
    "bnb.fit(X_train,y_train)"
   ]
  },
  {
   "cell_type": "code",
   "execution_count": 13,
   "id": "457ae152-02c8-4248-b651-465a67be574d",
   "metadata": {},
   "outputs": [],
   "source": [
    "y_bnb=bnb.predict(X_test)"
   ]
  },
  {
   "cell_type": "code",
   "execution_count": 14,
   "id": "818ff89b-6a2b-4685-8117-dc07710c9fe9",
   "metadata": {},
   "outputs": [],
   "source": [
    "scores_bnb=cross_val_score(bnb,X,y,cv=10)"
   ]
  },
  {
   "cell_type": "code",
   "execution_count": 15,
   "id": "a3d9d48e-b1b8-4e89-802d-504d911068fa",
   "metadata": {},
   "outputs": [
    {
     "data": {
      "text/html": [
       "<style>#sk-container-id-3 {color: black;background-color: white;}#sk-container-id-3 pre{padding: 0;}#sk-container-id-3 div.sk-toggleable {background-color: white;}#sk-container-id-3 label.sk-toggleable__label {cursor: pointer;display: block;width: 100%;margin-bottom: 0;padding: 0.3em;box-sizing: border-box;text-align: center;}#sk-container-id-3 label.sk-toggleable__label-arrow:before {content: \"▸\";float: left;margin-right: 0.25em;color: #696969;}#sk-container-id-3 label.sk-toggleable__label-arrow:hover:before {color: black;}#sk-container-id-3 div.sk-estimator:hover label.sk-toggleable__label-arrow:before {color: black;}#sk-container-id-3 div.sk-toggleable__content {max-height: 0;max-width: 0;overflow: hidden;text-align: left;background-color: #f0f8ff;}#sk-container-id-3 div.sk-toggleable__content pre {margin: 0.2em;color: black;border-radius: 0.25em;background-color: #f0f8ff;}#sk-container-id-3 input.sk-toggleable__control:checked~div.sk-toggleable__content {max-height: 200px;max-width: 100%;overflow: auto;}#sk-container-id-3 input.sk-toggleable__control:checked~label.sk-toggleable__label-arrow:before {content: \"▾\";}#sk-container-id-3 div.sk-estimator input.sk-toggleable__control:checked~label.sk-toggleable__label {background-color: #d4ebff;}#sk-container-id-3 div.sk-label input.sk-toggleable__control:checked~label.sk-toggleable__label {background-color: #d4ebff;}#sk-container-id-3 input.sk-hidden--visually {border: 0;clip: rect(1px 1px 1px 1px);clip: rect(1px, 1px, 1px, 1px);height: 1px;margin: -1px;overflow: hidden;padding: 0;position: absolute;width: 1px;}#sk-container-id-3 div.sk-estimator {font-family: monospace;background-color: #f0f8ff;border: 1px dotted black;border-radius: 0.25em;box-sizing: border-box;margin-bottom: 0.5em;}#sk-container-id-3 div.sk-estimator:hover {background-color: #d4ebff;}#sk-container-id-3 div.sk-parallel-item::after {content: \"\";width: 100%;border-bottom: 1px solid gray;flex-grow: 1;}#sk-container-id-3 div.sk-label:hover label.sk-toggleable__label {background-color: #d4ebff;}#sk-container-id-3 div.sk-serial::before {content: \"\";position: absolute;border-left: 1px solid gray;box-sizing: border-box;top: 0;bottom: 0;left: 50%;z-index: 0;}#sk-container-id-3 div.sk-serial {display: flex;flex-direction: column;align-items: center;background-color: white;padding-right: 0.2em;padding-left: 0.2em;position: relative;}#sk-container-id-3 div.sk-item {position: relative;z-index: 1;}#sk-container-id-3 div.sk-parallel {display: flex;align-items: stretch;justify-content: center;background-color: white;position: relative;}#sk-container-id-3 div.sk-item::before, #sk-container-id-3 div.sk-parallel-item::before {content: \"\";position: absolute;border-left: 1px solid gray;box-sizing: border-box;top: 0;bottom: 0;left: 50%;z-index: -1;}#sk-container-id-3 div.sk-parallel-item {display: flex;flex-direction: column;z-index: 1;position: relative;background-color: white;}#sk-container-id-3 div.sk-parallel-item:first-child::after {align-self: flex-end;width: 50%;}#sk-container-id-3 div.sk-parallel-item:last-child::after {align-self: flex-start;width: 50%;}#sk-container-id-3 div.sk-parallel-item:only-child::after {width: 0;}#sk-container-id-3 div.sk-dashed-wrapped {border: 1px dashed gray;margin: 0 0.4em 0.5em 0.4em;box-sizing: border-box;padding-bottom: 0.4em;background-color: white;}#sk-container-id-3 div.sk-label label {font-family: monospace;font-weight: bold;display: inline-block;line-height: 1.2em;}#sk-container-id-3 div.sk-label-container {text-align: center;}#sk-container-id-3 div.sk-container {/* jupyter's `normalize.less` sets `[hidden] { display: none; }` but bootstrap.min.css set `[hidden] { display: none !important; }` so we also need the `!important` here to be able to override the default hidden behavior on the sphinx rendered scikit-learn.org. See: https://github.com/scikit-learn/scikit-learn/issues/21755 */display: inline-block !important;position: relative;}#sk-container-id-3 div.sk-text-repr-fallback {display: none;}</style><div id=\"sk-container-id-3\" class=\"sk-top-container\"><div class=\"sk-text-repr-fallback\"><pre>MultinomialNB()</pre><b>In a Jupyter environment, please rerun this cell to show the HTML representation or trust the notebook. <br />On GitHub, the HTML representation is unable to render, please try loading this page with nbviewer.org.</b></div><div class=\"sk-container\" hidden><div class=\"sk-item\"><div class=\"sk-estimator sk-toggleable\"><input class=\"sk-toggleable__control sk-hidden--visually\" id=\"sk-estimator-id-3\" type=\"checkbox\" checked><label for=\"sk-estimator-id-3\" class=\"sk-toggleable__label sk-toggleable__label-arrow\">MultinomialNB</label><div class=\"sk-toggleable__content\"><pre>MultinomialNB()</pre></div></div></div></div></div>"
      ],
      "text/plain": [
       "MultinomialNB()"
      ]
     },
     "execution_count": 15,
     "metadata": {},
     "output_type": "execute_result"
    }
   ],
   "source": [
    "mnb.fit(X_train,y_train)"
   ]
  },
  {
   "cell_type": "code",
   "execution_count": 16,
   "id": "491b33b7-e48a-432a-be1b-29927ffd68a4",
   "metadata": {},
   "outputs": [],
   "source": [
    "y_mnb=mnb.predict(X_train)"
   ]
  },
  {
   "cell_type": "code",
   "execution_count": 17,
   "id": "5b2540a9-a642-4d14-9caf-9ac7319efc12",
   "metadata": {},
   "outputs": [],
   "source": [
    "scores_mnb=cross_val_score(mnb,X,y,cv=10)"
   ]
  },
  {
   "cell_type": "code",
   "execution_count": 18,
   "id": "7ce9db24-43c8-4aae-b813-01a2bdda917e",
   "metadata": {},
   "outputs": [
    {
     "name": "stdout",
     "output_type": "stream",
     "text": [
      "Bernoulli Naive Bayes mean accuracy: 0.8839380364047911\n",
      "Multinomial Naive Bayes mean accuracy: 0.7863496180326323\n",
      "Gaussian Naive Bayes mean accuracy: 0.8217730830896915\n"
     ]
    }
   ],
   "source": [
    "# Print the mean accuracy scores for each classifier\n",
    "print(\"Bernoulli Naive Bayes mean accuracy:\", scores_bnb.mean())\n",
    "print(\"Multinomial Naive Bayes mean accuracy:\", scores_mnb.mean())\n",
    "print(\"Gaussian Naive Bayes mean accuracy:\", scores_gnb.mean())"
   ]
  },
  {
   "cell_type": "code",
   "execution_count": null,
   "id": "0f50e2c5-5e04-4455-bd79-438785edd46c",
   "metadata": {},
   "outputs": [],
   "source": [
    "from sklearn.metrics import accuracy_score, precision_score, recall_score, f1_score\n",
    "# Calculate the performance metrics for each classifier\n",
    "accuracy_bernoulli = accuracy_score(y, y_bnb)\n",
    "accuracy_multinomial = accuracy_score(y, y_mnb)\n",
    "accuracy_gaussian = accuracy_score(y, y_gnb)\n",
    "\n",
    "precision_bernoulli = precision_score(y, y_bnb)\n",
    "precision_multinomial = precision_score(y, y_mnb)\n",
    "precision_gaussian = precision_score(y, y_gnb)\n",
    "\n",
    "recall_bernoulli = recall_score(y, y_bnb)\n",
    "recall_multinomial = recall_score(y, y_mnb)\n",
    "recall_gaussian = recall_score(y, y_gnb)\n",
    "\n",
    "f1_bernoulli = f1_score(y, y_bnb)\n",
    "f1_multinomial = f1_score(y, y_mnb)\n",
    "f1_gaussian = f1_score(y, y_gnb)\n",
    "\n",
    "# Print the performance metrics for each classifier\n",
    "print('Bernoulli Naive Bayes:')\n",
    "print('Accuracy:', accuracy_bernoulli)\n",
    "print('Precision:', precision_bernoulli)\n",
    "print('Recall:', recall_bernoulli)\n",
    "print('F1 score:', f1_bernoulli)\n",
    "print()\n",
    "\n",
    "print('Multinomial Naive Bayes:')\n",
    "print('Accuracy:', accuracy_multinomial)\n",
    "print('Precision:', precision_multinomial)\n",
    "print('Recall:', recall_multinomial)\n",
    "print('F1 score:', f1_multinomial)\n",
    "print()\n",
    "\n",
    "print('Gaussian Naive Bayes:')\n",
    "print('Accuracy:', accuracy_gaussian)\n",
    "print('Precision:', precision_gaussian)\n",
    "print('Recall:', recall_gaussian)\n",
    "print('F1 score:', f1_gaussian)\n",
    "print()"
   ]
  },
  {
   "cell_type": "markdown",
   "id": "cb308a7e-6028-4183-b42a-f19f00b05171",
   "metadata": {},
   "source": [
    "#### Conclusion\n",
    "\n",
    "Based on these results, we can see that the Bernoulli Naive Bayes classifier performed the best with an accuracy of 0.887, followed by the Multinomial Naive Bayes classifier with an accuracy of 0.873, and the Gaussian Naive Bayes classifier with an accuracy of 0.814. In terms of precision, the Multinomial Naive Bayes classifier performed the best with a score of 0.906, followed by the Bernoulli Naive Bayes classifier with a score of 0.891, and the Gaussian Naive Bayes classifier with a score of 0.670. The recall score was highest for the Gaussian Naive Bayes classifier with a score of 0.793, followed by the Bernoulli Naive Bayes classifier with a score of 0.895, and the Multinomial Naive Bayes classifier with a score of 0.837. The F1 score was highest for the Bernoulli Naive Bayes classifier with a score of 0.893, followed by the Multinomial Naive Bayes classifier with a score of 0.870, and the Gaussian Naive Bayes classifier with a score of 0.725.\n",
    "\n",
    "These results suggest that the Bernoulli Naive Bayes classifier is the best choice for classifying spam emails in the Spambase dataset, as it achieved the highest accuracy, precision, and F1 score. However, the Multinomial Naive Bayes classifier also performed well, achieving a high precision score, which is important for reducing false positives (classifying non-spam emails as spam). The Gaussian Naive Bayes classifier, on the other hand, had a relatively low accuracy and precision score, but performed better than the other classifiers in terms of recall score, which is important for reducing false negatives (classifying spam emails as non-spam).\n",
    "\n",
    "In future work, more advanced machine learning algorithms could be evaluated on the Spambase dataset to determine if they can achieve even better performance than the Naive Bayes classifiers. Additionally, feature engineering could be used to extract more meaningful features from the email messages, which could improve the performance of the classifiers. Finally, the performance of the classifiers could be evaluated on a larger and more diverse dataset to determine if they are robust to different types of spam emails.\n",
    "\n",
    "\n",
    "\n"
   ]
  },
  {
   "cell_type": "code",
   "execution_count": null,
   "id": "60b34b43-90fb-4392-a551-dcef8b02b631",
   "metadata": {},
   "outputs": [],
   "source": []
  }
 ],
 "metadata": {
  "kernelspec": {
   "display_name": "Python 3 (ipykernel)",
   "language": "python",
   "name": "python3"
  },
  "language_info": {
   "codemirror_mode": {
    "name": "ipython",
    "version": 3
   },
   "file_extension": ".py",
   "mimetype": "text/x-python",
   "name": "python",
   "nbconvert_exporter": "python",
   "pygments_lexer": "ipython3",
   "version": "3.10.8"
  }
 },
 "nbformat": 4,
 "nbformat_minor": 5
}
